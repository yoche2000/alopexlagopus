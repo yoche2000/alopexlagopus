{
  "nbformat": 4,
  "nbformat_minor": 0,
  "metadata": {
    "colab": {
      "name": "Copy of EEE3548_basic_signal_processing.ipynb",
      "provenance": [],
      "collapsed_sections": [],
      "toc_visible": true
    },
    "kernelspec": {
      "name": "python3",
      "display_name": "Python 3"
    },
    "language_info": {
      "name": "python"
    }
  },
  "cells": [
    {
      "cell_type": "markdown",
      "metadata": {
        "id": "iVjAohNcD_89"
      },
      "source": [
        "# Fourier Analysis and Transform"
      ]
    },
    {
      "cell_type": "markdown",
      "metadata": {
        "id": "AXPXxtjfpcJQ"
      },
      "source": [
        "## Discrete-Time Fourier Transform\n",
        "\n",
        "For an absolutely summable discrete signal of \n",
        "$x(n)$,\n",
        "its discrete Fourier transform is given by \\\\\n",
        "$$X(j\\omega) \\triangleq \\mathcal F [x(n)] = \\sum_{n=0}^{N-1} x(n) e^{-j\\omega n}$$\n",
        "\n",
        "If $x(n)$ has finite duration, then we can numerically evaluate $X(j\\omega)$ over $[0, \\pi]$ frequencies.\n",
        "\n",
        "Computing $X(j\\omega)$ over equispaced frequencies can be done in a form of matrix-vector multiplication. \n",
        "\n",
        "For M+1 equispaced discrete frequencies of \n",
        " $\\omega_k \\triangleq \\frac{\\pi}{M}k$,   for $k = 0, 1, \\dots, M$, \\\\\n",
        "\n",
        "$$ X(j\\omega_k) = \\sum_{l=1}^N e^{-j \\omega_k n_l}x(n_l) $$\n",
        "\n",
        "Rearranging ${x(n_l)}$ and $X(j\\omega_k)$ as colume vectors $\\mathbf x$ and $\\mathbf X$, we get \n",
        "\n",
        "$$\\mathbf {X} = \\mathbf W \\mathbf{ x}$$\n",
        "\n",
        "\n",
        "where the (M+1)-by-N matrix $\\mathbf W$ can be defined in terms of the row vectors $\\mathbf k = \\{k\\}$ and $\\mathbf n = \\{n_l\\}$\n",
        "\n",
        "$$\\mathbf W \\triangleq \\big[ \\text{exp}(-j\\frac{\\pi}{M}\\mathbf k^T \\mathbf n) \\big] $$\n",
        "\n"
      ]
    },
    {
      "cell_type": "code",
      "metadata": {
        "id": "UuNdg_hYpdCo"
      },
      "source": [
        "import matplotlib.pyplot as plt\n",
        "import numpy as np\n",
        "%matplotlib inline\n",
        "\n",
        "PI = np.pi \n",
        "\n",
        "def DTFT(x, omega):\n",
        "    N = len(x)\n",
        "    n = np.arange(N)\n",
        "    w = np.exp(-1j * np.outer(omega, n))\n",
        "    X = np.dot(w,x)\n",
        "    return X"
      ],
      "execution_count": null,
      "outputs": []
    },
    {
      "cell_type": "markdown",
      "metadata": {
        "id": "XJSnqSgqplpf"
      },
      "source": [
        "### Example\n",
        "Let's compute the DTFT of signal $x(n) = (0.5)^n$, $0\\leq n < 10$  at 501 equispaced points between [0, $\\pi$] "
      ]
    },
    {
      "cell_type": "code",
      "metadata": {
        "colab": {
          "base_uri": "https://localhost:8080/",
          "height": 243
        },
        "id": "hpj5hO3WpzEO",
        "outputId": "68608439-031d-4d01-ca2c-42fc0c335413"
      },
      "source": [
        "omega = np.arange(0,501)*PI/500\n",
        "n = np.arange(0, 10)\n",
        "x = (0.5)**n\n",
        "X = DTFT(x, omega)\n",
        "\n",
        "plt.figure(figsize=(12,3))\n",
        "plt.subplot(131)\n",
        "plt.plot(x, 'bo')\n",
        "plt.title(\"x\")\n",
        "\n",
        "plt.subplot(132)\n",
        "plt.plot(omega/PI, np.abs(X))\n",
        "plt.xlabel(\"$\\omega$ in $\\pi$ units\")\n",
        "plt.title(\"Magnitude Plot\")\n",
        "\n",
        "plt.subplot(133)\n",
        "plt.plot(omega/PI, np.angle(X))\n",
        "plt.xlabel(\"$\\omega$ in $\\pi$ units\")\n",
        "plt.title(\"Angle Plot\")\n",
        "plt.show()"
      ],
      "execution_count": null,
      "outputs": [
        {
          "output_type": "display_data",
          "data": {
            "image/png": "[encoded data removed]",
            "text/plain": [
              "<Figure size 864x216 with 3 Axes>"
            ]
          },
          "metadata": {
            "tags": [],
            "needs_background": "light"
          }
        }
      ]
    },
    {
      "cell_type": "markdown",
      "metadata": {
        "id": "pJHeATr6qZup"
      },
      "source": [
        "### Question 1\n",
        "Compute the DFT of a signal $x(n) = (0.9 e^{j\\pi/3})^n$, $0\\leq n < 10$ \n",
        " at a total of 401 discrete frequencies over the two periods between $[-2\\pi, 2\\pi]$"
      ]
    },
    {
      "cell_type": "code",
      "metadata": {
        "id": "ccHtsOKypk5A"
      },
      "source": [
        "# your code here\n"
      ],
      "execution_count": null,
      "outputs": []
    },
    {
      "cell_type": "markdown",
      "metadata": {
        "id": "Fc9saaLfmnHd"
      },
      "source": [
        "\n",
        "##Discrete Fourier Series\n",
        "In DTFT, the $\\omega$ is a continuous variable, which means $X(j\\omega)$ cannot be fully computed using numerical methods. (We can only evaluate its value at some points) \n",
        "\n",
        "For numerically computable transforms, let's first consider a periodic signal. \n",
        "A periodic, discrete sequence $\\tilde x(n)$ satiesfies $\\tilde x(n) = \\tilde x(n+kN)$ for all n, k, where N is the fundamental period of the sequence.  \n",
        "\n",
        "We know that periodic functions can be expressed as a linear combination of complex exponentials whose frequencies are multiples of $2\\pi/N$\n",
        "\n",
        "$$\\tilde x(n) = \\frac{1}{N}\\sum_{k=0}^{N-1} \\tilde X(k) e^{j \\frac{2\\pi}{N}kn}, n = 0, \\pm 1, \\dots$$\n",
        "\n",
        "Where $\\tilde X(k)$ are discrete Fourier series coefficients, given by\n",
        "\n",
        "$$\\tilde X(k) = \\sum_{n=0}^{N-1}\\tilde x(n) e^{-j\\frac{2\\pi}{N}nk}, k=0, \\pm 1, \\dots$$\n",
        "\n",
        "DFS can be computed numerically using the following matrix-vector multiplication.\n",
        "\n",
        "$$\\mathbf {\\tilde X} = \\mathbf {W}_N \\mathbf{\\tilde x}$$\n",
        "\n",
        "$$\\mathbf {\\tilde x} = \\frac{1}{N} \\mathbf {W}_N^* \\mathbf{\\tilde X}$$\n",
        "\n",
        "where the N-by-N DFS matrix $\\mathbf {W}_N$ is given by\n",
        "\n",
        "$$\\mathbf {W}_N = \\begin{bmatrix} \n",
        "1 & 1 & \\dots &1\\\\\n",
        "1 & W_N^1 & \\dots & W_N^{(N-1)}\\\\\n",
        "\\vdots & \\vdots & \\ddots & \\vdots\\\\\n",
        "1 & W_N^{(N-1)} & \\dots & W_N^{(N-1)^2}\n",
        "\\end{bmatrix}$$\n",
        "\n",
        "where $W_N \\triangleq e^{-j\\frac{2\\pi}{N}}$\n",
        "\n",
        "Now, try implementing DFS and IDFS below\n",
        "\n"
      ]
    },
    {
      "cell_type": "code",
      "metadata": {
        "id": "45563tsFnlNl"
      },
      "source": [
        "def DFS(x):\n",
        "    N = len(x)\n",
        "    n = np.arange(N)\n",
        "    k = n.reshape((N, 1))\n",
        "    e = np.exp(-2j*PI*k*n / N)\n",
        "    X = np.dot(e, x)\n",
        "    return X\n",
        "    "
      ],
      "execution_count": null,
      "outputs": []
    },
    {
      "cell_type": "markdown",
      "metadata": {
        "id": "aNHLMmS5msiO"
      },
      "source": [
        "### Question 2\n",
        "Define inverse DFS using a similar matrix operation. "
      ]
    },
    {
      "cell_type": "code",
      "metadata": {
        "id": "1J9z0aqXms5I",
        "colab": {
          "base_uri": "https://localhost:8080/",
          "height": 133
        },
        "outputId": "c8815684-4de1-41f5-b08d-004e480bff95"
      },
      "source": [
        "def IDFS(X):\n",
        "    # Your code here\n",
        "   \n",
        "    return x"
      ],
      "execution_count": null,
      "outputs": [
        {
          "output_type": "error",
          "ename": "SyntaxError",
          "evalue": "ignored",
          "traceback": [
            "\u001b[0;36m  File \u001b[0;32m\"<ipython-input-5-3835672c0c81>\"\u001b[0;36m, line \u001b[0;32m3\u001b[0m\n\u001b[0;31m    \u001b[0m\n\u001b[0m    ^\u001b[0m\n\u001b[0;31mSyntaxError\u001b[0m\u001b[0;31m:\u001b[0m unexpected EOF while parsing\n"
          ]
        }
      ]
    },
    {
      "cell_type": "markdown",
      "metadata": {
        "id": "_UQr5VOSoC9Z"
      },
      "source": [
        "### Question 3\n",
        "Now, let's try creating a periodic square wave sequence with fundamental period of N and duty cycle of L and compute its DFS. Try $N=20$ and $L=5$ . \n",
        "Compute the Fourier series coefficients and plot them. Also, try reconstructing the original sequence using the Fourier series coefficients."
      ]
    },
    {
      "cell_type": "code",
      "metadata": {
        "id": "bBCLmS4Uom5u"
      },
      "source": [
        "def squarewave(N,L):\n",
        "    x = np.zeros(N)\n",
        "    x[np.arange(0,L)]=1\n",
        "    return x\n",
        "\n",
        "x = squarewave(20,5)\n",
        "print(x)\n",
        "plt.figure\n",
        "plt.plot(x, 'bo')\n",
        "plt.show()\n",
        "\n",
        "# Your code here\n"
      ],
      "execution_count": null,
      "outputs": []
    },
    {
      "cell_type": "markdown",
      "metadata": {
        "id": "_0U_m49sYA-_"
      },
      "source": [
        "## Discrete Fourier Transform\n",
        "To develop numerically computable Fourier representation of non-periodic signals, we define a periodic signal whose primary shape is that of the finite-duration signal. Using the DFS on this periodic signal, we can practically define and compute a new tranform, named discrete Fourier transform. \n",
        "\n",
        "For a N-point sequence $x(n)$, we define a periodic signal \n",
        "$$ \\tilde x(n) = \\sum_{r=-\\infty}^{\\infty} x(n-rN)$$\n",
        "\n",
        "Now, the discrete Fourier transform of the sequence is defined as\n",
        "\n",
        "$$ X(k) \\triangleq \\text{DFT}[x(n)] = \\begin{cases} \n",
        "\\tilde X(k) \\text{, 0 $\\leq$ k $\\leq$ N-1} \\\\\n",
        "0 \\text{, elsewhere} \n",
        "\\end{cases} = \\tilde X(k)\\mathcal R_N(k) = \\sum_{n=0}^{N-1} x(n)W_N^{nk}$$\n",
        "\n",
        "where $\\mathcal R_N(k)$ is a window operation.\n",
        "\n",
        "We can easily see that the DFT matrix is the same as the DFS matrix defined earlier. "
      ]
    },
    {
      "cell_type": "code",
      "metadata": {
        "id": "YUx8HTujbLV7"
      },
      "source": [
        "def DFT(x):\n",
        "    X = DFS(x)\n",
        "    return X\n",
        "\n",
        "def IDFT(X):\n",
        "    x = IDFS(X)\n",
        "    return x\n",
        "    "
      ],
      "execution_count": null,
      "outputs": []
    },
    {
      "cell_type": "markdown",
      "metadata": {
        "id": "xai1qLINy9Yc"
      },
      "source": [
        "### Question 4\n",
        "For a four-point sequence \n",
        "$$x(n) = \\begin{cases} 1 \\text{, 0 $\\leq n \\leq$ 3} \\\\ 0 \\text{, otherwise} \n",
        "\\end{cases}$$ \n",
        "Compute and plot the four-point DFT of $x(n)$. \n",
        "\n",
        "\n",
        "\n"
      ]
    },
    {
      "cell_type": "code",
      "metadata": {
        "id": "O9qFrnzCjmX4"
      },
      "source": [
        "# Your code here\n"
      ],
      "execution_count": null,
      "outputs": []
    },
    {
      "cell_type": "markdown",
      "metadata": {
        "id": "bjPWe_7Cl2eP"
      },
      "source": [
        "### Question 5\n",
        "How can we obtain DFT values at finer frequencies? First, for x(n) in Q3, try using the DTFT to get $X(j\\omega_k)$ at finer frequencies between [0, $2\\pi$]. Plot $X(j\\omega_k) in pi-units and overlay your results from Q4"
      ]
    },
    {
      "cell_type": "code",
      "metadata": {
        "id": "0XDrVDU0l9C_"
      },
      "source": [
        "# Your code here\n",
        "\n"
      ],
      "execution_count": null,
      "outputs": []
    },
    {
      "cell_type": "markdown",
      "metadata": {
        "id": "GszxFKS9nwwI"
      },
      "source": [
        "### Question 6\n",
        "Now, in order to get DFT values at finer frequencies, try using DFT to get the 16-point DFT of the same $x(n)$ as Q3. Explain your method. What does this result imply?"
      ]
    },
    {
      "cell_type": "code",
      "metadata": {
        "id": "jAsxk5-en_7P"
      },
      "source": [
        "# Your code here\n"
      ],
      "execution_count": null,
      "outputs": []
    },
    {
      "cell_type": "markdown",
      "metadata": {
        "id": "u69VpoPYknp4"
      },
      "source": [
        "## Fast Fourier Transform\n",
        "For an N-point sequence $x(n)$, computation of N-point DFT needs a complete set of DFT coefficients, which require $N^2$ multiplications and $N(N-1)$ complex additions. For a large N, computing and storing the DFT matrix becomes very inefficient. To perform DFT in a more efficient manner, FFT algorithm has been developted, which exploits the symmetry in DFT. \n",
        "For more detail on the FFT algorithms, refer to [reference](https://web.eecs.umich.edu/~fessler/course/451/l/pdf/c6.pdf).\n",
        "\n",
        "In MATLAB, the built-in fft function is written as a mixed-radix algorithm. If N is a power of two, then a high-speed radix-2 FFT algorithm is employed. If N is not a power of two, then N is decomposed into prime factors and a slower mixed-radix FFT algorithm is used. Finally, if N is a prime number, then the fft function is reduced to the raw DFT algorithm.\n"
      ]
    },
    {
      "cell_type": "code",
      "metadata": {
        "id": "Fmnh4aS0mBZ2"
      },
      "source": [
        "x = np.random.random(256)\n",
        "\n",
        "%timeit DFT(x)\n"
      ],
      "execution_count": null,
      "outputs": []
    },
    {
      "cell_type": "code",
      "metadata": {
        "id": "3ojgm8o-mbh7"
      },
      "source": [
        "%timeit np.fft.fft(x)\n"
      ],
      "execution_count": null,
      "outputs": []
    },
    {
      "cell_type": "markdown",
      "metadata": {
        "id": "_r_5mzYnjlqs"
      },
      "source": [
        "## Linear Convolution\n",
        "DFT has many useful properties such as linearity, circular folding, symmetry properties (for real sequences) and so on. (Make sure you refresh your memory of Signals and Systems) \n",
        "\n",
        "One of the most important operation in linear systems is the linear convolution. \n",
        "Linear convolution of two sequences of length $N_1$ and $N_2$ can be defined as\n",
        "$$ x_3(n) = x_1(n) * x_2(n) = \\sum_{k=0}^{N_1-1} x_1(k)x_2(n-k) $$\n",
        "\n",
        "Then x_3(n) is an $(N_1+N_2-1)$-point sequence. \n",
        "\n",
        "In general, a circular convolution is an aliased version of a linear convolution. If we perform $(N_1+N_2-1)$-point circular convolution of $x_1(n)$ and $x_2(n)$, the result is equivalent to the linear convolution without any aliasing in the time domain. \n",
        "\n",
        "By the convolution theorem, we can compute linear convolutions using Fourier transforms. Fast convolution is also possible using N-point FFT.\n",
        "\n",
        "$$ x_1(n) * x_2(n) = \\text{IFFT}[\\text{FFT} [x_1(n)] \\cdot \\text{FFT}[x_2(n)]] $$\n",
        "\n",
        "For high-speed convolution (radix-2 method) without aliasing, N should be chosen as\n",
        "$$ N = 2^{\\lceil \\text{log}_2(N_1+N_2 -1)\\rceil}$$\n",
        "\n",
        "where $\\lceil x \\rceil$ is the smallest integer greater than x. \n",
        "\n"
      ]
    },
    {
      "cell_type": "markdown",
      "metadata": {
        "id": "zfBBRzMIokXu"
      },
      "source": [
        "### Question 7\n",
        "Compute linear convolution of two sequences"
      ]
    },
    {
      "cell_type": "code",
      "metadata": {
        "id": "4txAJrqsoyjm"
      },
      "source": [
        "def conv1d(x1, x2):\n",
        "    # Your code here\n",
        "    \n",
        "\n",
        "\n",
        "# your code here\n"
      ],
      "execution_count": null,
      "outputs": []
    },
    {
      "cell_type": "markdown",
      "metadata": {
        "id": "T6gLw10Mo7TC"
      },
      "source": [
        "###Question 8\n",
        "Compute fast linear convolution using FFT and compare your results with Q6. It should be identical"
      ]
    },
    {
      "cell_type": "code",
      "metadata": {
        "id": "5VgVFXy8pA6H"
      },
      "source": [
        "def fftconv(x1, x2): \n",
        "    # Your code here  \n",
        "    \n"
      ],
      "execution_count": null,
      "outputs": []
    },
    {
      "cell_type": "markdown",
      "metadata": {
        "id": "41s6C3Ths5fN"
      },
      "source": [
        "# Generating time-domain and freq-domain signals\n",
        "Before we begin processing signals, let's first generate discrete time-domain signals to play with.\n",
        "\n",
        "\n",
        "\n"
      ]
    },
    {
      "cell_type": "markdown",
      "metadata": {
        "id": "6uyzY2t9pg0W"
      },
      "source": [
        "### Example 2\n",
        "Let's generate 3 sine waves with frequencies 1 Hz, 4 Hz, and 7 Hz, amplitudes 3, 1 and 0.5, and all zero phases. Add this 3 sine waves together with a sampling rate 50 Hz."
      ]
    },
    {
      "cell_type": "code",
      "metadata": {
        "id": "AzYcKPBWv8Fh"
      },
      "source": [
        "# sampling rate (Hz)\n",
        "s_r = 50\n",
        "# sampling interval (sec)\n",
        "t_s = 1.0/s_r\n",
        "duration = 1\n",
        "t = np.arange(0,duration,t_s)\n",
        "\n",
        "freq = 1\n",
        "x = 3*np.sin(2*PI*freq*t)\n",
        "\n",
        "freq = 4\n",
        "x += np.sin(2*PI*freq*t)\n",
        "\n",
        "freq = 7   \n",
        "x += 0.5* np.sin(2*PI*freq*t)\n",
        "\n",
        "plt.figure(figsize = (8, 6))\n",
        "plt.plot(t, x, 'r')\n",
        "plt.ylabel('Amplitude')\n",
        "plt.ylabel('Time(s)')\n",
        "plt.show()\n"
      ],
      "execution_count": null,
      "outputs": []
    },
    {
      "cell_type": "markdown",
      "metadata": {
        "id": "8Zi1CmY_xRDb"
      },
      "source": [
        "### Question 9\n",
        "Compute DFT of the signal and plot the amplitude of the DFT. Let the x-axis be the frequency in Hz unit.\n",
        "\n"
      ]
    },
    {
      "cell_type": "code",
      "metadata": {
        "id": "JMflWLcrxLcG"
      },
      "source": [
        "# your code here\n",
        "\n"
      ],
      "execution_count": null,
      "outputs": []
    },
    {
      "cell_type": "markdown",
      "metadata": {
        "id": "u6GqAp2nvH14"
      },
      "source": [
        "## Question 10\n",
        "Repeat using FFT. Use np.fft.fftshift to flip the frequency domain axis and center the 0 frequency. Plot the result in a proper x-axis units. What are the frequency and magnitude of the non-zero values in the spectrum? \n"
      ]
    },
    {
      "cell_type": "code",
      "metadata": {
        "id": "f9sjrWpS1WjG"
      },
      "source": [
        "# Your code here"
      ],
      "execution_count": null,
      "outputs": []
    },
    {
      "cell_type": "markdown",
      "metadata": {
        "id": "wqmubNJ-xm4e"
      },
      "source": [
        "## Question 11\n",
        "\n",
        "Now, try generating the same signal in the frequency domain. (By defining X(k) using the conditions given in example)\n",
        "Use sampling frequency of 100 Hz. First define $X(k)$ and then compute $x(n)$ using IFFT. "
      ]
    },
    {
      "cell_type": "code",
      "metadata": {
        "id": "ztXDNAzW2RPc"
      },
      "source": [
        "# Your code here"
      ],
      "execution_count": null,
      "outputs": []
    },
    {
      "cell_type": "markdown",
      "metadata": {
        "id": "yILXDNJO_e5Y"
      },
      "source": [
        "# Filters\n",
        "\n"
      ]
    },
    {
      "cell_type": "markdown",
      "metadata": {
        "id": "9Alas_qtAJX-"
      },
      "source": [
        "## Filtering in the time domain\n",
        "A discrete-time system maps a discrete-time input signal $x(n)$ into an output signal $y(n)$. A discrete-time system can be defined by a linear, constant-coefficient difference equations;\n",
        "\n",
        "$$ y(n) = \\sum_{k=1}^K a_k y(n-k) + \\sum_{m=0}^M b_m x(n-m) $$\n",
        "\n",
        "Some useful examples are;\n",
        "\n",
        "\n",
        "*   Simple amplifier : $y(n) = Gx(n)$\n",
        "*   Delay : $y(n) = x(n-n_0)$\n",
        "* two-point moving average : $y(n) = \\frac{1}{2}(x(n)+x(n-1))$\n",
        "* Averaging over duraion over N consecutive epochs of duation L : $y(n) = \\frac{1}{N}\\sum_{k=0}^{N=1}x(n-kL)$\n",
        "* \"leaky integrator\" or first-order lowpass filter :$y(n) = ay(n-1) + x(n)$ with 0 <a <1.\n",
        "\n",
        "Digital filters can be classified into the basis of the equation above. \n",
        "If all the $a_k$ coefficients are zero, then the output only depnds on a finite number of vlues of the input. Such filters are called finite impulse response (FIR) filters. (see examples above)\n",
        "If at least one of the $a_k$ coefficients are nonzero, the filter is called inifinite impulse response (IIR_ filters). \n"
      ]
    },
    {
      "cell_type": "markdown",
      "metadata": {
        "id": "Y1VeQYt_FZJN"
      },
      "source": [
        "### Example 3\n",
        "Let's first create a noisy signal"
      ]
    },
    {
      "cell_type": "code",
      "metadata": {
        "id": "yFHCBfkOAPcp"
      },
      "source": [
        "# sampling rate (Hz)\n",
        "s_r = 500\n",
        "# sampling interval (sec)\n",
        "t_s = 1.0/s_r\n",
        "duration = 1\n",
        "t = np.arange(0,duration,t_s)\n",
        "\n",
        "freq = 2\n",
        "x = 5*np.sin(2*PI*freq*t)\n",
        "\n",
        "# add noise\n",
        "x += np.random.rand(s_r)\n",
        "\n",
        "plt.figure\n",
        "plt.plot(x)"
      ],
      "execution_count": null,
      "outputs": []
    },
    {
      "cell_type": "markdown",
      "metadata": {
        "id": "ZYYvtdnoGBsy"
      },
      "source": [
        "### Question 12\n",
        "Try applying moving average filter of various window sizes"
      ]
    },
    {
      "cell_type": "code",
      "metadata": {
        "id": "U2pR8CqVGLh6"
      },
      "source": [
        "# your code here\n"
      ],
      "execution_count": null,
      "outputs": []
    },
    {
      "cell_type": "markdown",
      "metadata": {
        "id": "yfKb0yy_2RoR"
      },
      "source": [
        "## Filtering in the frequency domain\n",
        "\n",
        "If you know the sources of the noises and their typical frequencies, you can use frequency-selective filters to accurately or approximately select some bands of frequencies and reject others. It can be a lowpass, highpass or bandpass filters chosen with suitable cutoff frequencies to separate the passband and the stop band. \n",
        "A simple and ideal frequency-selective filter can be defined in the frequency domain. For example, a continuous time ideal LPF is;\n",
        "\n",
        "$$ H(j\\omega) = \\begin{cases} 1 \\text{, $|\\omega|\\leq \\omega_c$} \\\\ 0 \\text{, $|\\omega|> \\omega_c$}\\end{cases} $$\n"
      ]
    },
    {
      "cell_type": "markdown",
      "metadata": {
        "id": "sy6Tc8uPJIOS"
      },
      "source": [
        "### Question 13\n",
        "For the signal in example 2, try selecting/blocking each of the sinusoids in the frequency domain"
      ]
    },
    {
      "cell_type": "code",
      "metadata": {
        "id": "yY3qlsxt_lV5"
      },
      "source": [
        "# Your code here"
      ],
      "execution_count": null,
      "outputs": []
    },
    {
      "cell_type": "markdown",
      "metadata": {
        "id": "g3oC18auF44w"
      },
      "source": [
        "# Assignment \n",
        "\n",
        "A sample data from real ECG measurement is provided on Learnus website. \n",
        "With the sample data, process the signal and answer following questions\n",
        "\n",
        "\n",
        "1.   First, plot the signal as a function of time. Discuss about any observations on this signal. \n",
        "2. Any guess on the electrode vector for this ecg measurement? Explain. \n",
        "3.   Analyse and Filter the signal and plot a clean ecg traces. Explain your methods and discuss about the noise components. \n",
        "4. Measure the heartrate from this signal. Are there any variablities in the heartrate over time? Explain your methods and discuss about your results. \n",
        "\n"
      ]
    }
  ]
}