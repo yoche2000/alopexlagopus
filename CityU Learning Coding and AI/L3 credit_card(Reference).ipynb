{
  "nbformat": 4,
  "nbformat_minor": 0,
  "metadata": {
    "colab": {
      "name": "credit_card(Student_version).ipynb",
      "provenance": [],
      "collapsed_sections": []
    },
    "kernelspec": {
      "display_name": "Python 3",
      "language": "python",
      "name": "python3"
    },
    "accelerator": "TPU"
  },
  "cells": [
    {
      "cell_type": "markdown",
      "metadata": {
        "colab_type": "text",
        "id": "28evLAfsadJC"
      },
      "source": [
        "# This notebook demonstrates basic machine learning concepts"
      ]
    },
    {
      "cell_type": "markdown",
      "metadata": {
        "colab_type": "text",
        "id": "rQlte8p-bVPr"
      },
      "source": [
        "Please fill in the codes between the ### START CODE HERE ### and ### END CODE HERE ### comments"
      ]
    },
    {
      "cell_type": "markdown",
      "metadata": {
        "id": "1i9ukY264zm8",
        "colab_type": "text"
      },
      "source": [
        "##### Installing XGBoost and graphviz, uncomment it if you haven't do it"
      ]
    },
    {
      "cell_type": "code",
      "metadata": {
        "id": "UwC4eA8w4zm9",
        "colab_type": "code",
        "colab": {}
      },
      "source": [
        "#! pip install xgboost graphviz"
      ],
      "execution_count": 0,
      "outputs": []
    },
    {
      "cell_type": "markdown",
      "metadata": {
        "id": "5ktvjFmM4znB",
        "colab_type": "text"
      },
      "source": [
        "##### Importing the required libraries"
      ]
    },
    {
      "cell_type": "code",
      "metadata": {
        "colab_type": "code",
        "id": "IAgROjgd3XYk",
        "colab": {}
      },
      "source": [
        "import numpy as np\n",
        "import pandas as pd\n",
        "pd.set_option('display.max_columns', 500)\n",
        "from sklearn.model_selection import train_test_split\n",
        "from sklearn.preprocessing import StandardScaler\n",
        "from sklearn.metrics import confusion_matrix, accuracy_score, \\\n",
        "precision_score, recall_score, f1_score, roc_curve, roc_auc_score, auc\n",
        "from matplotlib import pyplot as plt\n",
        "plt.style.use('seaborn')\n",
        "import seaborn as sns\n",
        "from datetime import datetime #for calculating running time"
      ],
      "execution_count": 0,
      "outputs": []
    },
    {
      "cell_type": "markdown",
      "metadata": {
        "id": "lZEouSZO4znE",
        "colab_type": "text"
      },
      "source": [
        "##### Uncomment this cell if you are using colab"
      ]
    },
    {
      "cell_type": "code",
      "metadata": {
        "colab_type": "code",
        "id": "RKk_L70g83Af",
        "outputId": "4f868e69-2b9b-4ca2-ee1e-3031e925d722",
        "colab": {
          "base_uri": "https://localhost:8080/",
          "height": 123
        }
      },
      "source": [
        "from google.colab import drive\n",
        "drive.mount('/content/drive/')\n"
      ],
      "execution_count": 0,
      "outputs": [
        {
          "output_type": "stream",
          "text": [
            "Go to this URL in a browser: https://accounts.google.com/o/oauth2/auth?client_id=947318989803-6bn6qk8qdgf4n4g3pfee6491hc0brc4i.apps.googleusercontent.com&redirect_uri=urn%3Aietf%3Awg%3Aoauth%3A2.0%3Aoob&scope=email%20https%3A%2F%2Fwww.googleapis.com%2Fauth%2Fdocs.test%20https%3A%2F%2Fwww.googleapis.com%2Fauth%2Fdrive%20https%3A%2F%2Fwww.googleapis.com%2Fauth%2Fdrive.photos.readonly%20https%3A%2F%2Fwww.googleapis.com%2Fauth%2Fpeopleapi.readonly&response_type=code\n",
            "\n",
            "Enter your authorization code:\n",
            "··········\n",
            "Mounted at /content/drive/\n"
          ],
          "name": "stdout"
        }
      ]
    },
    {
      "cell_type": "code",
      "metadata": {
        "id": "bqqhJZ289kZV",
        "colab_type": "code",
        "outputId": "dfca868a-b56e-4de3-810b-a25e77b83321",
        "colab": {
          "base_uri": "https://localhost:8080/",
          "height": 34
        }
      },
      "source": [
        "cd '/content/drive/My Drive/workshop/LCAI2019/lesson4'"
      ],
      "execution_count": 0,
      "outputs": [
        {
          "output_type": "stream",
          "text": [
            "/content/drive/My Drive/workshop/LCAI2019/lesson4\n"
          ],
          "name": "stdout"
        }
      ]
    },
    {
      "cell_type": "code",
      "metadata": {
        "id": "x0ZKShAYEG6S",
        "colab_type": "code",
        "outputId": "3255f780-91eb-4c8f-edd8-8fa957e4f632",
        "colab": {
          "base_uri": "https://localhost:8080/",
          "height": 69
        }
      },
      "source": [
        "ls"
      ],
      "execution_count": 0,
      "outputs": [
        {
          "output_type": "stream",
          "text": [
            "'Advanced_python(reference).ipynb'         UCI_Credit_Card.csv\n",
            "'Advanced_python(student_version).ipynb'   winequality-white.csv\n",
            "'credit_card(Student_version).ipynb'\n"
          ],
          "name": "stdout"
        }
      ]
    },
    {
      "cell_type": "markdown",
      "metadata": {
        "colab_type": "text",
        "id": "cvIV1GRP-lxP"
      },
      "source": [
        "# Default of Credit Card Clients Dataset"
      ]
    },
    {
      "cell_type": "markdown",
      "metadata": {
        "colab_type": "text",
        "id": "4jAsfRtm-jim"
      },
      "source": [
        "**Data sources**\n",
        "\n",
        "**Google drive:** https://drive.google.com/file/d/1E5p9qQK8E3kemMBnGpC4RLSMOUr5RliY/view?usp=sharing\n",
        "\n",
        "**Kaggle:** https://www.kaggle.com/uciml/default-of-credit-card-clients-dataset/home\n",
        "\n",
        "**UCI machine learning repository:** https://archive.ics.uci.edu/ml/datasets/default+of+credit+card+clients#\n",
        "\n",
        "----------------------------------\n",
        "\n",
        "**Dataset Information**\n",
        "\n",
        "This dataset contains information on default payments, demographic factors, credit data, history of payment, and bill statements of credit card clients in Taiwan from April 2005 to September 2005.\n",
        "\n",
        "**Content**\n",
        "\n",
        "**There are 25 variables:**\n",
        "\n",
        "ID: ID of each client\n",
        "\n",
        "LIMIT_BAL: Amount of given credit in NT dollars (includes individual and family/supplementary credit\n",
        "\n",
        "SEX: Gender (1=male, 2=female)\n",
        "\n",
        "EDUCATION: (1=graduate school, 2=university, 3=high school, 4=others, 5=unknown, 6=unknown)\n",
        "\n",
        "MARRIAGE: Marital status (1=married, 2=single, 3=others)\n",
        "\n",
        "AGE: Age in years\n",
        "\n",
        "PAY_0: Repayment status in September, 2005 (-1=pay duly, 1=payment delay for one month, 2=payment delay for two months, ... 8=payment delay for eight months, 9=payment delay for nine months and above)\n",
        "\n",
        "PAY_2: Repayment status in August, 2005 (scale same as above)\n",
        "\n",
        "PAY_3: Repayment status in July, 2005 (scale same as above)\n",
        "\n",
        "PAY_4: Repayment status in June, 2005 (scale same as above)\n",
        "\n",
        "PAY_5: Repayment status in May, 2005 (scale same as above)\n",
        "\n",
        "PAY_6: Repayment status in April, 2005 (scale same as above)\n",
        "\n",
        "BILL_AMT1: Amount of bill statement in September, 2005 (NT dollar)\n",
        "\n",
        "BILL_AMT2: Amount of bill statement in August, 2005 (NT dollar)\n",
        "\n",
        "BILL_AMT3: Amount of bill statement in July, 2005 (NT dollar)\n",
        "\n",
        "BILL_AMT4: Amount of bill statement in June, 2005 (NT dollar)\n",
        "\n",
        "BILL_AMT5: Amount of bill statement in May, 2005 (NT dollar)\n",
        "\n",
        "BILL_AMT6: Amount of bill statement in April, 2005 (NT dollar)\n",
        "\n",
        "PAY_AMT1: Amount of previous payment in September, 2005 (NT dollar)\n",
        "\n",
        "PAY_AMT2: Amount of previous payment in August, 2005 (NT dollar)\n",
        "\n",
        "PAY_AMT3: Amount of previous payment in July, 2005 (NT dollar)\n",
        "\n",
        "PAY_AMT4: Amount of previous payment in June, 2005 (NT dollar)\n",
        "\n",
        "PAY_AMT5: Amount of previous payment in May, 2005 (NT dollar)\n",
        "\n",
        "PAY_AMT6: Amount of previous payment in April, 2005 (NT dollar)\n",
        "\n",
        "default.payment.next.month: Default payment (1=yes, 0=no)"
      ]
    },
    {
      "cell_type": "markdown",
      "metadata": {
        "id": "VFbEDDKE4znI",
        "colab_type": "text"
      },
      "source": [
        "# Setting the random seed and reading the data"
      ]
    },
    {
      "cell_type": "code",
      "metadata": {
        "colab_type": "code",
        "id": "vszfIFIf9R6T",
        "outputId": "bceb44d4-ec9c-4773-853b-f635bb7c44cd",
        "colab": {
          "base_uri": "https://localhost:8080/",
          "height": 222
        }
      },
      "source": [
        "RAND_SEED = 41\n",
        "df = pd.read_csv('UCI_Credit_Card.csv')\n",
        "df.head()\n",
        "\n"
      ],
      "execution_count": 0,
      "outputs": [
        {
          "output_type": "execute_result",
          "data": {
            "text/html": [
              "<div>\n",
              "<style scoped>\n",
              "    .dataframe tbody tr th:only-of-type {\n",
              "        vertical-align: middle;\n",
              "    }\n",
              "\n",
              "    .dataframe tbody tr th {\n",
              "        vertical-align: top;\n",
              "    }\n",
              "\n",
              "    .dataframe thead th {\n",
              "        text-align: right;\n",
              "    }\n",
              "</style>\n",
              "<table border=\"1\" class=\"dataframe\">\n",
              "  <thead>\n",
              "    <tr style=\"text-align: right;\">\n",
              "      <th></th>\n",
              "      <th>ID</th>\n",
              "      <th>LIMIT_BAL</th>\n",
              "      <th>SEX</th>\n",
              "      <th>EDUCATION</th>\n",
              "      <th>MARRIAGE</th>\n",
              "      <th>AGE</th>\n",
              "      <th>PAY_0</th>\n",
              "      <th>PAY_2</th>\n",
              "      <th>PAY_3</th>\n",
              "      <th>PAY_4</th>\n",
              "      <th>PAY_5</th>\n",
              "      <th>PAY_6</th>\n",
              "      <th>BILL_AMT1</th>\n",
              "      <th>BILL_AMT2</th>\n",
              "      <th>BILL_AMT3</th>\n",
              "      <th>BILL_AMT4</th>\n",
              "      <th>BILL_AMT5</th>\n",
              "      <th>BILL_AMT6</th>\n",
              "      <th>PAY_AMT1</th>\n",
              "      <th>PAY_AMT2</th>\n",
              "      <th>PAY_AMT3</th>\n",
              "      <th>PAY_AMT4</th>\n",
              "      <th>PAY_AMT5</th>\n",
              "      <th>PAY_AMT6</th>\n",
              "      <th>default.payment.next.month</th>\n",
              "    </tr>\n",
              "  </thead>\n",
              "  <tbody>\n",
              "    <tr>\n",
              "      <th>0</th>\n",
              "      <td>1</td>\n",
              "      <td>20000.0</td>\n",
              "      <td>2</td>\n",
              "      <td>2</td>\n",
              "      <td>1</td>\n",
              "      <td>24</td>\n",
              "      <td>2</td>\n",
              "      <td>2</td>\n",
              "      <td>-1</td>\n",
              "      <td>-1</td>\n",
              "      <td>-2</td>\n",
              "      <td>-2</td>\n",
              "      <td>3913.0</td>\n",
              "      <td>3102.0</td>\n",
              "      <td>689.0</td>\n",
              "      <td>0.0</td>\n",
              "      <td>0.0</td>\n",
              "      <td>0.0</td>\n",
              "      <td>0.0</td>\n",
              "      <td>689.0</td>\n",
              "      <td>0.0</td>\n",
              "      <td>0.0</td>\n",
              "      <td>0.0</td>\n",
              "      <td>0.0</td>\n",
              "      <td>1</td>\n",
              "    </tr>\n",
              "    <tr>\n",
              "      <th>1</th>\n",
              "      <td>2</td>\n",
              "      <td>120000.0</td>\n",
              "      <td>2</td>\n",
              "      <td>2</td>\n",
              "      <td>2</td>\n",
              "      <td>26</td>\n",
              "      <td>-1</td>\n",
              "      <td>2</td>\n",
              "      <td>0</td>\n",
              "      <td>0</td>\n",
              "      <td>0</td>\n",
              "      <td>2</td>\n",
              "      <td>2682.0</td>\n",
              "      <td>1725.0</td>\n",
              "      <td>2682.0</td>\n",
              "      <td>3272.0</td>\n",
              "      <td>3455.0</td>\n",
              "      <td>3261.0</td>\n",
              "      <td>0.0</td>\n",
              "      <td>1000.0</td>\n",
              "      <td>1000.0</td>\n",
              "      <td>1000.0</td>\n",
              "      <td>0.0</td>\n",
              "      <td>2000.0</td>\n",
              "      <td>1</td>\n",
              "    </tr>\n",
              "    <tr>\n",
              "      <th>2</th>\n",
              "      <td>3</td>\n",
              "      <td>90000.0</td>\n",
              "      <td>2</td>\n",
              "      <td>2</td>\n",
              "      <td>2</td>\n",
              "      <td>34</td>\n",
              "      <td>0</td>\n",
              "      <td>0</td>\n",
              "      <td>0</td>\n",
              "      <td>0</td>\n",
              "      <td>0</td>\n",
              "      <td>0</td>\n",
              "      <td>29239.0</td>\n",
              "      <td>14027.0</td>\n",
              "      <td>13559.0</td>\n",
              "      <td>14331.0</td>\n",
              "      <td>14948.0</td>\n",
              "      <td>15549.0</td>\n",
              "      <td>1518.0</td>\n",
              "      <td>1500.0</td>\n",
              "      <td>1000.0</td>\n",
              "      <td>1000.0</td>\n",
              "      <td>1000.0</td>\n",
              "      <td>5000.0</td>\n",
              "      <td>0</td>\n",
              "    </tr>\n",
              "    <tr>\n",
              "      <th>3</th>\n",
              "      <td>4</td>\n",
              "      <td>50000.0</td>\n",
              "      <td>2</td>\n",
              "      <td>2</td>\n",
              "      <td>1</td>\n",
              "      <td>37</td>\n",
              "      <td>0</td>\n",
              "      <td>0</td>\n",
              "      <td>0</td>\n",
              "      <td>0</td>\n",
              "      <td>0</td>\n",
              "      <td>0</td>\n",
              "      <td>46990.0</td>\n",
              "      <td>48233.0</td>\n",
              "      <td>49291.0</td>\n",
              "      <td>28314.0</td>\n",
              "      <td>28959.0</td>\n",
              "      <td>29547.0</td>\n",
              "      <td>2000.0</td>\n",
              "      <td>2019.0</td>\n",
              "      <td>1200.0</td>\n",
              "      <td>1100.0</td>\n",
              "      <td>1069.0</td>\n",
              "      <td>1000.0</td>\n",
              "      <td>0</td>\n",
              "    </tr>\n",
              "    <tr>\n",
              "      <th>4</th>\n",
              "      <td>5</td>\n",
              "      <td>50000.0</td>\n",
              "      <td>1</td>\n",
              "      <td>2</td>\n",
              "      <td>1</td>\n",
              "      <td>57</td>\n",
              "      <td>-1</td>\n",
              "      <td>0</td>\n",
              "      <td>-1</td>\n",
              "      <td>0</td>\n",
              "      <td>0</td>\n",
              "      <td>0</td>\n",
              "      <td>8617.0</td>\n",
              "      <td>5670.0</td>\n",
              "      <td>35835.0</td>\n",
              "      <td>20940.0</td>\n",
              "      <td>19146.0</td>\n",
              "      <td>19131.0</td>\n",
              "      <td>2000.0</td>\n",
              "      <td>36681.0</td>\n",
              "      <td>10000.0</td>\n",
              "      <td>9000.0</td>\n",
              "      <td>689.0</td>\n",
              "      <td>679.0</td>\n",
              "      <td>0</td>\n",
              "    </tr>\n",
              "  </tbody>\n",
              "</table>\n",
              "</div>"
            ],
            "text/plain": [
              "   ID  LIMIT_BAL  SEX  EDUCATION  MARRIAGE  AGE  PAY_0  PAY_2  PAY_3  PAY_4  \\\n",
              "0   1    20000.0    2          2         1   24      2      2     -1     -1   \n",
              "1   2   120000.0    2          2         2   26     -1      2      0      0   \n",
              "2   3    90000.0    2          2         2   34      0      0      0      0   \n",
              "3   4    50000.0    2          2         1   37      0      0      0      0   \n",
              "4   5    50000.0    1          2         1   57     -1      0     -1      0   \n",
              "\n",
              "   PAY_5  PAY_6  BILL_AMT1  BILL_AMT2  BILL_AMT3  BILL_AMT4  BILL_AMT5  \\\n",
              "0     -2     -2     3913.0     3102.0      689.0        0.0        0.0   \n",
              "1      0      2     2682.0     1725.0     2682.0     3272.0     3455.0   \n",
              "2      0      0    29239.0    14027.0    13559.0    14331.0    14948.0   \n",
              "3      0      0    46990.0    48233.0    49291.0    28314.0    28959.0   \n",
              "4      0      0     8617.0     5670.0    35835.0    20940.0    19146.0   \n",
              "\n",
              "   BILL_AMT6  PAY_AMT1  PAY_AMT2  PAY_AMT3  PAY_AMT4  PAY_AMT5  PAY_AMT6  \\\n",
              "0        0.0       0.0     689.0       0.0       0.0       0.0       0.0   \n",
              "1     3261.0       0.0    1000.0    1000.0    1000.0       0.0    2000.0   \n",
              "2    15549.0    1518.0    1500.0    1000.0    1000.0    1000.0    5000.0   \n",
              "3    29547.0    2000.0    2019.0    1200.0    1100.0    1069.0    1000.0   \n",
              "4    19131.0    2000.0   36681.0   10000.0    9000.0     689.0     679.0   \n",
              "\n",
              "   default.payment.next.month  \n",
              "0                           1  \n",
              "1                           1  \n",
              "2                           0  \n",
              "3                           0  \n",
              "4                           0  "
            ]
          },
          "metadata": {
            "tags": []
          },
          "execution_count": 5
        }
      ]
    },
    {
      "cell_type": "markdown",
      "metadata": {
        "id": "xla5peer4znN",
        "colab_type": "text"
      },
      "source": [
        "\n",
        "\n",
        "\n",
        "\n",
        "\n",
        "\n",
        "\n",
        "\n",
        "\n",
        "\n",
        "\n",
        "\n",
        "\n",
        "\n",
        "\n",
        "\n",
        "\n",
        "\n",
        "\n",
        "\n",
        "\n",
        "\n",
        "\n",
        "\n",
        "\n",
        "\n",
        "\n",
        "\n",
        "\n",
        "\n",
        "\n",
        "\n",
        "\n",
        "\n",
        "# Exploratory data analysis"
      ]
    },
    {
      "cell_type": "code",
      "metadata": {
        "colab_type": "code",
        "id": "5jHChKiUquV7",
        "outputId": "34ac6414-bd0d-462a-fa74-0d8a82f143a0",
        "colab": {
          "base_uri": "https://localhost:8080/",
          "height": 537
        }
      },
      "source": [
        "df.info()"
      ],
      "execution_count": 0,
      "outputs": [
        {
          "output_type": "stream",
          "text": [
            "<class 'pandas.core.frame.DataFrame'>\n",
            "RangeIndex: 30000 entries, 0 to 29999\n",
            "Data columns (total 25 columns):\n",
            "ID                            30000 non-null int64\n",
            "LIMIT_BAL                     30000 non-null float64\n",
            "SEX                           30000 non-null int64\n",
            "EDUCATION                     30000 non-null int64\n",
            "MARRIAGE                      30000 non-null int64\n",
            "AGE                           30000 non-null int64\n",
            "PAY_0                         30000 non-null int64\n",
            "PAY_2                         30000 non-null int64\n",
            "PAY_3                         30000 non-null int64\n",
            "PAY_4                         30000 non-null int64\n",
            "PAY_5                         30000 non-null int64\n",
            "PAY_6                         30000 non-null int64\n",
            "BILL_AMT1                     30000 non-null float64\n",
            "BILL_AMT2                     30000 non-null float64\n",
            "BILL_AMT3                     30000 non-null float64\n",
            "BILL_AMT4                     30000 non-null float64\n",
            "BILL_AMT5                     30000 non-null float64\n",
            "BILL_AMT6                     30000 non-null float64\n",
            "PAY_AMT1                      30000 non-null float64\n",
            "PAY_AMT2                      30000 non-null float64\n",
            "PAY_AMT3                      30000 non-null float64\n",
            "PAY_AMT4                      30000 non-null float64\n",
            "PAY_AMT5                      30000 non-null float64\n",
            "PAY_AMT6                      30000 non-null float64\n",
            "default.payment.next.month    30000 non-null int64\n",
            "dtypes: float64(13), int64(12)\n",
            "memory usage: 5.7 MB\n"
          ],
          "name": "stdout"
        }
      ]
    },
    {
      "cell_type": "code",
      "metadata": {
        "id": "8aHCSTSNeDOf",
        "colab_type": "code",
        "outputId": "e5dbf380-dc95-4e23-b7dc-1f55d93d6305",
        "colab": {
          "base_uri": "https://localhost:8080/",
          "height": 467
        }
      },
      "source": [
        "df.isnull().sum()"
      ],
      "execution_count": 0,
      "outputs": [
        {
          "output_type": "execute_result",
          "data": {
            "text/plain": [
              "ID                            0\n",
              "LIMIT_BAL                     0\n",
              "SEX                           0\n",
              "EDUCATION                     0\n",
              "MARRIAGE                      0\n",
              "AGE                           0\n",
              "PAY_0                         0\n",
              "PAY_2                         0\n",
              "PAY_3                         0\n",
              "PAY_4                         0\n",
              "PAY_5                         0\n",
              "PAY_6                         0\n",
              "BILL_AMT1                     0\n",
              "BILL_AMT2                     0\n",
              "BILL_AMT3                     0\n",
              "BILL_AMT4                     0\n",
              "BILL_AMT5                     0\n",
              "BILL_AMT6                     0\n",
              "PAY_AMT1                      0\n",
              "PAY_AMT2                      0\n",
              "PAY_AMT3                      0\n",
              "PAY_AMT4                      0\n",
              "PAY_AMT5                      0\n",
              "PAY_AMT6                      0\n",
              "default.payment.next.month    0\n",
              "dtype: int64"
            ]
          },
          "metadata": {
            "tags": []
          },
          "execution_count": 7
        }
      ]
    },
    {
      "cell_type": "code",
      "metadata": {
        "id": "rJvoAvK2eDRh",
        "colab_type": "code",
        "outputId": "a5cfe7db-07bc-4405-9636-e7ba1e88dda0",
        "colab": {
          "base_uri": "https://localhost:8080/",
          "height": 222
        }
      },
      "source": [
        "df.head()"
      ],
      "execution_count": 0,
      "outputs": [
        {
          "output_type": "execute_result",
          "data": {
            "text/html": [
              "<div>\n",
              "<style scoped>\n",
              "    .dataframe tbody tr th:only-of-type {\n",
              "        vertical-align: middle;\n",
              "    }\n",
              "\n",
              "    .dataframe tbody tr th {\n",
              "        vertical-align: top;\n",
              "    }\n",
              "\n",
              "    .dataframe thead th {\n",
              "        text-align: right;\n",
              "    }\n",
              "</style>\n",
              "<table border=\"1\" class=\"dataframe\">\n",
              "  <thead>\n",
              "    <tr style=\"text-align: right;\">\n",
              "      <th></th>\n",
              "      <th>ID</th>\n",
              "      <th>LIMIT_BAL</th>\n",
              "      <th>SEX</th>\n",
              "      <th>EDUCATION</th>\n",
              "      <th>MARRIAGE</th>\n",
              "      <th>AGE</th>\n",
              "      <th>PAY_0</th>\n",
              "      <th>PAY_2</th>\n",
              "      <th>PAY_3</th>\n",
              "      <th>PAY_4</th>\n",
              "      <th>PAY_5</th>\n",
              "      <th>PAY_6</th>\n",
              "      <th>BILL_AMT1</th>\n",
              "      <th>BILL_AMT2</th>\n",
              "      <th>BILL_AMT3</th>\n",
              "      <th>BILL_AMT4</th>\n",
              "      <th>BILL_AMT5</th>\n",
              "      <th>BILL_AMT6</th>\n",
              "      <th>PAY_AMT1</th>\n",
              "      <th>PAY_AMT2</th>\n",
              "      <th>PAY_AMT3</th>\n",
              "      <th>PAY_AMT4</th>\n",
              "      <th>PAY_AMT5</th>\n",
              "      <th>PAY_AMT6</th>\n",
              "      <th>default.payment.next.month</th>\n",
              "    </tr>\n",
              "  </thead>\n",
              "  <tbody>\n",
              "    <tr>\n",
              "      <th>0</th>\n",
              "      <td>1</td>\n",
              "      <td>20000.0</td>\n",
              "      <td>2</td>\n",
              "      <td>2</td>\n",
              "      <td>1</td>\n",
              "      <td>24</td>\n",
              "      <td>2</td>\n",
              "      <td>2</td>\n",
              "      <td>-1</td>\n",
              "      <td>-1</td>\n",
              "      <td>-2</td>\n",
              "      <td>-2</td>\n",
              "      <td>3913.0</td>\n",
              "      <td>3102.0</td>\n",
              "      <td>689.0</td>\n",
              "      <td>0.0</td>\n",
              "      <td>0.0</td>\n",
              "      <td>0.0</td>\n",
              "      <td>0.0</td>\n",
              "      <td>689.0</td>\n",
              "      <td>0.0</td>\n",
              "      <td>0.0</td>\n",
              "      <td>0.0</td>\n",
              "      <td>0.0</td>\n",
              "      <td>1</td>\n",
              "    </tr>\n",
              "    <tr>\n",
              "      <th>1</th>\n",
              "      <td>2</td>\n",
              "      <td>120000.0</td>\n",
              "      <td>2</td>\n",
              "      <td>2</td>\n",
              "      <td>2</td>\n",
              "      <td>26</td>\n",
              "      <td>-1</td>\n",
              "      <td>2</td>\n",
              "      <td>0</td>\n",
              "      <td>0</td>\n",
              "      <td>0</td>\n",
              "      <td>2</td>\n",
              "      <td>2682.0</td>\n",
              "      <td>1725.0</td>\n",
              "      <td>2682.0</td>\n",
              "      <td>3272.0</td>\n",
              "      <td>3455.0</td>\n",
              "      <td>3261.0</td>\n",
              "      <td>0.0</td>\n",
              "      <td>1000.0</td>\n",
              "      <td>1000.0</td>\n",
              "      <td>1000.0</td>\n",
              "      <td>0.0</td>\n",
              "      <td>2000.0</td>\n",
              "      <td>1</td>\n",
              "    </tr>\n",
              "    <tr>\n",
              "      <th>2</th>\n",
              "      <td>3</td>\n",
              "      <td>90000.0</td>\n",
              "      <td>2</td>\n",
              "      <td>2</td>\n",
              "      <td>2</td>\n",
              "      <td>34</td>\n",
              "      <td>0</td>\n",
              "      <td>0</td>\n",
              "      <td>0</td>\n",
              "      <td>0</td>\n",
              "      <td>0</td>\n",
              "      <td>0</td>\n",
              "      <td>29239.0</td>\n",
              "      <td>14027.0</td>\n",
              "      <td>13559.0</td>\n",
              "      <td>14331.0</td>\n",
              "      <td>14948.0</td>\n",
              "      <td>15549.0</td>\n",
              "      <td>1518.0</td>\n",
              "      <td>1500.0</td>\n",
              "      <td>1000.0</td>\n",
              "      <td>1000.0</td>\n",
              "      <td>1000.0</td>\n",
              "      <td>5000.0</td>\n",
              "      <td>0</td>\n",
              "    </tr>\n",
              "    <tr>\n",
              "      <th>3</th>\n",
              "      <td>4</td>\n",
              "      <td>50000.0</td>\n",
              "      <td>2</td>\n",
              "      <td>2</td>\n",
              "      <td>1</td>\n",
              "      <td>37</td>\n",
              "      <td>0</td>\n",
              "      <td>0</td>\n",
              "      <td>0</td>\n",
              "      <td>0</td>\n",
              "      <td>0</td>\n",
              "      <td>0</td>\n",
              "      <td>46990.0</td>\n",
              "      <td>48233.0</td>\n",
              "      <td>49291.0</td>\n",
              "      <td>28314.0</td>\n",
              "      <td>28959.0</td>\n",
              "      <td>29547.0</td>\n",
              "      <td>2000.0</td>\n",
              "      <td>2019.0</td>\n",
              "      <td>1200.0</td>\n",
              "      <td>1100.0</td>\n",
              "      <td>1069.0</td>\n",
              "      <td>1000.0</td>\n",
              "      <td>0</td>\n",
              "    </tr>\n",
              "    <tr>\n",
              "      <th>4</th>\n",
              "      <td>5</td>\n",
              "      <td>50000.0</td>\n",
              "      <td>1</td>\n",
              "      <td>2</td>\n",
              "      <td>1</td>\n",
              "      <td>57</td>\n",
              "      <td>-1</td>\n",
              "      <td>0</td>\n",
              "      <td>-1</td>\n",
              "      <td>0</td>\n",
              "      <td>0</td>\n",
              "      <td>0</td>\n",
              "      <td>8617.0</td>\n",
              "      <td>5670.0</td>\n",
              "      <td>35835.0</td>\n",
              "      <td>20940.0</td>\n",
              "      <td>19146.0</td>\n",
              "      <td>19131.0</td>\n",
              "      <td>2000.0</td>\n",
              "      <td>36681.0</td>\n",
              "      <td>10000.0</td>\n",
              "      <td>9000.0</td>\n",
              "      <td>689.0</td>\n",
              "      <td>679.0</td>\n",
              "      <td>0</td>\n",
              "    </tr>\n",
              "  </tbody>\n",
              "</table>\n",
              "</div>"
            ],
            "text/plain": [
              "   ID  LIMIT_BAL  SEX  EDUCATION  MARRIAGE  AGE  PAY_0  PAY_2  PAY_3  PAY_4  \\\n",
              "0   1    20000.0    2          2         1   24      2      2     -1     -1   \n",
              "1   2   120000.0    2          2         2   26     -1      2      0      0   \n",
              "2   3    90000.0    2          2         2   34      0      0      0      0   \n",
              "3   4    50000.0    2          2         1   37      0      0      0      0   \n",
              "4   5    50000.0    1          2         1   57     -1      0     -1      0   \n",
              "\n",
              "   PAY_5  PAY_6  BILL_AMT1  BILL_AMT2  BILL_AMT3  BILL_AMT4  BILL_AMT5  \\\n",
              "0     -2     -2     3913.0     3102.0      689.0        0.0        0.0   \n",
              "1      0      2     2682.0     1725.0     2682.0     3272.0     3455.0   \n",
              "2      0      0    29239.0    14027.0    13559.0    14331.0    14948.0   \n",
              "3      0      0    46990.0    48233.0    49291.0    28314.0    28959.0   \n",
              "4      0      0     8617.0     5670.0    35835.0    20940.0    19146.0   \n",
              "\n",
              "   BILL_AMT6  PAY_AMT1  PAY_AMT2  PAY_AMT3  PAY_AMT4  PAY_AMT5  PAY_AMT6  \\\n",
              "0        0.0       0.0     689.0       0.0       0.0       0.0       0.0   \n",
              "1     3261.0       0.0    1000.0    1000.0    1000.0       0.0    2000.0   \n",
              "2    15549.0    1518.0    1500.0    1000.0    1000.0    1000.0    5000.0   \n",
              "3    29547.0    2000.0    2019.0    1200.0    1100.0    1069.0    1000.0   \n",
              "4    19131.0    2000.0   36681.0   10000.0    9000.0     689.0     679.0   \n",
              "\n",
              "   default.payment.next.month  \n",
              "0                           1  \n",
              "1                           1  \n",
              "2                           0  \n",
              "3                           0  \n",
              "4                           0  "
            ]
          },
          "metadata": {
            "tags": []
          },
          "execution_count": 9
        }
      ]
    },
    {
      "cell_type": "code",
      "metadata": {
        "id": "NCxWKt6-JOzx",
        "colab_type": "code",
        "outputId": "016ff5dd-5f7b-4351-c99f-911a998db5a0",
        "colab": {
          "base_uri": "https://localhost:8080/",
          "height": 69
        }
      },
      "source": [
        "df['default.payment.next.month'].value_counts(normalize=True)"
      ],
      "execution_count": 0,
      "outputs": [
        {
          "output_type": "execute_result",
          "data": {
            "text/plain": [
              "0    0.7788\n",
              "1    0.2212\n",
              "Name: default.payment.next.month, dtype: float64"
            ]
          },
          "metadata": {
            "tags": []
          },
          "execution_count": 13
        }
      ]
    },
    {
      "cell_type": "code",
      "metadata": {
        "id": "uOsybNYUJOvg",
        "colab_type": "code",
        "outputId": "8fed629e-df08-4a04-ea70-79c720e575a3",
        "colab": {
          "base_uri": "https://localhost:8080/",
          "height": 364
        }
      },
      "source": [
        "df['default.payment.next.month'].plot(kind='hist')"
      ],
      "execution_count": 0,
      "outputs": [
        {
          "output_type": "execute_result",
          "data": {
            "text/plain": [
              "<matplotlib.axes._subplots.AxesSubplot at 0x7fd21c844860>"
            ]
          },
          "metadata": {
            "tags": []
          },
          "execution_count": 15
        },
        {
          "output_type": "display_data",
          "data": {
            "image/png": "[encoded data removed]",
            "text/plain": [
              "<Figure size 576x396 with 1 Axes>"
            ]
          },
          "metadata": {
            "tags": []
          }
        }
      ]
    },
    {
      "cell_type": "code",
      "metadata": {
        "id": "ii-MkpMzJOix",
        "colab_type": "code",
        "outputId": "97b8ca1a-8e29-43cc-eafd-9cfd81fa94ab",
        "colab": {
          "base_uri": "https://localhost:8080/",
          "height": 242
        }
      },
      "source": [
        "df.drop(['ID','default.payment.next.month'],axis=1).values"
      ],
      "execution_count": 0,
      "outputs": [
        {
          "output_type": "execute_result",
          "data": {
            "text/plain": [
              "array([[2.0000e+04, 2.0000e+00, 2.0000e+00, ..., 0.0000e+00, 0.0000e+00,\n",
              "        0.0000e+00],\n",
              "       [1.2000e+05, 2.0000e+00, 2.0000e+00, ..., 1.0000e+03, 0.0000e+00,\n",
              "        2.0000e+03],\n",
              "       [9.0000e+04, 2.0000e+00, 2.0000e+00, ..., 1.0000e+03, 1.0000e+03,\n",
              "        5.0000e+03],\n",
              "       ...,\n",
              "       [3.0000e+04, 1.0000e+00, 2.0000e+00, ..., 4.2000e+03, 2.0000e+03,\n",
              "        3.1000e+03],\n",
              "       [8.0000e+04, 1.0000e+00, 3.0000e+00, ..., 1.9260e+03, 5.2964e+04,\n",
              "        1.8040e+03],\n",
              "       [5.0000e+04, 1.0000e+00, 2.0000e+00, ..., 1.0000e+03, 1.0000e+03,\n",
              "        1.0000e+03]])"
            ]
          },
          "metadata": {
            "tags": []
          },
          "execution_count": 19
        }
      ]
    },
    {
      "cell_type": "code",
      "metadata": {
        "id": "5PlSb0acNa8C",
        "colab_type": "code",
        "colab": {}
      },
      "source": [
        ""
      ],
      "execution_count": 0,
      "outputs": []
    },
    {
      "cell_type": "markdown",
      "metadata": {
        "id": "a7g9RrdC4znh",
        "colab_type": "text"
      },
      "source": [
        "# Train test split"
      ]
    },
    {
      "cell_type": "code",
      "metadata": {
        "colab_type": "code",
        "id": "7fLAftotEHqT",
        "colab": {}
      },
      "source": [
        "### START CODE HERE ### (1~2 lines)\n",
        "x_train, x_test, y_train, y_test = train_test_split(\n",
        "    df.drop(['ID','default.payment.next.month'],axis=1),\n",
        "    df[['default.payment.next.month']],\n",
        "    test_size = 0.3,\n",
        "    random_state = RAND_SEED,\n",
        "    \n",
        ")#call the train_test_split() function\n",
        "### END CODE HERE ###\n",
        "\n",
        "y_train = y_train.values.ravel()\n",
        "y_test = y_test.values.ravel()\n",
        "\n",
        "x_train = x_train.astype(np.float64)\n",
        "x_test = x_test.astype(np.float64)"
      ],
      "execution_count": 0,
      "outputs": []
    },
    {
      "cell_type": "code",
      "metadata": {
        "id": "-ABtGclR4znl",
        "colab_type": "code",
        "outputId": "6ef12e08-d65f-4b8c-b71d-368acce23cce",
        "colab": {
          "base_uri": "https://localhost:8080/",
          "height": 314
        }
      },
      "source": [
        "x_train.describe()"
      ],
      "execution_count": 0,
      "outputs": [
        {
          "output_type": "execute_result",
          "data": {
            "text/html": [
              "<div>\n",
              "<style scoped>\n",
              "    .dataframe tbody tr th:only-of-type {\n",
              "        vertical-align: middle;\n",
              "    }\n",
              "\n",
              "    .dataframe tbody tr th {\n",
              "        vertical-align: top;\n",
              "    }\n",
              "\n",
              "    .dataframe thead th {\n",
              "        text-align: right;\n",
              "    }\n",
              "</style>\n",
              "<table border=\"1\" class=\"dataframe\">\n",
              "  <thead>\n",
              "    <tr style=\"text-align: right;\">\n",
              "      <th></th>\n",
              "      <th>LIMIT_BAL</th>\n",
              "      <th>SEX</th>\n",
              "      <th>EDUCATION</th>\n",
              "      <th>MARRIAGE</th>\n",
              "      <th>AGE</th>\n",
              "      <th>PAY_0</th>\n",
              "      <th>PAY_2</th>\n",
              "      <th>PAY_3</th>\n",
              "      <th>PAY_4</th>\n",
              "      <th>PAY_5</th>\n",
              "      <th>PAY_6</th>\n",
              "      <th>BILL_AMT1</th>\n",
              "      <th>BILL_AMT2</th>\n",
              "      <th>BILL_AMT3</th>\n",
              "      <th>BILL_AMT4</th>\n",
              "      <th>BILL_AMT5</th>\n",
              "      <th>BILL_AMT6</th>\n",
              "      <th>PAY_AMT1</th>\n",
              "      <th>PAY_AMT2</th>\n",
              "      <th>PAY_AMT3</th>\n",
              "      <th>PAY_AMT4</th>\n",
              "      <th>PAY_AMT5</th>\n",
              "      <th>PAY_AMT6</th>\n",
              "    </tr>\n",
              "  </thead>\n",
              "  <tbody>\n",
              "    <tr>\n",
              "      <th>count</th>\n",
              "      <td>21000.000000</td>\n",
              "      <td>21000.000000</td>\n",
              "      <td>21000.000000</td>\n",
              "      <td>21000.000000</td>\n",
              "      <td>21000.000000</td>\n",
              "      <td>21000.000000</td>\n",
              "      <td>21000.000000</td>\n",
              "      <td>21000.000000</td>\n",
              "      <td>21000.000000</td>\n",
              "      <td>21000.000000</td>\n",
              "      <td>21000.000000</td>\n",
              "      <td>21000.000000</td>\n",
              "      <td>21000.000000</td>\n",
              "      <td>2.100000e+04</td>\n",
              "      <td>21000.000000</td>\n",
              "      <td>21000.000000</td>\n",
              "      <td>21000.000000</td>\n",
              "      <td>21000.000000</td>\n",
              "      <td>2.100000e+04</td>\n",
              "      <td>21000.000000</td>\n",
              "      <td>21000.000000</td>\n",
              "      <td>21000.000000</td>\n",
              "      <td>21000.000000</td>\n",
              "    </tr>\n",
              "    <tr>\n",
              "      <th>mean</th>\n",
              "      <td>167648.746667</td>\n",
              "      <td>1.603857</td>\n",
              "      <td>1.853476</td>\n",
              "      <td>1.556476</td>\n",
              "      <td>35.468810</td>\n",
              "      <td>-0.021905</td>\n",
              "      <td>-0.141810</td>\n",
              "      <td>-0.168095</td>\n",
              "      <td>-0.223238</td>\n",
              "      <td>-0.270429</td>\n",
              "      <td>-0.297238</td>\n",
              "      <td>51028.653286</td>\n",
              "      <td>49003.502333</td>\n",
              "      <td>4.708241e+04</td>\n",
              "      <td>43299.026714</td>\n",
              "      <td>40175.132143</td>\n",
              "      <td>38761.045571</td>\n",
              "      <td>5621.100714</td>\n",
              "      <td>6.090726e+03</td>\n",
              "      <td>5286.833762</td>\n",
              "      <td>4861.353667</td>\n",
              "      <td>4855.033857</td>\n",
              "      <td>5249.062143</td>\n",
              "    </tr>\n",
              "    <tr>\n",
              "      <th>std</th>\n",
              "      <td>130302.004764</td>\n",
              "      <td>0.489106</td>\n",
              "      <td>0.786879</td>\n",
              "      <td>0.522872</td>\n",
              "      <td>9.229215</td>\n",
              "      <td>1.122522</td>\n",
              "      <td>1.193896</td>\n",
              "      <td>1.195070</td>\n",
              "      <td>1.162895</td>\n",
              "      <td>1.127376</td>\n",
              "      <td>1.145175</td>\n",
              "      <td>73936.884536</td>\n",
              "      <td>71470.296751</td>\n",
              "      <td>7.012686e+04</td>\n",
              "      <td>64843.888408</td>\n",
              "      <td>61176.423948</td>\n",
              "      <td>59803.761185</td>\n",
              "      <td>16533.387706</td>\n",
              "      <td>2.535105e+04</td>\n",
              "      <td>18334.173270</td>\n",
              "      <td>16448.046865</td>\n",
              "      <td>15404.708678</td>\n",
              "      <td>17734.780089</td>\n",
              "    </tr>\n",
              "    <tr>\n",
              "      <th>min</th>\n",
              "      <td>10000.000000</td>\n",
              "      <td>1.000000</td>\n",
              "      <td>0.000000</td>\n",
              "      <td>0.000000</td>\n",
              "      <td>21.000000</td>\n",
              "      <td>-2.000000</td>\n",
              "      <td>-2.000000</td>\n",
              "      <td>-2.000000</td>\n",
              "      <td>-2.000000</td>\n",
              "      <td>-2.000000</td>\n",
              "      <td>-2.000000</td>\n",
              "      <td>-154973.000000</td>\n",
              "      <td>-69777.000000</td>\n",
              "      <td>-3.404100e+04</td>\n",
              "      <td>-170000.000000</td>\n",
              "      <td>-81334.000000</td>\n",
              "      <td>-339603.000000</td>\n",
              "      <td>0.000000</td>\n",
              "      <td>0.000000e+00</td>\n",
              "      <td>0.000000</td>\n",
              "      <td>0.000000</td>\n",
              "      <td>0.000000</td>\n",
              "      <td>0.000000</td>\n",
              "    </tr>\n",
              "    <tr>\n",
              "      <th>25%</th>\n",
              "      <td>50000.000000</td>\n",
              "      <td>1.000000</td>\n",
              "      <td>1.000000</td>\n",
              "      <td>1.000000</td>\n",
              "      <td>28.000000</td>\n",
              "      <td>-1.000000</td>\n",
              "      <td>-1.000000</td>\n",
              "      <td>-1.000000</td>\n",
              "      <td>-1.000000</td>\n",
              "      <td>-1.000000</td>\n",
              "      <td>-1.000000</td>\n",
              "      <td>3488.250000</td>\n",
              "      <td>2939.750000</td>\n",
              "      <td>2.685500e+03</td>\n",
              "      <td>2310.000000</td>\n",
              "      <td>1747.000000</td>\n",
              "      <td>1240.000000</td>\n",
              "      <td>1000.000000</td>\n",
              "      <td>8.517500e+02</td>\n",
              "      <td>390.000000</td>\n",
              "      <td>300.000000</td>\n",
              "      <td>249.750000</td>\n",
              "      <td>96.000000</td>\n",
              "    </tr>\n",
              "    <tr>\n",
              "      <th>50%</th>\n",
              "      <td>140000.000000</td>\n",
              "      <td>2.000000</td>\n",
              "      <td>2.000000</td>\n",
              "      <td>2.000000</td>\n",
              "      <td>34.000000</td>\n",
              "      <td>0.000000</td>\n",
              "      <td>0.000000</td>\n",
              "      <td>0.000000</td>\n",
              "      <td>0.000000</td>\n",
              "      <td>0.000000</td>\n",
              "      <td>0.000000</td>\n",
              "      <td>22137.000000</td>\n",
              "      <td>21208.500000</td>\n",
              "      <td>2.016800e+04</td>\n",
              "      <td>19104.000000</td>\n",
              "      <td>18211.000000</td>\n",
              "      <td>17153.500000</td>\n",
              "      <td>2108.000000</td>\n",
              "      <td>2.009000e+03</td>\n",
              "      <td>1800.000000</td>\n",
              "      <td>1500.000000</td>\n",
              "      <td>1500.000000</td>\n",
              "      <td>1500.000000</td>\n",
              "    </tr>\n",
              "    <tr>\n",
              "      <th>75%</th>\n",
              "      <td>240000.000000</td>\n",
              "      <td>2.000000</td>\n",
              "      <td>2.000000</td>\n",
              "      <td>2.000000</td>\n",
              "      <td>41.000000</td>\n",
              "      <td>0.000000</td>\n",
              "      <td>0.000000</td>\n",
              "      <td>0.000000</td>\n",
              "      <td>0.000000</td>\n",
              "      <td>0.000000</td>\n",
              "      <td>0.000000</td>\n",
              "      <td>66635.500000</td>\n",
              "      <td>63194.250000</td>\n",
              "      <td>6.019875e+04</td>\n",
              "      <td>54571.000000</td>\n",
              "      <td>50011.500000</td>\n",
              "      <td>48899.500000</td>\n",
              "      <td>5009.000000</td>\n",
              "      <td>5.000000e+03</td>\n",
              "      <td>4500.000000</td>\n",
              "      <td>4005.000000</td>\n",
              "      <td>4003.000000</td>\n",
              "      <td>4000.000000</td>\n",
              "    </tr>\n",
              "    <tr>\n",
              "      <th>max</th>\n",
              "      <td>1000000.000000</td>\n",
              "      <td>2.000000</td>\n",
              "      <td>6.000000</td>\n",
              "      <td>3.000000</td>\n",
              "      <td>75.000000</td>\n",
              "      <td>8.000000</td>\n",
              "      <td>8.000000</td>\n",
              "      <td>8.000000</td>\n",
              "      <td>8.000000</td>\n",
              "      <td>8.000000</td>\n",
              "      <td>8.000000</td>\n",
              "      <td>964511.000000</td>\n",
              "      <td>983931.000000</td>\n",
              "      <td>1.664089e+06</td>\n",
              "      <td>891586.000000</td>\n",
              "      <td>927171.000000</td>\n",
              "      <td>961664.000000</td>\n",
              "      <td>873552.000000</td>\n",
              "      <td>1.684259e+06</td>\n",
              "      <td>896040.000000</td>\n",
              "      <td>621000.000000</td>\n",
              "      <td>417990.000000</td>\n",
              "      <td>443001.000000</td>\n",
              "    </tr>\n",
              "  </tbody>\n",
              "</table>\n",
              "</div>"
            ],
            "text/plain": [
              "            LIMIT_BAL           SEX     EDUCATION      MARRIAGE           AGE  \\\n",
              "count    21000.000000  21000.000000  21000.000000  21000.000000  21000.000000   \n",
              "mean    167648.746667      1.603857      1.853476      1.556476     35.468810   \n",
              "std     130302.004764      0.489106      0.786879      0.522872      9.229215   \n",
              "min      10000.000000      1.000000      0.000000      0.000000     21.000000   \n",
              "25%      50000.000000      1.000000      1.000000      1.000000     28.000000   \n",
              "50%     140000.000000      2.000000      2.000000      2.000000     34.000000   \n",
              "75%     240000.000000      2.000000      2.000000      2.000000     41.000000   \n",
              "max    1000000.000000      2.000000      6.000000      3.000000     75.000000   \n",
              "\n",
              "              PAY_0         PAY_2         PAY_3         PAY_4         PAY_5  \\\n",
              "count  21000.000000  21000.000000  21000.000000  21000.000000  21000.000000   \n",
              "mean      -0.021905     -0.141810     -0.168095     -0.223238     -0.270429   \n",
              "std        1.122522      1.193896      1.195070      1.162895      1.127376   \n",
              "min       -2.000000     -2.000000     -2.000000     -2.000000     -2.000000   \n",
              "25%       -1.000000     -1.000000     -1.000000     -1.000000     -1.000000   \n",
              "50%        0.000000      0.000000      0.000000      0.000000      0.000000   \n",
              "75%        0.000000      0.000000      0.000000      0.000000      0.000000   \n",
              "max        8.000000      8.000000      8.000000      8.000000      8.000000   \n",
              "\n",
              "              PAY_6      BILL_AMT1      BILL_AMT2     BILL_AMT3  \\\n",
              "count  21000.000000   21000.000000   21000.000000  2.100000e+04   \n",
              "mean      -0.297238   51028.653286   49003.502333  4.708241e+04   \n",
              "std        1.145175   73936.884536   71470.296751  7.012686e+04   \n",
              "min       -2.000000 -154973.000000  -69777.000000 -3.404100e+04   \n",
              "25%       -1.000000    3488.250000    2939.750000  2.685500e+03   \n",
              "50%        0.000000   22137.000000   21208.500000  2.016800e+04   \n",
              "75%        0.000000   66635.500000   63194.250000  6.019875e+04   \n",
              "max        8.000000  964511.000000  983931.000000  1.664089e+06   \n",
              "\n",
              "           BILL_AMT4      BILL_AMT5      BILL_AMT6       PAY_AMT1  \\\n",
              "count   21000.000000   21000.000000   21000.000000   21000.000000   \n",
              "mean    43299.026714   40175.132143   38761.045571    5621.100714   \n",
              "std     64843.888408   61176.423948   59803.761185   16533.387706   \n",
              "min   -170000.000000  -81334.000000 -339603.000000       0.000000   \n",
              "25%      2310.000000    1747.000000    1240.000000    1000.000000   \n",
              "50%     19104.000000   18211.000000   17153.500000    2108.000000   \n",
              "75%     54571.000000   50011.500000   48899.500000    5009.000000   \n",
              "max    891586.000000  927171.000000  961664.000000  873552.000000   \n",
              "\n",
              "           PAY_AMT2       PAY_AMT3       PAY_AMT4       PAY_AMT5  \\\n",
              "count  2.100000e+04   21000.000000   21000.000000   21000.000000   \n",
              "mean   6.090726e+03    5286.833762    4861.353667    4855.033857   \n",
              "std    2.535105e+04   18334.173270   16448.046865   15404.708678   \n",
              "min    0.000000e+00       0.000000       0.000000       0.000000   \n",
              "25%    8.517500e+02     390.000000     300.000000     249.750000   \n",
              "50%    2.009000e+03    1800.000000    1500.000000    1500.000000   \n",
              "75%    5.000000e+03    4500.000000    4005.000000    4003.000000   \n",
              "max    1.684259e+06  896040.000000  621000.000000  417990.000000   \n",
              "\n",
              "            PAY_AMT6  \n",
              "count   21000.000000  \n",
              "mean     5249.062143  \n",
              "std     17734.780089  \n",
              "min         0.000000  \n",
              "25%        96.000000  \n",
              "50%      1500.000000  \n",
              "75%      4000.000000  \n",
              "max    443001.000000  "
            ]
          },
          "metadata": {
            "tags": []
          },
          "execution_count": 23
        }
      ]
    },
    {
      "cell_type": "markdown",
      "metadata": {
        "id": "LLcoRYxK4znp",
        "colab_type": "text"
      },
      "source": [
        "# Feature scaling"
      ]
    },
    {
      "cell_type": "markdown",
      "metadata": {
        "id": "g2LmaoGtdExZ",
        "colab_type": "text"
      },
      "source": [
        "Notice the std of the features, 'SEX' is a categorical variable, 'PAY_0' is a ordinal variable, the rest are continuous variables"
      ]
    },
    {
      "cell_type": "code",
      "metadata": {
        "id": "PCtBgT8idDXH",
        "colab_type": "code",
        "colab": {}
      },
      "source": [
        "x_test[['SEX','PAY_0','AGE','LIMIT_BAL','BILL_AMT1','PAY_AMT1']].describe()"
      ],
      "execution_count": 0,
      "outputs": []
    },
    {
      "cell_type": "markdown",
      "metadata": {
        "id": "m5BliCWM4znq",
        "colab_type": "text"
      },
      "source": [
        "Scale the numerical features only, stack the returned numpy array of scaled features with a numpy array of categorical features\n",
        "\n",
        "Tips: if df is a Pandas dataframe, you can use df.values to turn a dataframe into a numpy array"
      ]
    },
    {
      "cell_type": "code",
      "metadata": {
        "colab_type": "code",
        "id": "TTlGO6HmBdXW",
        "colab": {}
      },
      "source": [
        "cate_features = ['EDUCATION','SEX','MARRIAGE', 'PAY_0', 'PAY_2', 'PAY_3', 'PAY_4', 'PAY_5', 'PAY_6'] #categorical and ordinal features\n",
        "\n",
        "### START CODE HERE ### (3~4 lines)\n",
        "scaler = StandardScaler() #initiate the StandardScaler\n",
        "x_train_s = scaler.fit_transform( x_train.drop(cate_features, axis=1) ) #fit the scaler with train set numerical data and then transform it\n",
        "x_test_s = scaler.transform( x_test.drop(cate_features, axis=1) )#transofrm the test set\n",
        "\n",
        "### END CODE HERE ###"
      ],
      "execution_count": 0,
      "outputs": []
    },
    {
      "cell_type": "code",
      "metadata": {
        "id": "_ztBOi2Xv73c",
        "colab_type": "code",
        "outputId": "238eeb1b-fbb4-4d2e-fb30-77317b2403a3",
        "colab": {
          "base_uri": "https://localhost:8080/",
          "height": 314
        }
      },
      "source": [
        "pd.DataFrame(x_test_s).describe()"
      ],
      "execution_count": 0,
      "outputs": [
        {
          "output_type": "execute_result",
          "data": {
            "text/html": [
              "<div>\n",
              "<style scoped>\n",
              "    .dataframe tbody tr th:only-of-type {\n",
              "        vertical-align: middle;\n",
              "    }\n",
              "\n",
              "    .dataframe tbody tr th {\n",
              "        vertical-align: top;\n",
              "    }\n",
              "\n",
              "    .dataframe thead th {\n",
              "        text-align: right;\n",
              "    }\n",
              "</style>\n",
              "<table border=\"1\" class=\"dataframe\">\n",
              "  <thead>\n",
              "    <tr style=\"text-align: right;\">\n",
              "      <th></th>\n",
              "      <th>0</th>\n",
              "      <th>1</th>\n",
              "      <th>2</th>\n",
              "      <th>3</th>\n",
              "      <th>4</th>\n",
              "      <th>5</th>\n",
              "      <th>6</th>\n",
              "      <th>7</th>\n",
              "      <th>8</th>\n",
              "      <th>9</th>\n",
              "      <th>10</th>\n",
              "      <th>11</th>\n",
              "      <th>12</th>\n",
              "      <th>13</th>\n",
              "    </tr>\n",
              "  </thead>\n",
              "  <tbody>\n",
              "    <tr>\n",
              "      <th>count</th>\n",
              "      <td>9000.000000</td>\n",
              "      <td>9000.000000</td>\n",
              "      <td>9000.000000</td>\n",
              "      <td>9000.000000</td>\n",
              "      <td>9000.000000</td>\n",
              "      <td>9000.000000</td>\n",
              "      <td>9000.000000</td>\n",
              "      <td>9000.000000</td>\n",
              "      <td>9000.000000</td>\n",
              "      <td>9000.000000</td>\n",
              "      <td>9000.000000</td>\n",
              "      <td>9000.000000</td>\n",
              "      <td>9000.000000</td>\n",
              "      <td>9000.000000</td>\n",
              "    </tr>\n",
              "    <tr>\n",
              "      <th>mean</th>\n",
              "      <td>-0.004206</td>\n",
              "      <td>0.006028</td>\n",
              "      <td>0.008777</td>\n",
              "      <td>0.008189</td>\n",
              "      <td>-0.003292</td>\n",
              "      <td>-0.001855</td>\n",
              "      <td>0.007425</td>\n",
              "      <td>0.006171</td>\n",
              "      <td>0.008565</td>\n",
              "      <td>-0.022296</td>\n",
              "      <td>-0.011118</td>\n",
              "      <td>-0.007149</td>\n",
              "      <td>-0.012041</td>\n",
              "      <td>-0.006308</td>\n",
              "    </tr>\n",
              "    <tr>\n",
              "      <th>std</th>\n",
              "      <td>0.985820</td>\n",
              "      <td>0.995975</td>\n",
              "      <td>0.986415</td>\n",
              "      <td>0.986157</td>\n",
              "      <td>0.962622</td>\n",
              "      <td>0.973559</td>\n",
              "      <td>0.979241</td>\n",
              "      <td>0.986081</td>\n",
              "      <td>1.006068</td>\n",
              "      <td>0.647997</td>\n",
              "      <td>0.860730</td>\n",
              "      <td>0.831087</td>\n",
              "      <td>0.972405</td>\n",
              "      <td>1.008067</td>\n",
              "    </tr>\n",
              "    <tr>\n",
              "      <th>min</th>\n",
              "      <td>-1.209901</td>\n",
              "      <td>-1.567756</td>\n",
              "      <td>-2.929712</td>\n",
              "      <td>-1.630499</td>\n",
              "      <td>-2.914023</td>\n",
              "      <td>-1.448360</td>\n",
              "      <td>-1.523207</td>\n",
              "      <td>-4.143852</td>\n",
              "      <td>-0.339993</td>\n",
              "      <td>-0.240261</td>\n",
              "      <td>-0.288366</td>\n",
              "      <td>-0.295565</td>\n",
              "      <td>-0.315173</td>\n",
              "      <td>-0.295983</td>\n",
              "    </tr>\n",
              "    <tr>\n",
              "      <th>25%</th>\n",
              "      <td>-0.902914</td>\n",
              "      <td>-0.809277</td>\n",
              "      <td>-0.639975</td>\n",
              "      <td>-0.642506</td>\n",
              "      <td>-0.633744</td>\n",
              "      <td>-0.630985</td>\n",
              "      <td>-0.626925</td>\n",
              "      <td>-0.626640</td>\n",
              "      <td>-0.282880</td>\n",
              "      <td>-0.209019</td>\n",
              "      <td>-0.267094</td>\n",
              "      <td>-0.279514</td>\n",
              "      <td>-0.298360</td>\n",
              "      <td>-0.286073</td>\n",
              "    </tr>\n",
              "    <tr>\n",
              "      <th>50%</th>\n",
              "      <td>-0.212195</td>\n",
              "      <td>-0.159152</td>\n",
              "      <td>-0.378199</td>\n",
              "      <td>-0.389066</td>\n",
              "      <td>-0.387163</td>\n",
              "      <td>-0.375920</td>\n",
              "      <td>-0.364473</td>\n",
              "      <td>-0.366976</td>\n",
              "      <td>-0.212974</td>\n",
              "      <td>-0.160973</td>\n",
              "      <td>-0.189723</td>\n",
              "      <td>-0.204367</td>\n",
              "      <td>-0.217376</td>\n",
              "      <td>-0.211401</td>\n",
              "    </tr>\n",
              "    <tr>\n",
              "      <th>75%</th>\n",
              "      <td>0.555271</td>\n",
              "      <td>0.707682</td>\n",
              "      <td>0.232682</td>\n",
              "      <td>0.230241</td>\n",
              "      <td>0.186464</td>\n",
              "      <td>0.169522</td>\n",
              "      <td>0.170533</td>\n",
              "      <td>0.182375</td>\n",
              "      <td>-0.037371</td>\n",
              "      <td>-0.043026</td>\n",
              "      <td>-0.036672</td>\n",
              "      <td>-0.048341</td>\n",
              "      <td>-0.048414</td>\n",
              "      <td>-0.061579</td>\n",
              "    </tr>\n",
              "    <tr>\n",
              "      <th>max</th>\n",
              "      <td>4.469349</td>\n",
              "      <td>4.716785</td>\n",
              "      <td>9.410755</td>\n",
              "      <td>9.724082</td>\n",
              "      <td>8.341633</td>\n",
              "      <td>7.440354</td>\n",
              "      <td>7.606017</td>\n",
              "      <td>7.285634</td>\n",
              "      <td>30.204989</td>\n",
              "      <td>22.657320</td>\n",
              "      <td>22.488660</td>\n",
              "      <td>13.752881</td>\n",
              "      <td>27.373709</td>\n",
              "      <td>29.514288</td>\n",
              "    </tr>\n",
              "  </tbody>\n",
              "</table>\n",
              "</div>"
            ],
            "text/plain": [
              "                0            1            2            3            4   \\\n",
              "count  9000.000000  9000.000000  9000.000000  9000.000000  9000.000000   \n",
              "mean     -0.004206     0.006028     0.008777     0.008189    -0.003292   \n",
              "std       0.985820     0.995975     0.986415     0.986157     0.962622   \n",
              "min      -1.209901    -1.567756    -2.929712    -1.630499    -2.914023   \n",
              "25%      -0.902914    -0.809277    -0.639975    -0.642506    -0.633744   \n",
              "50%      -0.212195    -0.159152    -0.378199    -0.389066    -0.387163   \n",
              "75%       0.555271     0.707682     0.232682     0.230241     0.186464   \n",
              "max       4.469349     4.716785     9.410755     9.724082     8.341633   \n",
              "\n",
              "                5            6            7            8            9   \\\n",
              "count  9000.000000  9000.000000  9000.000000  9000.000000  9000.000000   \n",
              "mean     -0.001855     0.007425     0.006171     0.008565    -0.022296   \n",
              "std       0.973559     0.979241     0.986081     1.006068     0.647997   \n",
              "min      -1.448360    -1.523207    -4.143852    -0.339993    -0.240261   \n",
              "25%      -0.630985    -0.626925    -0.626640    -0.282880    -0.209019   \n",
              "50%      -0.375920    -0.364473    -0.366976    -0.212974    -0.160973   \n",
              "75%       0.169522     0.170533     0.182375    -0.037371    -0.043026   \n",
              "max       7.440354     7.606017     7.285634    30.204989    22.657320   \n",
              "\n",
              "                10           11           12           13  \n",
              "count  9000.000000  9000.000000  9000.000000  9000.000000  \n",
              "mean     -0.011118    -0.007149    -0.012041    -0.006308  \n",
              "std       0.860730     0.831087     0.972405     1.008067  \n",
              "min      -0.288366    -0.295565    -0.315173    -0.295983  \n",
              "25%      -0.267094    -0.279514    -0.298360    -0.286073  \n",
              "50%      -0.189723    -0.204367    -0.217376    -0.211401  \n",
              "75%      -0.036672    -0.048341    -0.048414    -0.061579  \n",
              "max      22.488660    13.752881    27.373709    29.514288  "
            ]
          },
          "metadata": {
            "tags": []
          },
          "execution_count": 27
        }
      ]
    },
    {
      "cell_type": "markdown",
      "metadata": {
        "id": "-HQcBIc-ZMPu",
        "colab_type": "text"
      },
      "source": [
        "Combine the array of categorical features with the scaled arrays with np.hstack([ ])"
      ]
    },
    {
      "cell_type": "code",
      "metadata": {
        "id": "B83Uc9WlwXPE",
        "colab_type": "code",
        "colab": {}
      },
      "source": [
        "### START CODE HERE ### (2~4 lines)\n",
        "x_train_s = np.hstack( [x_train_s, x_train[cate_features].values] )# combine x_train_s with categorical and orindal features\n",
        "x_test_s = np.hstack( [x_test_s, x_test[cate_features].values] )# combine x_test_s with categorical and orindal features\n",
        "### END CODE HERE ###"
      ],
      "execution_count": 0,
      "outputs": []
    },
    {
      "cell_type": "code",
      "metadata": {
        "colab_type": "code",
        "id": "jCKRMC74Dx-g",
        "outputId": "36cac6dc-d6a4-424e-f924-a5e65bab35a7",
        "colab": {
          "base_uri": "https://localhost:8080/",
          "height": 86
        }
      },
      "source": [
        "print('x_train shape:', x_train_s.shape)\n",
        "print('y_train shape:', y_train.shape)\n",
        "print('x_test shape:', x_test_s.shape)\n",
        "print('y_test shape:', y_test.shape)"
      ],
      "execution_count": 0,
      "outputs": [
        {
          "output_type": "stream",
          "text": [
            "x_train shape: (21000, 23)\n",
            "y_train shape: (21000,)\n",
            "x_test shape: (9000, 23)\n",
            "y_test shape: (9000,)\n"
          ],
          "name": "stdout"
        }
      ]
    },
    {
      "cell_type": "markdown",
      "metadata": {
        "id": "EqcYvcCnMejn",
        "colab_type": "text"
      },
      "source": [
        "# To be continued next lesson..."
      ]
    },
    {
      "cell_type": "markdown",
      "metadata": {
        "colab_type": "text",
        "id": "9KmTX41lQ3GY"
      },
      "source": [
        "# Training with XGBoost"
      ]
    },
    {
      "cell_type": "code",
      "metadata": {
        "colab_type": "code",
        "id": "xg8uU503NYVG",
        "colab": {}
      },
      "source": [
        "from xgboost import XGBClassifier\n",
        "\n",
        "#Defining the model and its hyperparameters \n",
        "\n",
        "### START CODE HERE ### (1 line)\n",
        "xgb = #specifying the mode\n",
        "### END CODE HERE ###\n"
      ],
      "execution_count": 0,
      "outputs": []
    },
    {
      "cell_type": "code",
      "metadata": {
        "colab_type": "code",
        "id": "d_u4r-CQ1zHW",
        "colab": {}
      },
      "source": [
        "#Fitting the data to the model\n",
        "\n",
        "start = datetime.now()\n",
        "\n",
        "### START CODE HERE ### (1 line)\n",
        "\n",
        "#Fitting the model with x_train_s and y_train\n",
        "\n",
        "### END CODE HERE ###\n",
        "\n",
        "time_elapsed = datetime.now() - start\n",
        "print('Time elapsed:',time_elapsed)"
      ],
      "execution_count": 0,
      "outputs": []
    },
    {
      "cell_type": "code",
      "metadata": {
        "colab_type": "code",
        "id": "NWq3tQkbT4eH",
        "colab": {}
      },
      "source": [
        "#Making the predictions\n",
        "\n",
        "### START CODE HERE ###\n",
        "y_train_pred = #predict class for x_train_s\n",
        "y_train_pred_prob = #predict probability of class 1 for x_train_s\n",
        "\n",
        "y_test_pred =  #predict class for x_test_s\n",
        "y_test_pred_prob = #predict probability of class 1 for x_test_s\n",
        "### END CODE HERE ###"
      ],
      "execution_count": 0,
      "outputs": []
    },
    {
      "cell_type": "markdown",
      "metadata": {
        "colab_type": "text",
        "id": "bAujuGwMHPIR"
      },
      "source": [
        "# Evaluating the model"
      ]
    },
    {
      "cell_type": "markdown",
      "metadata": {
        "id": "n1tXGC_94zny",
        "colab_type": "text"
      },
      "source": [
        "## Functions for model evaluations (Do NOT edit the codes here)"
      ]
    },
    {
      "cell_type": "code",
      "metadata": {
        "colab_type": "code",
        "id": "2En_HqYUXX_f",
        "colab": {}
      },
      "source": [
        "def print_confusion_matrix(confusion_matrix, class_names, figsize = (6,5)):\n",
        "  df_cm = pd.DataFrame(\n",
        "      confusion_matrix, index=class_names, columns=class_names, \n",
        "  )\n",
        "  fig = plt.figure(figsize=figsize)\n",
        "  try:\n",
        "      heatmap = sns.heatmap(df_cm, annot=True, fmt=\"d\", cmap='Reds')\n",
        "  except ValueError:\n",
        "      raise ValueError(\"Confusion matrix values must be integers.\")\n",
        "  heatmap.yaxis.set_ticklabels(heatmap.yaxis.get_ticklabels(), rotation=0, ha='right', fontsize=20)\n",
        "  heatmap.xaxis.set_ticklabels(heatmap.xaxis.get_ticklabels(), rotation=45, ha='right', fontsize=20)\n",
        "  plt.title('Confusion matrix', fontsize=25)\n",
        "  plt.ylabel('True label', fontsize=17)\n",
        "  plt.xlabel('Predicted label', fontsize=17)\n",
        "  return fig\n",
        "  \n",
        "\n",
        "def evaluate_model(y_true, y_pred, y_pred_prob):\n",
        "  '''\n",
        "  y_true: a numpy array of true class label, containing 0 and 1\n",
        "  y_pred: a numpy array of predicted class label, containing 0 and 1\n",
        "  y_pred_prob: a numpy array of predicted probability of belonging to a class\n",
        "  '''  \n",
        "    \n",
        "  tn, fp, fn, tp = confusion_matrix(y_true, y_pred).ravel()\n",
        "  cm = np.array([tp,fn,fp,tn]).reshape(2,2)\n",
        "  acc = accuracy_score(y_true, y_pred)\n",
        "  precision = precision_score(y_true, y_pred)\n",
        "  recall = recall_score(y_true, y_pred)\n",
        "  f1 = f1_score(y_true, y_pred)\n",
        "  roc_auc = roc_auc_score(y_true, y_pred_prob)\n",
        "\n",
        "  print('Accuracy: %.3f'%acc)\n",
        "  print('Precision: %.3f'%precision)\n",
        "  print('Recall: %.3f'%recall)\n",
        "  print('F1 Score: %.3f'%f1)\n",
        "  print('AUC score: %.3f \\n'%roc_auc)\n",
        "  print_confusion_matrix(cm,[1,0])\n",
        "  \n",
        "def plot_roc(y_true, y_pred_prob): \n",
        "  '''\n",
        "  y_true: a numpy array of true class label, containing 0 and 1\n",
        "  y_pred_prob: a numpy array of predicted probability of belonging to a class\n",
        "  '''  \n",
        "    \n",
        "  fpr, tpr, thresholds = roc_curve(y_true, y_pred_prob, pos_label=None, drop_intermediate=False)\n",
        "  roc_auc = roc_auc_score(y_true, y_pred_prob)\n",
        "  plt.figure()\n",
        "  lw = 2\n",
        "  plt.plot(fpr, tpr, color='darkorange',\n",
        "          lw=lw, label='ROC curve (area = %0.3f)' % roc_auc)\n",
        "  plt.plot([0, 1], [0, 1], color='navy', lw=lw, linestyle='--')\n",
        "  plt.xlim([0.0, 1.0])\n",
        "  plt.ylim([0.0, 1.05])\n",
        "  plt.xlabel('False Positive Rate')\n",
        "  plt.ylabel('True Positive Rate')\n",
        "  plt.title('ROC Curve')\n",
        "  plt.legend(loc=\"lower right\")\n",
        "  plt.show()\n",
        "  \n",
        "  "
      ],
      "execution_count": 0,
      "outputs": []
    },
    {
      "cell_type": "markdown",
      "metadata": {
        "id": "__SDoAmq69mF",
        "colab_type": "text"
      },
      "source": [
        "## Model Evaluation on train set\n",
        "\n",
        "Read the function definitions above, determine what arguements should be passed into the functions"
      ]
    },
    {
      "cell_type": "code",
      "metadata": {
        "id": "EtkdJ0Bi6_pW",
        "colab_type": "code",
        "colab": {}
      },
      "source": [
        "### START CODE HERE ###\n",
        "evaluate_model() #What should be filled inside?\n",
        "### END CODE HERE ###"
      ],
      "execution_count": 0,
      "outputs": []
    },
    {
      "cell_type": "code",
      "metadata": {
        "id": "Wl5hzzB-7BS0",
        "colab_type": "code",
        "colab": {}
      },
      "source": [
        "### START CODE HERE ###\n",
        "plot_roc() #What should be filled inside?\n",
        "### END CODE HERE ###"
      ],
      "execution_count": 0,
      "outputs": []
    },
    {
      "cell_type": "markdown",
      "metadata": {
        "id": "RdtVId4G7EAB",
        "colab_type": "text"
      },
      "source": [
        "## Model Evaluation on test set"
      ]
    },
    {
      "cell_type": "code",
      "metadata": {
        "colab_type": "code",
        "id": "oOkYPC6_UDsa",
        "colab": {}
      },
      "source": [
        "### START CODE HERE ###\n",
        "evaluate_model() #What should be filled inside?\n",
        "### END CODE HERE ###"
      ],
      "execution_count": 0,
      "outputs": []
    },
    {
      "cell_type": "code",
      "metadata": {
        "colab_type": "code",
        "id": "jerZYmrQUF81",
        "colab": {}
      },
      "source": [
        "### START CODE HERE ###\n",
        "plot_roc() #What should be filled inside?\n",
        "### END CODE HERE ###"
      ],
      "execution_count": 0,
      "outputs": []
    },
    {
      "cell_type": "markdown",
      "metadata": {
        "id": "avm1sjbg4zoK",
        "colab_type": "text"
      },
      "source": [
        "# Plotting and saving the tree graph"
      ]
    },
    {
      "cell_type": "markdown",
      "metadata": {
        "id": "ZCSVB-qp4zoM",
        "colab_type": "text"
      },
      "source": [
        "Set rankdir to 'UT' for up to down graph or 'LR' for left to right graph, it will generate a file called 'xgb.jpg'.\n",
        "\n",
        "Just run the cell, no need to edit."
      ]
    },
    {
      "cell_type": "code",
      "metadata": {
        "colab_type": "code",
        "id": "O8qhslQlHhxX",
        "colab": {}
      },
      "source": [
        "from xgboost import plot_tree\n",
        "ax = plt.gca()\n",
        "ax.figure.set_size_inches(25, 25)\n",
        "plot_tree(xgb, ax=ax, rankdir='LR')\n",
        "ax.figure.savefig('xgb.jpg')"
      ],
      "execution_count": 0,
      "outputs": []
    },
    {
      "cell_type": "markdown",
      "metadata": {
        "colab_type": "text",
        "id": "rI1JZomTHLA5"
      },
      "source": [
        "# Feature importance\n",
        "Just run the cell, no need to edit."
      ]
    },
    {
      "cell_type": "code",
      "metadata": {
        "colab_type": "code",
        "id": "kN0Vmd2aUdxR",
        "colab": {}
      },
      "source": [
        "features = x_train.columns\n",
        "feature_imp = pd.DataFrame(sorted(zip(xgb.feature_importances_,features)), columns=['Value','Feature'])\n",
        "\n",
        "plt.figure(figsize=(7, 7))\n",
        "sns.barplot(x=\"Value\", y=\"Feature\", data=feature_imp.sort_values(by=\"Value\", ascending=False))\n",
        "plt.title('Features Importance')\n",
        "plt.show()"
      ],
      "execution_count": 0,
      "outputs": []
    },
    {
      "cell_type": "markdown",
      "metadata": {
        "id": "N_0Yz30C4zoP",
        "colab_type": "text"
      },
      "source": [
        "### Question: Can you fit other machine learning models and compare the performance with XGBoost? \n",
        "Many machine learning models are available in sklearn and can be fitted in a similar manner as in XGBoost (XGBoost is compatible with sklearn).\n",
        "\n",
        "Popoluar classification models include: Support Vector Machine, Logistic Regression, Linear Discriminant Analysis, AdaBoost (another type of tree ensemble model).\n",
        "\n",
        "See https://scikit-learn.org/stable/modules/classes.html#module-sklearn.linear_model and below code for reference:\n"
      ]
    },
    {
      "cell_type": "code",
      "metadata": {
        "id": "5brz8g0A4zoQ",
        "colab_type": "code",
        "colab": {}
      },
      "source": [
        "#Building a logistic regression classifier\n",
        "\n",
        "from sklearn.linear_model import LogisticRegression\n",
        "\n",
        "lr = LogisticRegression(solver='newton-cg', random_state=RAND_SEED)\n",
        "\n",
        "start = datetime.now()\n",
        "lr.fit(x_train_s, y_train)\n",
        "time_elapsed = datetime.now() - start\n",
        "print('Time elapsed:',time_elapsed)\n",
        "\n",
        "y_test_pred =  #Predict class label\n",
        "y_test_pred_prob =  #Predict class probability"
      ],
      "execution_count": 0,
      "outputs": []
    },
    {
      "cell_type": "code",
      "metadata": {
        "id": "3PY-wsK84zoS",
        "colab_type": "code",
        "colab": {}
      },
      "source": [
        "evaluate_model() #What should be filled inside?"
      ],
      "execution_count": 0,
      "outputs": []
    },
    {
      "cell_type": "code",
      "metadata": {
        "id": "XEc54S364zoU",
        "colab_type": "code",
        "colab": {}
      },
      "source": [
        "plot_roc() #What should be filled inside?"
      ],
      "execution_count": 0,
      "outputs": []
    },
    {
      "cell_type": "code",
      "metadata": {
        "id": "RGKQqmI0XOlt",
        "colab_type": "code",
        "colab": {}
      },
      "source": [
        ""
      ],
      "execution_count": 0,
      "outputs": []
    }
  ]
}