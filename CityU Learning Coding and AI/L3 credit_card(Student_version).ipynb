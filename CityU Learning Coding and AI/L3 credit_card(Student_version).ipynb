{
  "nbformat": 4,
  "nbformat_minor": 0,
  "metadata": {
    "colab": {
      "name": "credit_card(Student_version).ipynb",
      "provenance": [],
      "collapsed_sections": []
    },
    "kernelspec": {
      "display_name": "Python 3",
      "language": "python",
      "name": "python3"
    },
    "accelerator": "TPU"
  },
  "cells": [
    {
      "cell_type": "markdown",
      "metadata": {
        "colab_type": "text",
        "id": "28evLAfsadJC"
      },
      "source": [
        "# This notebook demonstrates basic machine learning concepts"
      ]
    },
    {
      "cell_type": "markdown",
      "metadata": {
        "colab_type": "text",
        "id": "rQlte8p-bVPr"
      },
      "source": [
        "Please fill in the codes between the ### START CODE HERE ### and ### END CODE HERE ### comments"
      ]
    },
    {
      "cell_type": "markdown",
      "metadata": {
        "id": "1i9ukY264zm8",
        "colab_type": "text"
      },
      "source": [
        "##### Installing XGBoost and graphviz, uncomment it if you haven't do it"
      ]
    },
    {
      "cell_type": "code",
      "metadata": {
        "id": "UwC4eA8w4zm9",
        "colab_type": "code",
        "colab": {}
      },
      "source": [
        "#! pip install xgboost graphviz"
      ],
      "execution_count": 0,
      "outputs": []
    },
    {
      "cell_type": "markdown",
      "metadata": {
        "id": "5ktvjFmM4znB",
        "colab_type": "text"
      },
      "source": [
        "##### Importing the required libraries"
      ]
    },
    {
      "cell_type": "code",
      "metadata": {
        "colab_type": "code",
        "id": "IAgROjgd3XYk",
        "colab": {}
      },
      "source": [
        "import numpy as np\n",
        "import pandas as pd\n",
        "pd.set_option('display.max_columns', 500)\n",
        "from sklearn.model_selection import train_test_split\n",
        "from sklearn.preprocessing import StandardScaler\n",
        "from sklearn.metrics import confusion_matrix, accuracy_score, \\\n",
        "precision_score, recall_score, f1_score, roc_curve, roc_auc_score, auc\n",
        "from matplotlib import pyplot as plt\n",
        "plt.style.use('seaborn')\n",
        "import seaborn as sns\n",
        "from datetime import datetime #for calculating running time"
      ],
      "execution_count": 0,
      "outputs": []
    },
    {
      "cell_type": "markdown",
      "metadata": {
        "id": "lZEouSZO4znE",
        "colab_type": "text"
      },
      "source": [
        "##### Uncomment this cell if you are using colab"
      ]
    },
    {
      "cell_type": "code",
      "metadata": {
        "colab_type": "code",
        "id": "RKk_L70g83Af",
        "colab": {}
      },
      "source": [
        "#from google.colab import drive\n",
        "#drive.mount('/content/drive/')\n"
      ],
      "execution_count": 0,
      "outputs": []
    },
    {
      "cell_type": "code",
      "metadata": {
        "id": "bqqhJZ289kZV",
        "colab_type": "code",
        "colab": {}
      },
      "source": [
        "#cd '/content/drive/My Drive/'"
      ],
      "execution_count": 0,
      "outputs": []
    },
    {
      "cell_type": "markdown",
      "metadata": {
        "colab_type": "text",
        "id": "cvIV1GRP-lxP"
      },
      "source": [
        "# Default of Credit Card Clients Dataset"
      ]
    },
    {
      "cell_type": "markdown",
      "metadata": {
        "colab_type": "text",
        "id": "4jAsfRtm-jim"
      },
      "source": [
        "**Data sources**\n",
        "\n",
        "**Google drive:** https://drive.google.com/file/d/1E5p9qQK8E3kemMBnGpC4RLSMOUr5RliY/view?usp=sharing\n",
        "\n",
        "**Kaggle:** https://www.kaggle.com/uciml/default-of-credit-card-clients-dataset/home\n",
        "\n",
        "**UCI machine learning repository:** https://archive.ics.uci.edu/ml/datasets/default+of+credit+card+clients#\n",
        "\n",
        "----------------------------------\n",
        "\n",
        "**Dataset Information**\n",
        "\n",
        "This dataset contains information on default payments, demographic factors, credit data, history of payment, and bill statements of credit card clients in Taiwan from April 2005 to September 2005.\n",
        "\n",
        "**Content**\n",
        "\n",
        "**There are 25 variables:**\n",
        "\n",
        "ID: ID of each client\n",
        "\n",
        "LIMIT_BAL: Amount of given credit in NT dollars (includes individual and family/supplementary credit\n",
        "\n",
        "SEX: Gender (1=male, 2=female)\n",
        "\n",
        "EDUCATION: (1=graduate school, 2=university, 3=high school, 4=others, 5=unknown, 6=unknown)\n",
        "\n",
        "MARRIAGE: Marital status (1=married, 2=single, 3=others)\n",
        "\n",
        "AGE: Age in years\n",
        "\n",
        "PAY_0: Repayment status in September, 2005 (-1=pay duly, 1=payment delay for one month, 2=payment delay for two months, ... 8=payment delay for eight months, 9=payment delay for nine months and above)\n",
        "\n",
        "PAY_2: Repayment status in August, 2005 (scale same as above)\n",
        "\n",
        "PAY_3: Repayment status in July, 2005 (scale same as above)\n",
        "\n",
        "PAY_4: Repayment status in June, 2005 (scale same as above)\n",
        "\n",
        "PAY_5: Repayment status in May, 2005 (scale same as above)\n",
        "\n",
        "PAY_6: Repayment status in April, 2005 (scale same as above)\n",
        "\n",
        "BILL_AMT1: Amount of bill statement in September, 2005 (NT dollar)\n",
        "\n",
        "BILL_AMT2: Amount of bill statement in August, 2005 (NT dollar)\n",
        "\n",
        "BILL_AMT3: Amount of bill statement in July, 2005 (NT dollar)\n",
        "\n",
        "BILL_AMT4: Amount of bill statement in June, 2005 (NT dollar)\n",
        "\n",
        "BILL_AMT5: Amount of bill statement in May, 2005 (NT dollar)\n",
        "\n",
        "BILL_AMT6: Amount of bill statement in April, 2005 (NT dollar)\n",
        "\n",
        "PAY_AMT1: Amount of previous payment in September, 2005 (NT dollar)\n",
        "\n",
        "PAY_AMT2: Amount of previous payment in August, 2005 (NT dollar)\n",
        "\n",
        "PAY_AMT3: Amount of previous payment in July, 2005 (NT dollar)\n",
        "\n",
        "PAY_AMT4: Amount of previous payment in June, 2005 (NT dollar)\n",
        "\n",
        "PAY_AMT5: Amount of previous payment in May, 2005 (NT dollar)\n",
        "\n",
        "PAY_AMT6: Amount of previous payment in April, 2005 (NT dollar)\n",
        "\n",
        "default.payment.next.month: Default payment (1=yes, 0=no)"
      ]
    },
    {
      "cell_type": "markdown",
      "metadata": {
        "id": "VFbEDDKE4znI",
        "colab_type": "text"
      },
      "source": [
        "# Setting the random seed and reading the data"
      ]
    },
    {
      "cell_type": "code",
      "metadata": {
        "colab_type": "code",
        "id": "vszfIFIf9R6T",
        "colab": {}
      },
      "source": [
        "RAND_SEED = 41\n"
      ],
      "execution_count": 0,
      "outputs": []
    },
    {
      "cell_type": "markdown",
      "metadata": {
        "id": "xla5peer4znN",
        "colab_type": "text"
      },
      "source": [
        "\n",
        "\n",
        "\n",
        "\n",
        "\n",
        "\n",
        "\n",
        "\n",
        "\n",
        "\n",
        "\n",
        "\n",
        "\n",
        "\n",
        "\n",
        "\n",
        "\n",
        "\n",
        "\n",
        "\n",
        "\n",
        "\n",
        "\n",
        "\n",
        "\n",
        "\n",
        "\n",
        "\n",
        "\n",
        "\n",
        "\n",
        "\n",
        "\n",
        "\n",
        "# Exploratory data analysis"
      ]
    },
    {
      "cell_type": "code",
      "metadata": {
        "colab_type": "code",
        "id": "5jHChKiUquV7",
        "colab": {}
      },
      "source": [
        ""
      ],
      "execution_count": 0,
      "outputs": []
    },
    {
      "cell_type": "code",
      "metadata": {
        "id": "8aHCSTSNeDOf",
        "colab_type": "code",
        "colab": {}
      },
      "source": [
        ""
      ],
      "execution_count": 0,
      "outputs": []
    },
    {
      "cell_type": "code",
      "metadata": {
        "id": "rJvoAvK2eDRh",
        "colab_type": "code",
        "colab": {}
      },
      "source": [
        ""
      ],
      "execution_count": 0,
      "outputs": []
    },
    {
      "cell_type": "markdown",
      "metadata": {
        "id": "a7g9RrdC4znh",
        "colab_type": "text"
      },
      "source": [
        "# Train test split"
      ]
    },
    {
      "cell_type": "code",
      "metadata": {
        "colab_type": "code",
        "id": "7fLAftotEHqT",
        "colab": {}
      },
      "source": [
        "### START CODE HERE ### (1~2 lines)\n",
        "x_train, x_test, y_train, y_test = #call the train_test_split() function\n",
        "### END CODE HERE ###\n",
        "\n",
        "y_train = y_train.values.ravel()\n",
        "y_test = y_test.values.ravel()\n",
        "\n",
        "x_train = x_train.astype(np.float64)\n",
        "x_test = x_test.astype(np.float64)"
      ],
      "execution_count": 0,
      "outputs": []
    },
    {
      "cell_type": "code",
      "metadata": {
        "id": "-ABtGclR4znl",
        "colab_type": "code",
        "colab": {}
      },
      "source": [
        "x_train.head()"
      ],
      "execution_count": 0,
      "outputs": []
    },
    {
      "cell_type": "markdown",
      "metadata": {
        "id": "LLcoRYxK4znp",
        "colab_type": "text"
      },
      "source": [
        "# Feature scaling"
      ]
    },
    {
      "cell_type": "markdown",
      "metadata": {
        "id": "g2LmaoGtdExZ",
        "colab_type": "text"
      },
      "source": [
        "Notice the std of the features, 'SEX' is a categorical variable, 'PAY_0' is a ordinal variable, the rest are continuous variables"
      ]
    },
    {
      "cell_type": "code",
      "metadata": {
        "id": "PCtBgT8idDXH",
        "colab_type": "code",
        "colab": {}
      },
      "source": [
        "x_test[['SEX','PAY_0','AGE','LIMIT_BAL','BILL_AMT1','PAY_AMT1']].describe()"
      ],
      "execution_count": 0,
      "outputs": []
    },
    {
      "cell_type": "markdown",
      "metadata": {
        "id": "m5BliCWM4znq",
        "colab_type": "text"
      },
      "source": [
        "Scale the numerical features only, stack the returned numpy array of scaled features with a numpy array of categorical features\n",
        "\n",
        "Tips: if df is a Pandas dataframe, you can use df.values to turn a dataframe into a numpy array"
      ]
    },
    {
      "cell_type": "code",
      "metadata": {
        "colab_type": "code",
        "id": "TTlGO6HmBdXW",
        "colab": {}
      },
      "source": [
        "cate_features = ['EDUCATION','SEX','MARRIAGE', 'PAY_0', 'PAY_2', 'PAY_3', 'PAY_4', 'PAY_5', 'PAY_6'] #categorical and ordinal features\n",
        "\n",
        "### START CODE HERE ### (3~4 lines)\n",
        "scaler =  #initiate the StandardScaler\n",
        "x_train_s =  #fit the scaler with train set numerical data and then transform it\n",
        "x_test_s = #transofrm the test set\n",
        "\n",
        "### END CODE HERE ###"
      ],
      "execution_count": 0,
      "outputs": []
    },
    {
      "cell_type": "code",
      "metadata": {
        "id": "_ztBOi2Xv73c",
        "colab_type": "code",
        "colab": {}
      },
      "source": [
        "pd.DataFrame(x_train_s).describe()"
      ],
      "execution_count": 0,
      "outputs": []
    },
    {
      "cell_type": "markdown",
      "metadata": {
        "id": "-HQcBIc-ZMPu",
        "colab_type": "text"
      },
      "source": [
        "Combine the array of categorical features with the scaled arrays with np.hstack([ ])"
      ]
    },
    {
      "cell_type": "code",
      "metadata": {
        "id": "B83Uc9WlwXPE",
        "colab_type": "code",
        "colab": {}
      },
      "source": [
        "### START CODE HERE ### (2~4 lines)\n",
        "x_train_s = # combine x_train_s with categorical and orindal features\n",
        "x_test_s =  # combine x_test_s with categorical and orindal features\n",
        "### END CODE HERE ###"
      ],
      "execution_count": 0,
      "outputs": []
    },
    {
      "cell_type": "code",
      "metadata": {
        "colab_type": "code",
        "id": "jCKRMC74Dx-g",
        "colab": {}
      },
      "source": [
        "print('x_train shape:', x_train_s.shape)\n",
        "print('y_train shape:', y_train.shape)\n",
        "print('x_test shape:', x_test_s.shape)\n",
        "print('y_test shape:', y_test.shape)"
      ],
      "execution_count": 0,
      "outputs": []
    },
    {
      "cell_type": "markdown",
      "metadata": {
        "colab_type": "text",
        "id": "9KmTX41lQ3GY"
      },
      "source": [
        "# Training with XGBoost"
      ]
    },
    {
      "cell_type": "code",
      "metadata": {
        "colab_type": "code",
        "id": "xg8uU503NYVG",
        "colab": {}
      },
      "source": [
        "from xgboost import XGBClassifier\n",
        "\n",
        "#Defining the model and its hyperparameters \n",
        "\n",
        "### START CODE HERE ### (1 line)\n",
        "xgb = #specifying the mode\n",
        "### END CODE HERE ###\n"
      ],
      "execution_count": 0,
      "outputs": []
    },
    {
      "cell_type": "code",
      "metadata": {
        "colab_type": "code",
        "id": "d_u4r-CQ1zHW",
        "colab": {}
      },
      "source": [
        "#Fitting the data to the model\n",
        "\n",
        "start = datetime.now()\n",
        "\n",
        "### START CODE HERE ### (1 line)\n",
        "\n",
        "#Fitting the model with x_train_s and y_train\n",
        "\n",
        "### END CODE HERE ###\n",
        "\n",
        "time_elapsed = datetime.now() - start\n",
        "print('Time elapsed:',time_elapsed)"
      ],
      "execution_count": 0,
      "outputs": []
    },
    {
      "cell_type": "code",
      "metadata": {
        "colab_type": "code",
        "id": "NWq3tQkbT4eH",
        "colab": {}
      },
      "source": [
        "#Making the predictions\n",
        "\n",
        "### START CODE HERE ###\n",
        "y_train_pred = #predict class for x_train_s\n",
        "y_train_pred_prob = #predict probability of class 1 for x_train_s\n",
        "\n",
        "y_test_pred =  #predict class for x_test_s\n",
        "y_test_pred_prob = #predict probability of class 1 for x_test_s\n",
        "### END CODE HERE ###"
      ],
      "execution_count": 0,
      "outputs": []
    },
    {
      "cell_type": "markdown",
      "metadata": {
        "colab_type": "text",
        "id": "bAujuGwMHPIR"
      },
      "source": [
        "# Evaluating the model"
      ]
    },
    {
      "cell_type": "markdown",
      "metadata": {
        "id": "n1tXGC_94zny",
        "colab_type": "text"
      },
      "source": [
        "## Functions for model evaluations (Do NOT edit the codes here)"
      ]
    },
    {
      "cell_type": "code",
      "metadata": {
        "colab_type": "code",
        "id": "2En_HqYUXX_f",
        "colab": {}
      },
      "source": [
        "def print_confusion_matrix(confusion_matrix, class_names, figsize = (6,5)):\n",
        "  df_cm = pd.DataFrame(\n",
        "      confusion_matrix, index=class_names, columns=class_names, \n",
        "  )\n",
        "  fig = plt.figure(figsize=figsize)\n",
        "  try:\n",
        "      heatmap = sns.heatmap(df_cm, annot=True, fmt=\"d\", cmap='Reds')\n",
        "  except ValueError:\n",
        "      raise ValueError(\"Confusion matrix values must be integers.\")\n",
        "  heatmap.yaxis.set_ticklabels(heatmap.yaxis.get_ticklabels(), rotation=0, ha='right', fontsize=20)\n",
        "  heatmap.xaxis.set_ticklabels(heatmap.xaxis.get_ticklabels(), rotation=45, ha='right', fontsize=20)\n",
        "  plt.title('Confusion matrix', fontsize=25)\n",
        "  plt.ylabel('True label', fontsize=17)\n",
        "  plt.xlabel('Predicted label', fontsize=17)\n",
        "  return fig\n",
        "  \n",
        "\n",
        "def evaluate_model(y_true, y_pred, y_pred_prob):\n",
        "  '''\n",
        "  y_true: a numpy array of true class label, containing 0 and 1\n",
        "  y_pred: a numpy array of predicted class label, containing 0 and 1\n",
        "  y_pred_prob: a numpy array of predicted probability of belonging to a class\n",
        "  '''  \n",
        "    \n",
        "  tn, fp, fn, tp = confusion_matrix(y_true, y_pred).ravel()\n",
        "  cm = np.array([tp,fn,fp,tn]).reshape(2,2)\n",
        "  acc = accuracy_score(y_true, y_pred)\n",
        "  precision = precision_score(y_true, y_pred)\n",
        "  recall = recall_score(y_true, y_pred)\n",
        "  f1 = f1_score(y_true, y_pred)\n",
        "  roc_auc = roc_auc_score(y_true, y_pred_prob)\n",
        "\n",
        "  print('Accuracy: %.3f'%acc)\n",
        "  print('Precision: %.3f'%precision)\n",
        "  print('Recall: %.3f'%recall)\n",
        "  print('F1 Score: %.3f'%f1)\n",
        "  print('AUC score: %.3f \\n'%roc_auc)\n",
        "  print_confusion_matrix(cm,[1,0])\n",
        "  \n",
        "def plot_roc(y_true, y_pred_prob): \n",
        "  '''\n",
        "  y_true: a numpy array of true class label, containing 0 and 1\n",
        "  y_pred_prob: a numpy array of predicted probability of belonging to a class\n",
        "  '''  \n",
        "    \n",
        "  fpr, tpr, thresholds = roc_curve(y_true, y_pred_prob, pos_label=None, drop_intermediate=False)\n",
        "  roc_auc = roc_auc_score(y_true, y_pred_prob)\n",
        "  plt.figure()\n",
        "  lw = 2\n",
        "  plt.plot(fpr, tpr, color='darkorange',\n",
        "          lw=lw, label='ROC curve (area = %0.3f)' % roc_auc)\n",
        "  plt.plot([0, 1], [0, 1], color='navy', lw=lw, linestyle='--')\n",
        "  plt.xlim([0.0, 1.0])\n",
        "  plt.ylim([0.0, 1.05])\n",
        "  plt.xlabel('False Positive Rate')\n",
        "  plt.ylabel('True Positive Rate')\n",
        "  plt.title('ROC Curve')\n",
        "  plt.legend(loc=\"lower right\")\n",
        "  plt.show()\n",
        "  \n",
        "  "
      ],
      "execution_count": 0,
      "outputs": []
    },
    {
      "cell_type": "markdown",
      "metadata": {
        "id": "__SDoAmq69mF",
        "colab_type": "text"
      },
      "source": [
        "## Model Evaluation on train set\n",
        "\n",
        "Read the function definitions above, determine what arguements should be passed into the functions"
      ]
    },
    {
      "cell_type": "code",
      "metadata": {
        "id": "EtkdJ0Bi6_pW",
        "colab_type": "code",
        "colab": {}
      },
      "source": [
        "### START CODE HERE ###\n",
        "evaluate_model() #What should be filled inside?\n",
        "### END CODE HERE ###"
      ],
      "execution_count": 0,
      "outputs": []
    },
    {
      "cell_type": "code",
      "metadata": {
        "id": "Wl5hzzB-7BS0",
        "colab_type": "code",
        "colab": {}
      },
      "source": [
        "### START CODE HERE ###\n",
        "plot_roc() #What should be filled inside?\n",
        "### END CODE HERE ###"
      ],
      "execution_count": 0,
      "outputs": []
    },
    {
      "cell_type": "markdown",
      "metadata": {
        "id": "RdtVId4G7EAB",
        "colab_type": "text"
      },
      "source": [
        "## Model Evaluation on test set"
      ]
    },
    {
      "cell_type": "code",
      "metadata": {
        "colab_type": "code",
        "id": "oOkYPC6_UDsa",
        "colab": {}
      },
      "source": [
        "### START CODE HERE ###\n",
        "evaluate_model() #What should be filled inside?\n",
        "### END CODE HERE ###"
      ],
      "execution_count": 0,
      "outputs": []
    },
    {
      "cell_type": "code",
      "metadata": {
        "colab_type": "code",
        "id": "jerZYmrQUF81",
        "colab": {}
      },
      "source": [
        "### START CODE HERE ###\n",
        "plot_roc() #What should be filled inside?\n",
        "### END CODE HERE ###"
      ],
      "execution_count": 0,
      "outputs": []
    },
    {
      "cell_type": "markdown",
      "metadata": {
        "id": "avm1sjbg4zoK",
        "colab_type": "text"
      },
      "source": [
        "# Plotting and saving the tree graph"
      ]
    },
    {
      "cell_type": "markdown",
      "metadata": {
        "id": "ZCSVB-qp4zoM",
        "colab_type": "text"
      },
      "source": [
        "Set rankdir to 'UT' for up to down graph or 'LR' for left to right graph, it will generate a file called 'xgb.jpg'.\n",
        "\n",
        "Just run the cell, no need to edit."
      ]
    },
    {
      "cell_type": "code",
      "metadata": {
        "colab_type": "code",
        "id": "O8qhslQlHhxX",
        "colab": {}
      },
      "source": [
        "from xgboost import plot_tree\n",
        "ax = plt.gca()\n",
        "ax.figure.set_size_inches(25, 25)\n",
        "plot_tree(xgb, ax=ax, rankdir='LR')\n",
        "ax.figure.savefig('xgb.jpg')"
      ],
      "execution_count": 0,
      "outputs": []
    },
    {
      "cell_type": "markdown",
      "metadata": {
        "colab_type": "text",
        "id": "rI1JZomTHLA5"
      },
      "source": [
        "# Feature importance\n",
        "Just run the cell, no need to edit."
      ]
    },
    {
      "cell_type": "code",
      "metadata": {
        "colab_type": "code",
        "id": "kN0Vmd2aUdxR",
        "colab": {}
      },
      "source": [
        "features = x_train.columns\n",
        "feature_imp = pd.DataFrame(sorted(zip(xgb.feature_importances_,features)), columns=['Value','Feature'])\n",
        "\n",
        "plt.figure(figsize=(7, 7))\n",
        "sns.barplot(x=\"Value\", y=\"Feature\", data=feature_imp.sort_values(by=\"Value\", ascending=False))\n",
        "plt.title('Features Importance')\n",
        "plt.show()"
      ],
      "execution_count": 0,
      "outputs": []
    },
    {
      "cell_type": "markdown",
      "metadata": {
        "id": "N_0Yz30C4zoP",
        "colab_type": "text"
      },
      "source": [
        "### Question: Can you fit other machine learning models and compare the performance with XGBoost? \n",
        "Many machine learning models are available in sklearn and can be fitted in a similar manner as in XGBoost (XGBoost is compatible with sklearn).\n",
        "\n",
        "Popoluar classification models include: Support Vector Machine, Logistic Regression, Linear Discriminant Analysis, AdaBoost (another type of tree ensemble model).\n",
        "\n",
        "See https://scikit-learn.org/stable/modules/classes.html#module-sklearn.linear_model and below code for reference:\n"
      ]
    },
    {
      "cell_type": "code",
      "metadata": {
        "id": "5brz8g0A4zoQ",
        "colab_type": "code",
        "colab": {}
      },
      "source": [
        "#Building a logistic regression classifier\n",
        "\n",
        "from sklearn.linear_model import LogisticRegression\n",
        "\n",
        "lr = LogisticRegression(solver='newton-cg', random_state=RAND_SEED)\n",
        "\n",
        "start = datetime.now()\n",
        "lr.fit(x_train_s, y_train)\n",
        "time_elapsed = datetime.now() - start\n",
        "print('Time elapsed:',time_elapsed)\n",
        "\n",
        "y_test_pred =  #Predict class label\n",
        "y_test_pred_prob =  #Predict class probability"
      ],
      "execution_count": 0,
      "outputs": []
    },
    {
      "cell_type": "code",
      "metadata": {
        "id": "3PY-wsK84zoS",
        "colab_type": "code",
        "colab": {}
      },
      "source": [
        "evaluate_model() #What should be filled inside?"
      ],
      "execution_count": 0,
      "outputs": []
    },
    {
      "cell_type": "code",
      "metadata": {
        "id": "XEc54S364zoU",
        "colab_type": "code",
        "colab": {}
      },
      "source": [
        "plot_roc() #What should be filled inside?"
      ],
      "execution_count": 0,
      "outputs": []
    },
    {
      "cell_type": "code",
      "metadata": {
        "id": "RGKQqmI0XOlt",
        "colab_type": "code",
        "colab": {}
      },
      "source": [
        ""
      ],
      "execution_count": 0,
      "outputs": []
    }
  ]
}