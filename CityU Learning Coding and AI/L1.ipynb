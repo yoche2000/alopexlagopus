{
  "nbformat": 4,
  "nbformat_minor": 0,
  "metadata": {
    "kernelspec": {
      "display_name": "Python 3",
      "language": "python",
      "name": "python3"
    },
    "language_info": {
      "codemirror_mode": {
        "name": "ipython",
        "version": 3
      },
      "file_extension": ".py",
      "mimetype": "text/x-python",
      "name": "python",
      "nbconvert_exporter": "python",
      "pygments_lexer": "ipython3",
      "version": "3.7.3"
    },
    "colab": {
      "name": "lesson1.ipynb",
      "provenance": []
    }
  },
  "cells": [
    {
      "cell_type": "markdown",
      "metadata": {
        "id": "I2KP5gAzZ9U6",
        "colab_type": "text"
      },
      "source": [
        "# exercise 1"
      ]
    },
    {
      "cell_type": "code",
      "metadata": {
        "id": "G44U1WpZZ9U-",
        "colab_type": "code",
        "outputId": "50a4f2b3-8348-47d0-ec72-ab14c7e79c51",
        "colab": {}
      },
      "source": [
        "user_input=input('What is your name? ')\n",
        "print('hi, '+user_input)"
      ],
      "execution_count": 0,
      "outputs": [
        {
          "output_type": "stream",
          "text": [
            "What is your name?6\n",
            "hi, 6\n"
          ],
          "name": "stdout"
        }
      ]
    },
    {
      "cell_type": "markdown",
      "metadata": {
        "id": "OL_g0JKfZ9VE",
        "colab_type": "text"
      },
      "source": [
        "# exercise2"
      ]
    },
    {
      "cell_type": "code",
      "metadata": {
        "id": "9QWTc4XbZ9VF",
        "colab_type": "code",
        "outputId": "cbfb1c34-b2a1-4956-fd1c-aab0666e979c",
        "colab": {}
      },
      "source": [
        "b = 12345 \n",
        "a = str(b) \n",
        "type(a)\n"
      ],
      "execution_count": 0,
      "outputs": [
        {
          "output_type": "execute_result",
          "data": {
            "text/plain": [
              "str"
            ]
          },
          "metadata": {
            "tags": []
          },
          "execution_count": 4
        }
      ]
    },
    {
      "cell_type": "code",
      "metadata": {
        "id": "jDTr_lCnZ9VJ",
        "colab_type": "code",
        "outputId": "17aaf04c-6411-41ea-cdb3-3f1f4811d229",
        "colab": {}
      },
      "source": [
        "print(bool(''))\n",
        "print(bool('abc'))\n",
        "print(bool(1))\n",
        "print(bool(0))\n",
        "print(bool('0'))\n",
        "print(bool('$#%@#$%'))"
      ],
      "execution_count": 0,
      "outputs": [
        {
          "output_type": "stream",
          "text": [
            "False\n",
            "True\n",
            "True\n",
            "False\n",
            "True\n",
            "True\n"
          ],
          "name": "stdout"
        }
      ]
    },
    {
      "cell_type": "markdown",
      "metadata": {
        "id": "of0fLQn7Z9VM",
        "colab_type": "text"
      },
      "source": [
        "# exercise3\n"
      ]
    },
    {
      "cell_type": "code",
      "metadata": {
        "id": "kIFZzB0LZ9VN",
        "colab_type": "code",
        "outputId": "bf61f680-fe12-4462-8ccd-1ce27ad3ff91",
        "colab": {}
      },
      "source": [
        "a=123.45\n",
        "b='456.78'\n",
        "a+b"
      ],
      "execution_count": 0,
      "outputs": [
        {
          "output_type": "error",
          "ename": "TypeError",
          "evalue": "unsupported operand type(s) for +: 'float' and 'str'",
          "traceback": [
            "\u001b[1;31m---------------------------------------------------------------------------\u001b[0m",
            "\u001b[1;31mTypeError\u001b[0m                                 Traceback (most recent call last)",
            "\u001b[1;32m<ipython-input-4-3e606d909e96>\u001b[0m in \u001b[0;36m<module>\u001b[1;34m\u001b[0m\n\u001b[0;32m      1\u001b[0m \u001b[0ma\u001b[0m\u001b[1;33m=\u001b[0m\u001b[1;36m123.45\u001b[0m\u001b[1;33m\u001b[0m\u001b[1;33m\u001b[0m\u001b[0m\n\u001b[0;32m      2\u001b[0m \u001b[0mb\u001b[0m\u001b[1;33m=\u001b[0m\u001b[1;34m'456.78'\u001b[0m\u001b[1;33m\u001b[0m\u001b[1;33m\u001b[0m\u001b[0m\n\u001b[1;32m----> 3\u001b[1;33m \u001b[0ma\u001b[0m\u001b[1;33m+\u001b[0m\u001b[0mb\u001b[0m\u001b[1;33m\u001b[0m\u001b[1;33m\u001b[0m\u001b[0m\n\u001b[0m",
            "\u001b[1;31mTypeError\u001b[0m: unsupported operand type(s) for +: 'float' and 'str'"
          ]
        }
      ]
    },
    {
      "cell_type": "code",
      "metadata": {
        "id": "OCkUWcfIZ9VR",
        "colab_type": "code",
        "outputId": "bc825fa1-5860-414a-ef7a-b5da75c7072b",
        "colab": {}
      },
      "source": [
        "a=123.45\n",
        "b='456.78'\n",
        "print(a+float(b))"
      ],
      "execution_count": 0,
      "outputs": [
        {
          "output_type": "stream",
          "text": [
            "580.23\n"
          ],
          "name": "stdout"
        }
      ]
    },
    {
      "cell_type": "markdown",
      "metadata": {
        "id": "6mq1UBS9Z9VU",
        "colab_type": "text"
      },
      "source": [
        "# exercise4"
      ]
    },
    {
      "cell_type": "code",
      "metadata": {
        "id": "W_kwTE6OZ9VV",
        "colab_type": "code",
        "outputId": "98b812d6-1a9b-4a53-ee7f-e57a5b47566a",
        "colab": {}
      },
      "source": [
        "sum=60+70+90\n",
        "print('sum =', sum)\n",
        "mean=sum/3\n",
        "print('mean=',mean)"
      ],
      "execution_count": 0,
      "outputs": [
        {
          "output_type": "stream",
          "text": [
            "sum = 220\n",
            "73.33333333333333\n"
          ],
          "name": "stdout"
        }
      ]
    },
    {
      "cell_type": "markdown",
      "metadata": {
        "id": "9lrFLnwRZ9VY",
        "colab_type": "text"
      },
      "source": [
        "# exercise 5"
      ]
    },
    {
      "cell_type": "code",
      "metadata": {
        "id": "rMOhYZejZ9VZ",
        "colab_type": "code",
        "outputId": "8272bfe0-6125-4fcc-a218-2233f1af8662",
        "colab": {}
      },
      "source": [
        "a=0.1\n",
        "b=0.1\n",
        "print(\"a==b:\",a==b)\n",
        "print(\"a is b:\",a is b)"
      ],
      "execution_count": 0,
      "outputs": [
        {
          "output_type": "stream",
          "text": [
            "a==b: True\n",
            "a is b: False\n"
          ],
          "name": "stdout"
        }
      ]
    },
    {
      "cell_type": "markdown",
      "metadata": {
        "id": "Fj5Mxf5UZ9Vd",
        "colab_type": "text"
      },
      "source": [
        "# exercise 6"
      ]
    },
    {
      "cell_type": "code",
      "metadata": {
        "id": "TU1zRHOLZ9Vf",
        "colab_type": "code",
        "outputId": "a2906d18-5110-4571-b73e-2fbaa1479651",
        "colab": {}
      },
      "source": [
        "number=(1)\n",
        "print(\"type(number):\", type(number))\n",
        "number=(1,)\n",
        "print(\"type(number):\", type(number))\n",
        "number[0]=3\n"
      ],
      "execution_count": 0,
      "outputs": [
        {
          "output_type": "stream",
          "text": [
            "type(number): <class 'int'>\n",
            "type(number): <class 'tuple'>\n"
          ],
          "name": "stdout"
        },
        {
          "output_type": "error",
          "ename": "TypeError",
          "evalue": "'tuple' object does not support item assignment",
          "traceback": [
            "\u001b[1;31m---------------------------------------------------------------------------\u001b[0m",
            "\u001b[1;31mTypeError\u001b[0m                                 Traceback (most recent call last)",
            "\u001b[1;32m<ipython-input-13-6ea4e51906e9>\u001b[0m in \u001b[0;36m<module>\u001b[1;34m\u001b[0m\n\u001b[0;32m      3\u001b[0m \u001b[0mnumber\u001b[0m\u001b[1;33m=\u001b[0m\u001b[1;33m(\u001b[0m\u001b[1;36m1\u001b[0m\u001b[1;33m,\u001b[0m\u001b[1;33m)\u001b[0m\u001b[1;33m\u001b[0m\u001b[1;33m\u001b[0m\u001b[0m\n\u001b[0;32m      4\u001b[0m \u001b[0mprint\u001b[0m\u001b[1;33m(\u001b[0m\u001b[1;34m\"type(number):\"\u001b[0m\u001b[1;33m,\u001b[0m \u001b[0mtype\u001b[0m\u001b[1;33m(\u001b[0m\u001b[0mnumber\u001b[0m\u001b[1;33m)\u001b[0m\u001b[1;33m)\u001b[0m\u001b[1;33m\u001b[0m\u001b[1;33m\u001b[0m\u001b[0m\n\u001b[1;32m----> 5\u001b[1;33m \u001b[0mnumber\u001b[0m\u001b[1;33m[\u001b[0m\u001b[1;36m0\u001b[0m\u001b[1;33m]\u001b[0m\u001b[1;33m=\u001b[0m\u001b[1;36m3\u001b[0m\u001b[1;33m\u001b[0m\u001b[1;33m\u001b[0m\u001b[0m\n\u001b[0m",
            "\u001b[1;31mTypeError\u001b[0m: 'tuple' object does not support item assignment"
          ]
        }
      ]
    },
    {
      "cell_type": "code",
      "metadata": {
        "id": "tEZhr1YKZ9Vk",
        "colab_type": "code",
        "colab": {}
      },
      "source": [
        ""
      ],
      "execution_count": 0,
      "outputs": []
    },
    {
      "cell_type": "markdown",
      "metadata": {
        "id": "iDG62IqhZ9Vn",
        "colab_type": "text"
      },
      "source": [
        "# exercise7"
      ]
    },
    {
      "cell_type": "code",
      "metadata": {
        "id": "-BpuGBxKZ9Vo",
        "colab_type": "code",
        "outputId": "bc3c0abc-5fd3-4251-8e10-7e4c9c6bdb92",
        "colab": {}
      },
      "source": [
        "student = {'name': 'Mary','age': 22, 'name': 'Peter'}\n",
        "print(student['name'])\n",
        "print(student)"
      ],
      "execution_count": 0,
      "outputs": [
        {
          "output_type": "stream",
          "text": [
            "220\n",
            "73.33333333333333\n"
          ],
          "name": "stdout"
        }
      ]
    },
    {
      "cell_type": "markdown",
      "metadata": {
        "id": "zZGm0kx5Z9Vs",
        "colab_type": "text"
      },
      "source": [
        "# exercise8"
      ]
    },
    {
      "cell_type": "code",
      "metadata": {
        "id": "fhFtP0NMZ9Vt",
        "colab_type": "code",
        "outputId": "bc2a670c-8811-4f12-e439-5e31054c6b7c",
        "colab": {}
      },
      "source": [
        "number_in=input(\"Please enter a phone number:  \");\n",
        "print(\"The input number is \"+number_in)\n",
        "first_digit=\"23569\"\n",
        "if len(number_in)==8 and (number_in[0] in first_digit):\n",
        "    print(\"It is a valid number\")\n",
        "else:\n",
        "    print(\"It is not a valid number\")\n"
      ],
      "execution_count": 0,
      "outputs": [
        {
          "output_type": "stream",
          "text": [
            "Please enter a phone number:  111\n",
            "The input number is 111\n",
            "It is not a valid number\n"
          ],
          "name": "stdout"
        }
      ]
    },
    {
      "cell_type": "markdown",
      "metadata": {
        "id": "ng9CbysaZ9Vw",
        "colab_type": "text"
      },
      "source": [
        "# exercise9"
      ]
    },
    {
      "cell_type": "code",
      "metadata": {
        "id": "8x_4z2U0Z9Vy",
        "colab_type": "code",
        "outputId": "dfe8d743-e33d-4dfd-99d2-7a767f1a7484",
        "colab": {}
      },
      "source": [
        "for i in range(11,26,2):\n",
        "    print(i,end=' ')"
      ],
      "execution_count": 0,
      "outputs": [
        {
          "output_type": "stream",
          "text": [
            "11 13 15 17 19 21 23 25 "
          ],
          "name": "stdout"
        }
      ]
    },
    {
      "cell_type": "markdown",
      "metadata": {
        "id": "FH80WJizZ9V0",
        "colab_type": "text"
      },
      "source": [
        "# exercise10"
      ]
    },
    {
      "cell_type": "code",
      "metadata": {
        "id": "7SLb0xcYZ9V1",
        "colab_type": "code",
        "outputId": "639e8c9c-d225-409d-fe99-aac9fe068982",
        "colab": {}
      },
      "source": [
        "number_in=input(\"Please enter a phone number:  \");\n",
        "print(\"The input number is \"+number_in)\n",
        "first_digit=\"23569\"\n",
        "while len(number_in)!=8 or (number_in[0] not in first_digit):\n",
        "    print(\"It is not a valid number\")\n",
        "    number_in=input(\"Please enter a phone number:  \");\n",
        "print(\"It is a valid number\")"
      ],
      "execution_count": 0,
      "outputs": [
        {
          "output_type": "stream",
          "text": [
            "Please enter a phone number:  111\n",
            "The input number is 111\n",
            "It is not a valid number\n",
            "Please enter a phone number:  12345678\n",
            "It is not a valid number\n",
            "Please enter a phone number:  98199303\n",
            "It is a valid number\n"
          ],
          "name": "stdout"
        }
      ]
    },
    {
      "cell_type": "markdown",
      "metadata": {
        "id": "B-xQG3J6cXDU",
        "colab_type": "text"
      },
      "source": [
        "# Classes and objects"
      ]
    },
    {
      "cell_type": "code",
      "metadata": {
        "id": "4K4MPI--Z9V4",
        "colab_type": "code",
        "colab": {}
      },
      "source": [
        "class human():\n",
        "  species = 'mammal'\n",
        "  \n",
        "  def __init__(self, name, age):\n",
        "    self.name = name\n",
        "    self.age = age\n",
        "  def sing(self, song):\n",
        "    return \"{} sing {}\".format(self.name, song)\n",
        "  \n",
        "  def hi(self):\n",
        "    return \"hello world!\"\n",
        "    "
      ],
      "execution_count": 0,
      "outputs": []
    },
    {
      "cell_type": "code",
      "metadata": {
        "id": "n22urlHOcP0c",
        "colab_type": "code",
        "colab": {}
      },
      "source": [
        "carrie = human('Carrie', 40)"
      ],
      "execution_count": 0,
      "outputs": []
    },
    {
      "cell_type": "code",
      "metadata": {
        "id": "-zud8oi_cVHv",
        "colab_type": "code",
        "outputId": "247a8aec-2c82-4417-938f-29c39f965de1",
        "colab": {
          "base_uri": "https://localhost:8080/",
          "height": 33
        }
      },
      "source": [
        "carrie.hi()"
      ],
      "execution_count": 3,
      "outputs": [
        {
          "output_type": "execute_result",
          "data": {
            "text/plain": [
              "'hello world!'"
            ]
          },
          "metadata": {
            "tags": []
          },
          "execution_count": 3
        }
      ]
    },
    {
      "cell_type": "code",
      "metadata": {
        "id": "NahL8R0YcWcq",
        "colab_type": "code",
        "colab": {}
      },
      "source": [
        ""
      ],
      "execution_count": 0,
      "outputs": []
    }
  ]
}