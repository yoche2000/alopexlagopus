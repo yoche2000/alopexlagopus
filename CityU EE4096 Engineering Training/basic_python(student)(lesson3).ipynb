{
 "cells": [
  {
   "cell_type": "markdown",
   "metadata": {
    "colab_type": "text",
    "id": "3dbVhoCKhfKz"
   },
   "source": [
    "# Symbolic Differentiation with Sympy\n"
   ]
  },
  {
   "cell_type": "markdown",
   "metadata": {
    "colab_type": "text",
    "id": "SQ9UK6cdV_x7"
   },
   "source": [
    "# Demonstration"
   ]
  },
  {
   "cell_type": "code",
   "execution_count": 1,
   "metadata": {
    "colab": {
     "base_uri": "https://localhost:8080/",
     "height": 39
    },
    "colab_type": "code",
    "id": "xxhufCS8-8hB",
    "outputId": "98df639f-eaaa-4eb5-c76f-6c7a350da3d2"
   },
   "outputs": [
    {
     "data": {
      "image/png": "[encoded data removed]",
      "text/plain": [
       " 2\n",
       "x "
      ]
     },
     "execution_count": 1,
     "metadata": {},
     "output_type": "execute_result"
    }
   ],
   "source": [
    "from sympy import *\n",
    "init_printing(use_latex='matplotlib')\n",
    "\n",
    "x = symbols('x')\n",
    "f = x**2\n",
    "f"
   ]
  },
  {
   "cell_type": "code",
   "execution_count": 2,
   "metadata": {
    "colab": {
     "base_uri": "https://localhost:8080/",
     "height": 35
    },
    "colab_type": "code",
    "id": "hASRj1PGjSTz",
    "outputId": "246e765d-d38e-44c7-c942-b912c2f594a3"
   },
   "outputs": [
    {
     "data": {
      "image/png": "[encoded data removed]",
      "text/plain": [
       "4"
      ]
     },
     "execution_count": 2,
     "metadata": {},
     "output_type": "execute_result"
    }
   ],
   "source": [
    "diff(f,x).subs(x,2)"
   ]
  },
  {
   "cell_type": "markdown",
   "metadata": {
    "colab_type": "text",
    "id": "YPex64BXILyF"
   },
   "source": [
    "# Exercise  - Stationary Points of $f(x,y) = xy(x^2+y^2-1)$"
   ]
  },
  {
   "cell_type": "code",
   "execution_count": 3,
   "metadata": {
    "colab": {
     "base_uri": "https://localhost:8080/",
     "height": 43
    },
    "colab_type": "code",
    "id": "J3NHryuyoZBi",
    "outputId": "4b18f944-4b98-41ab-c5f1-30efab3313c8"
   },
   "outputs": [
    {
     "data": {
      "image/png": "[encoded data removed]",
      "text/plain": [
       "    ⎛ 2    2    ⎞\n",
       "x⋅y⋅⎝x  + y  - 1⎠"
      ]
     },
     "execution_count": 3,
     "metadata": {},
     "output_type": "execute_result"
    }
   ],
   "source": [
    "x, y = symbols('x y')\n",
    "f = x*y*(x**2+y**2 - 1)\n",
    "f"
   ]
  },
  {
   "cell_type": "code",
   "execution_count": null,
   "metadata": {},
   "outputs": [],
   "source": []
  },
  {
   "cell_type": "code",
   "execution_count": null,
   "metadata": {},
   "outputs": [],
   "source": []
  },
  {
   "cell_type": "markdown",
   "metadata": {
    "colab_type": "text",
    "id": "eVcazKgyH0B1"
   },
   "source": [
    "## Calculate all the second order partial derivatives"
   ]
  },
  {
   "cell_type": "code",
   "execution_count": null,
   "metadata": {
    "colab": {
     "base_uri": "https://localhost:8080/",
     "height": 39
    },
    "colab_type": "code",
    "id": "H2kjFiUlncMY",
    "outputId": "3d1c2c5b-ad07-4cc9-8d7c-5d2baf1dadb2"
   },
   "outputs": [],
   "source": []
  },
  {
   "cell_type": "code",
   "execution_count": null,
   "metadata": {
    "colab": {
     "base_uri": "https://localhost:8080/",
     "height": 39
    },
    "colab_type": "code",
    "id": "-Zrcxd5_ne3g",
    "outputId": "54bf75a6-d095-4cf3-c6f6-a2b82a4d037f"
   },
   "outputs": [],
   "source": []
  },
  {
   "cell_type": "code",
   "execution_count": null,
   "metadata": {
    "colab": {
     "base_uri": "https://localhost:8080/",
     "height": 43
    },
    "colab_type": "code",
    "id": "6zSOlt00lbHh",
    "outputId": "a928bdd9-25f3-4546-abe2-b40b7ab43f21"
   },
   "outputs": [],
   "source": []
  },
  {
   "cell_type": "markdown",
   "metadata": {
    "colab_type": "text",
    "id": "FfrsAUTsH9BO"
   },
   "source": [
    "## Evaluate the partial derivatives at all stationary points, and determine if they are maxima, minima or saddle points"
   ]
  },
  {
   "cell_type": "markdown",
   "metadata": {
    "colab_type": "text",
    "id": "Y8AJlJK5JysK"
   },
   "source": [
    "For example, substitute (0,0)"
   ]
  },
  {
   "cell_type": "code",
   "execution_count": null,
   "metadata": {
    "colab": {
     "base_uri": "https://localhost:8080/",
     "height": 35
    },
    "colab_type": "code",
    "id": "Qq-VwjwPlmmi",
    "outputId": "d6e11480-24fe-460a-b589-36d7e3434e95"
   },
   "outputs": [],
   "source": []
  },
  {
   "cell_type": "code",
   "execution_count": null,
   "metadata": {
    "colab": {
     "base_uri": "https://localhost:8080/",
     "height": 35
    },
    "colab_type": "code",
    "id": "rKuSoQGKJ4O6",
    "outputId": "aca1dc4d-9306-42ac-93ae-cb2bf615ed68"
   },
   "outputs": [],
   "source": []
  },
  {
   "cell_type": "code",
   "execution_count": null,
   "metadata": {
    "colab": {
     "base_uri": "https://localhost:8080/",
     "height": 35
    },
    "colab_type": "code",
    "id": "MmMpN4lfJ6BT",
    "outputId": "38e1ea04-dbb0-4e6d-81e2-c96712005246"
   },
   "outputs": [],
   "source": []
  },
  {
   "cell_type": "markdown",
   "metadata": {
    "colab_type": "text",
    "id": "HIxl19Z28Er5"
   },
   "source": [
    "# Exercise - Toning the Color Temperature (Array Broadcasting)"
   ]
  },
  {
   "cell_type": "code",
   "execution_count": null,
   "metadata": {
    "colab": {
     "base_uri": "https://localhost:8080/",
     "height": 287
    },
    "colab_type": "code",
    "id": "1tDq9UiI8PeB",
    "outputId": "fe49f51c-022f-498e-ae64-66e6b2769776"
   },
   "outputs": [],
   "source": [
    "from skimage import data\n",
    "from matplotlib import pyplot as plt\n",
    "import numpy as np\n",
    "\n",
    "cat = data.chelsea()\n",
    "print('Shape of array cat:', cat.shape)\n",
    "plt.imshow(cat)\n",
    "plt.show()"
   ]
  },
  {
   "cell_type": "code",
   "execution_count": null,
   "metadata": {
    "colab": {},
    "colab_type": "code",
    "id": "5psPmYok9NpA"
   },
   "outputs": [],
   "source": [
    "ratio =  # a numpy array\n",
    "print('Shape of array ratio:', ratio.shape)\n",
    "transformed_cat =  #an operation to tune the color temperature\n",
    "transformed_cat /=  #normalise the array\n",
    "\n"
   ]
  },
  {
   "cell_type": "code",
   "execution_count": null,
   "metadata": {
    "colab": {
     "base_uri": "https://localhost:8080/",
     "height": 269
    },
    "colab_type": "code",
    "id": "ZHqZ5rrl_Jwa",
    "outputId": "0d5a5ace-e1e4-4a1b-f4ad-20f2dd2e6abc"
   },
   "outputs": [],
   "source": [
    "plt.imshow(transformed_cat)\n",
    "plt.show()"
   ]
  },
  {
   "cell_type": "markdown",
   "metadata": {
    "colab_type": "text",
    "id": "4jgTgQCtWTWX"
   },
   "source": [
    "# Demonstration - Pseudo Random Number Generation with Numpy"
   ]
  },
  {
   "cell_type": "code",
   "execution_count": null,
   "metadata": {
    "colab": {
     "base_uri": "https://localhost:8080/",
     "height": 321
    },
    "colab_type": "code",
    "id": "uP52oYxnzRQw",
    "outputId": "44eabdef-3ba8-4558-d7de-45d58cd28f50"
   },
   "outputs": [],
   "source": [
    "import numpy as np\n",
    "from matplotlib import pyplot as plt\n",
    "\n",
    "samples = #Generate n radom numbers following Gaussian distribution\n",
    "\n",
    "plt.hist(samples, bins=100, normed=True)\n",
    "plt.show()"
   ]
  },
  {
   "cell_type": "code",
   "execution_count": null,
   "metadata": {
    "colab": {
     "base_uri": "https://localhost:8080/",
     "height": 321
    },
    "colab_type": "code",
    "id": "jGY8Ae207DBh",
    "outputId": "6d5169b7-7ea4-40fb-d276-112e9a4e61f6"
   },
   "outputs": [],
   "source": [
    "samples =  #Generate n radom numbers following Gaussian distribution\n",
    "\n",
    "plt.hist(samples, bins=100, normed=True)\n",
    "plt.show()"
   ]
  },
  {
   "cell_type": "markdown",
   "metadata": {
    "colab_type": "text",
    "id": "Eigz9G-_ha2i"
   },
   "source": [
    "# Demonstration - Finding the Value of Pi using Monte Carlo with Numpy"
   ]
  },
  {
   "cell_type": "code",
   "execution_count": null,
   "metadata": {
    "colab": {},
    "colab_type": "code",
    "id": "Phpjd3iSrhfG"
   },
   "outputs": [],
   "source": [
    "import numpy as np"
   ]
  },
  {
   "cell_type": "markdown",
   "metadata": {
    "colab_type": "text",
    "id": "x6ICal85mad2"
   },
   "source": [
    "Generate Monte Carlo samples"
   ]
  },
  {
   "cell_type": "code",
   "execution_count": null,
   "metadata": {
    "colab": {},
    "colab_type": "code",
    "id": "6wMCXqZp7EPA"
   },
   "outputs": [],
   "source": [
    "m = int(1e6)# Monte Carlo sample size\n",
    "\n",
    "x = np.random.uniform(low=0.0, high=1.0, size=m)\n",
    "y = np.random.uniform(low=0.0, high=1.0, size=m)\n",
    "\n",
    "p = x**2 + y**2\n",
    "f = (p<1.0**2).astype('float32')\n",
    "\n",
    "\n"
   ]
  },
  {
   "cell_type": "markdown",
   "metadata": {
    "colab_type": "text",
    "id": "8-usj7bbmdvV"
   },
   "source": [
    "Getting Monte Carlo estimate of $\\pi$"
   ]
  },
  {
   "cell_type": "code",
   "execution_count": null,
   "metadata": {
    "colab": {
     "base_uri": "https://localhost:8080/",
     "height": 34
    },
    "colab_type": "code",
    "id": "vZUfMDaR2bqo",
    "outputId": "0ebc8f59-20c4-4df6-fc7a-705fb69af6ec"
   },
   "outputs": [],
   "source": [
    "pi_div4 = np.mean(f)\n",
    "pi = pi_div4*4\n",
    "print('The Monte Carlo estimate of pi: %.3f'% pi)"
   ]
  },
  {
   "cell_type": "markdown",
   "metadata": {
    "colab_type": "text",
    "id": "hL4L5oRjmj-u"
   },
   "source": [
    "Error of the estimate within 95% Confident Interval"
   ]
  },
  {
   "cell_type": "code",
   "execution_count": null,
   "metadata": {
    "colab": {
     "base_uri": "https://localhost:8080/",
     "height": 34
    },
    "colab_type": "code",
    "id": "BHE0GXtD2lbM",
    "outputId": "7f8588f7-386d-4f8d-a579-c123dfcdf798"
   },
   "outputs": [],
   "source": [
    "sigma = (1/(m-1))*np.sum( (4*f - pi)**2 ) \n",
    "err = np.sqrt(sigma/m)\n",
    "print('Error: %.3f' % (1.96*err) )"
   ]
  },
  {
   "cell_type": "markdown",
   "metadata": {
    "colab_type": "text",
    "id": "kXCj9nWnWbca"
   },
   "source": [
    "# Exercise - Root Mean Square Speed of an Ideal Gas"
   ]
  },
  {
   "cell_type": "markdown",
   "metadata": {
    "colab_type": "text",
    "id": "nXCgd8Zdsjgg"
   },
   "source": [
    "In statistical physics/physical chemistry, the speeds of particles in an ideal gas at temperature T is given by the **Maxwell-Boltzmann distribution**:\n",
    "\n",
    "\\\n",
    "\n",
    "$$p(v)= \\frac{4}{\\sqrt {\\pi}}(\\frac{m}{2k_BT})^{\\frac{3}{2}}v^2 \\exp({-\\frac{mv^2}{2 k_BT}})$$\n",
    "\n",
    "\\\n",
    "Where $m$ is the mass of an particle in $kg$, $T$ is the temperature in $K$, $k_B = 1.38\\times 10^{−23}\\  m^2 kg\\ s^{-2}\\ K^{-1}$ is the Boltzmann constant, and $v$ is the speed of a particle in $ms^{-1}$.\n",
    "\n",
    "From the distribution, one can obtain the expected value of an observable $Q$ (i.e. expected speed, expected K.E. etc.) by taking the expectation over the distribution, i.e.:\n",
    "\n",
    "\\\n",
    "\n",
    "$$ \\langle Q \\rangle = \\int_0^{\\infty} Q\\ p(v)dv$$\n",
    "\n",
    "\\\n",
    "\n",
    "For example, the Root Mean Square Speed $v_{rms}$ is given by:\n",
    "\n",
    "\\\n",
    "\\begin{eqnarray}\n",
    " v_{rms} &=& \\sqrt{\\bar{v^2}} \\\\\n",
    "                &=& \\sqrt{\\int_0^{\\infty} v^2\\ p(v)dv} \\\\ \n",
    "                &=& \\sqrt{\\frac{3k_BT}{m}}\n",
    "\\end{eqnarray}\n",
    "\n",
    "\\"
   ]
  },
  {
   "cell_type": "markdown",
   "metadata": {
    "colab_type": "text",
    "id": "JYyTnt6T5gEw"
   },
   "source": [
    "## Question:\n",
    "\n",
    "### Calculate $v_{rms}$ for the nitrogen molecules (mass = $4.6495 \\times 10^{-26}kg$) at temperature 300K using Monte Carlo Integration (with Monte Carlo sample size of  $10^6$), compare the value with the theoretical result as shown above. What is the Monte Carlo error within 95% Confident Interval?\n",
    "\n",
    "**Hint:**\n",
    "\n",
    "To sample a random variable $v$ from the Maxwell-Boltzmann distribution, follow the below steps:\n",
    "\n",
    "\n",
    "1.   Sample 3 random variables, $v_x, v_y, v_z$ independently from Gaussian distribution with $\\mu= 0$ and $\\sigma=\\sqrt{\\frac{k_BT}{m}}$, i.e. $\\mathcal{N}(0,\\frac{k_BT}{m} )$  \n",
    "2.  Then, $v \\equiv \\sqrt{v_x^2+v_y^2+v_z^2}$ follows the Maxwell-Boltzmann distribution\n",
    "\n",
    "**Proof:**\n",
    "\n",
    "Let $\\sigma=\\sqrt{\\frac{k_BT}{m}}$, and $v_i$ for $i\\in\\{x,y,z\\}$ be a random variable following the Gaussian distribution independently, i.e. $f(v_i)dv_i = \\frac{1}{\\sqrt{2\\pi\\sigma^2}}\\exp(-\\frac{v_i^2}{2\\sigma^2})dv_i$\n",
    "\n",
    "\\\n",
    "\n",
    "Since $v_x,v_y,v_z$ are i.i.d., their joint distribution is:\n",
    "\\\n",
    "$$f(v_x)f(v_y)f(v_z)dv_xdv_ydv_z = (\\frac{1}{\\sqrt{2\\pi\\sigma^2}})^3\\exp(-\\frac{v_x^2+v_y^2+v_z^2}{2\\sigma^2})dv_xdv_ydv_z$$\n",
    "\\\n",
    "Defining $v \\equiv \\sqrt{v_x^2+v_y^2+v_z^2}$ and rewriting the terms in spherical coordinates gives:\n",
    "\n",
    "\\\n",
    "\n",
    "$$ (\\frac{1}{\\sqrt{2\\pi\\sigma^2}})^3\\exp(-\\frac{v^2}{2\\sigma^2}) v^2 \\sin \\phi \\ dvd\\theta d\\phi$$\n",
    "\n",
    "\\\n",
    "\n",
    "Integrating over all $\\theta$ and $\\phi$:\n",
    "\\begin{eqnarray}\n",
    "&\\int_0^\\pi \\int_0^{2\\pi} (\\frac{1}{\\sqrt{2\\pi\\sigma^2}})^3\\exp(-\\frac{v^2}{2\\sigma^2}) v^2 \\sin \\phi \\ dvd\\theta d\\phi  \\\\ &= \n",
    "4\\pi (\\frac{1}{\\sqrt{2\\pi\\sigma^2}})^3 v^2 \\exp(-\\frac{v^2}{2\\sigma^2})   \\ dv \\\\&= \\frac{4}{\\sqrt{\\pi}}(\\frac{1}{2})^{\\frac{3}{2}} (\\frac{1}{\\sigma})^3 v^2 \\exp(-\\frac{v^2}{2\\sigma^2})   \\ dv \\\\&=\n",
    "\\frac{4}{\\sqrt{\\pi}}(\\frac{m}{2k_BT})^{3/2} v^2 \\exp(-\\frac{mv^2}{2k_BT})   \\ dv\n",
    "\\end{eqnarray}\n",
    "\n",
    "Hence, $v$ follows the Maxwell-Botlzmann distribution."
   ]
  },
  {
   "cell_type": "markdown",
   "metadata": {
    "colab_type": "text",
    "id": "yKSXbxMMcxKR"
   },
   "source": [
    "Define the constants"
   ]
  },
  {
   "cell_type": "code",
   "execution_count": null,
   "metadata": {
    "colab": {},
    "colab_type": "code",
    "id": "u2jfPINnWdgs"
   },
   "outputs": [],
   "source": [
    "m = \n",
    "k = \n",
    "T = "
   ]
  },
  {
   "cell_type": "markdown",
   "metadata": {
    "colab_type": "text",
    "id": "zkVEmZqcdGg7"
   },
   "source": [
    "The theoretical value of $v_{rms}$"
   ]
  },
  {
   "cell_type": "code",
   "execution_count": null,
   "metadata": {
    "colab": {
     "base_uri": "https://localhost:8080/",
     "height": 34
    },
    "colab_type": "code",
    "id": "gHEVtVBvYMgg",
    "outputId": "6c2badfd-a3f2-4fe9-bc02-259d9cf35785"
   },
   "outputs": [],
   "source": [
    "vrms_t = \n",
    "print('Theoretical value of vrms: %.2fm/s'% vrms_t)"
   ]
  },
  {
   "cell_type": "markdown",
   "metadata": {
    "colab_type": "text",
    "id": "b9pMk2vZeUWQ"
   },
   "source": [
    "Monte Carlo Method"
   ]
  },
  {
   "cell_type": "code",
   "execution_count": null,
   "metadata": {
    "colab": {
     "base_uri": "https://localhost:8080/",
     "height": 34
    },
    "colab_type": "code",
    "id": "j9QC1YELYUbz",
    "outputId": "111f4689-ea44-4d78-bec0-aeed271bdec8"
   },
   "outputs": [],
   "source": [
    "m_size = int(1e4)\n",
    "sigma = \n",
    "\n",
    "vx = np.random.normal(0,sigma,m_size)\n",
    "vy = np.random.normal(0,sigma,m_size)\n",
    "vz = np.random.normal(0,sigma,m_size)\n",
    "\n",
    "v_sq = vx**2+vy**2+vz**2\n",
    "\n",
    "vrms = \n",
    "print('The Monte Carlo estimate of vrms: %.2fm/s'% vrms)"
   ]
  },
  {
   "cell_type": "code",
   "execution_count": null,
   "metadata": {
    "colab": {
     "base_uri": "https://localhost:8080/",
     "height": 34
    },
    "colab_type": "code",
    "id": "Gj87a9pjzMyT",
    "outputId": "dd27e2d5-30c8-41e1-eca4-a11335940486"
   },
   "outputs": [],
   "source": [
    "var = (1/(m_size-1))*np.sum( ( np.sqrt(v_sq) - vrms  )**2 ) \n",
    "\n",
    "\n",
    "err = \n",
    "print('Error: %.2f' % (1.96*err) )"
   ]
  },
  {
   "cell_type": "markdown",
   "metadata": {
    "colab_type": "text",
    "id": "PMuGhMCrYOsk"
   },
   "source": [
    "# Plotting with Matplotlib"
   ]
  },
  {
   "cell_type": "code",
   "execution_count": null,
   "metadata": {
    "colab": {},
    "colab_type": "code",
    "id": "j0L8XscBYENw"
   },
   "outputs": [],
   "source": [
    "import numpy as np\n",
    "from matplotlib import pyplot as plt\n",
    "import os \n",
    "%matplotlib inline\n"
   ]
  },
  {
   "cell_type": "markdown",
   "metadata": {
    "colab_type": "text",
    "id": "K8ayVEAIYEN0"
   },
   "source": [
    "### Plotting a single image"
   ]
  },
  {
   "cell_type": "code",
   "execution_count": null,
   "metadata": {
    "colab": {},
    "colab_type": "code",
    "id": "gbSvg5lQYEN1"
   },
   "outputs": [],
   "source": [
    "path = r'' #path to face_db\n",
    "\n",
    "newton = plt.imread( os.path.join(path, '.face_db/Issac_Newton.jpg') )"
   ]
  },
  {
   "cell_type": "code",
   "execution_count": null,
   "metadata": {
    "colab": {},
    "colab_type": "code",
    "id": "en7sj7fRYEN3"
   },
   "outputs": [],
   "source": [
    "plt.title('Issac Newton')\n",
    "plt.xticks([])\n",
    "plt.yticks([])\n",
    "plt.imshow(newton)\n",
    "plt.show()"
   ]
  },
  {
   "cell_type": "markdown",
   "metadata": {
    "colab_type": "text",
    "id": "EJz8KjqwYEN9"
   },
   "source": [
    "### Plotting multiple images"
   ]
  },
  {
   "cell_type": "code",
   "execution_count": null,
   "metadata": {
    "colab": {},
    "colab_type": "code",
    "id": "tjUlQE4fYEN-"
   },
   "outputs": [],
   "source": [
    "known_face_names = #read all the known people names in face_db\n",
    "print('Known people:',known_face_names)"
   ]
  },
  {
   "cell_type": "code",
   "execution_count": null,
   "metadata": {
    "colab": {},
    "colab_type": "code",
    "id": "We5xOUVEYEOC"
   },
   "outputs": [],
   "source": [
    "figure1 = plt.figure(figsize=(10,8)) #you can change the size here\n",
    "rows = 4#len(known_face_names)//4+1\n",
    "col = 4\n",
    "\n",
    "for i, face in enumerate(known_face_names):\n",
    "    file = face+'.jpg'  \n",
    "    face_image = #for each known person name, read the corresponding image\n",
    "    ax = figure1.add_subplot(rows, col, i+1, xticks=[], yticks=[])  \n",
    "    ax.imshow(face_image)\n",
    "    ax.set_title(face)\n",
    "plt.show()"
   ]
  },
  {
   "cell_type": "code",
   "execution_count": null,
   "metadata": {},
   "outputs": [],
   "source": []
  }
 ],
 "metadata": {
  "accelerator": "TPU",
  "colab": {
   "collapsed_sections": [],
   "name": "basic_python(ref ans)(lesson3).ipynb",
   "provenance": [],
   "version": "0.3.2"
  },
  "kernelspec": {
   "display_name": "Python 3",
   "language": "python",
   "name": "python3"
  },
  "language_info": {
   "codemirror_mode": {
    "name": "ipython",
    "version": 3
   },
   "file_extension": ".py",
   "mimetype": "text/x-python",
   "name": "python",
   "nbconvert_exporter": "python",
   "pygments_lexer": "ipython3",
   "version": "3.7.3"
  }
 },
 "nbformat": 4,
 "nbformat_minor": 1
}
