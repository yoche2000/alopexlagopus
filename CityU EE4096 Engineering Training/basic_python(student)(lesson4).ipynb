{
 "cells": [
  {
   "cell_type": "markdown",
   "metadata": {
    "colab_type": "text",
    "id": "NU-wC3ExuA6V"
   },
   "source": [
    "# Lesson 4: \n"
   ]
  },
  {
   "cell_type": "markdown",
   "metadata": {
    "colab_type": "text",
    "id": "jhe1xyouuA6g"
   },
   "source": [
    "### Import the required libraries"
   ]
  },
  {
   "cell_type": "code",
   "execution_count": null,
   "metadata": {
    "colab": {},
    "colab_type": "code",
    "id": "MuZcUZISuA6q"
   },
   "outputs": [],
   "source": [
    "import face_recognition as fr\n",
    "from matplotlib import pyplot as plt\n",
    "plt.style.use('default')\n",
    "import os\n",
    "import cv2\n",
    "import numpy as np\n",
    "from datetime import datetime"
   ]
  },
  {
   "cell_type": "markdown",
   "metadata": {
    "colab_type": "text",
    "id": "i3kS4EqNuA7I"
   },
   "source": [
    "### Read and plot the image"
   ]
  },
  {
   "cell_type": "code",
   "execution_count": null,
   "metadata": {
    "colab": {},
    "colab_type": "code",
    "id": "_zL9DC8PuA7U",
    "scrolled": true
   },
   "outputs": [],
   "source": [
    "path = r'..\\.sample_photos' #path to the sample_photos folder\n",
    "image = plt.imread(os.path.join(path, 'samplephoto1.jpg')) #read the image\n",
    "\n",
    "plt.xticks([], [])\n",
    "plt.yticks([], [])\n",
    "plt.imshow(image)\n",
    "plt.show()"
   ]
  },
  {
   "cell_type": "markdown",
   "metadata": {
    "colab_type": "text",
    "id": "tJ4QzLTOuA7m"
   },
   "source": [
    "### Face Detection"
   ]
  },
  {
   "cell_type": "code",
   "execution_count": null,
   "metadata": {
    "colab": {},
    "colab_type": "code",
    "id": "9tM75opBuA7s"
   },
   "outputs": [],
   "source": [
    "from datetime import datetime\n",
    "start = datetime.now()\n",
    "face_locations =  fr.api.face_locations(image,  number_of_times_to_upsample=1, model='cnn') #detect face locations, try different models and no. of times to upsample\n",
    "print('Time passed:', datetime.now() - start)"
   ]
  },
  {
   "cell_type": "code",
   "execution_count": null,
   "metadata": {
    "colab": {},
    "colab_type": "code",
    "id": "mx8RwAQbuA7_"
   },
   "outputs": [],
   "source": [
    "print('No. of faces found: %i' %len(face_locations))\n",
    "print('Face locations:', face_locations)"
   ]
  },
  {
   "cell_type": "markdown",
   "metadata": {
    "colab_type": "text",
    "id": "4RryNV3MuA8W"
   },
   "source": [
    "### Drawing bounding boxes and plot the image"
   ]
  },
  {
   "cell_type": "code",
   "execution_count": null,
   "metadata": {
    "colab": {},
    "colab_type": "code",
    "id": "4Z8nPBZUuA8c"
   },
   "outputs": [],
   "source": [
    "new_image = np.array(image) #declare a new array to draw on\n",
    "\n",
    "#draw bounding boxes around the faces in the new_image array\n",
    "for top, right, bottom, left in face_locations: \n",
    "        #Draw bounding boxes on new_image for each locations\n",
    "    \n",
    "#Plotting the image    \n",
    "plt.xticks([], [])\n",
    "plt.yticks([], [])\n",
    "plt.imshow(new_image)\n",
    "plt.show()"
   ]
  },
  {
   "cell_type": "markdown",
   "metadata": {
    "colab_type": "text",
    "id": "FhDL4qZ1uA8y"
   },
   "source": [
    "# Questions\n",
    "    "
   ]
  },
  {
   "cell_type": "markdown",
   "metadata": {
    "colab_type": "text",
    "id": "5U9LCb5kuA80"
   },
   "source": [
    "1. Try to detect all the faces out of the given photos\n",
    "2. How many faces are there in each photo?\n",
    "3. Have all the faces been detected?\n",
    "4. How long does it take for the detection?\n",
    "5. Try different models ('hog' or 'cnn') and differnt number_of_times_to_upsample, compare the performance (percentage of faces it is able to detect and the time taken)\n",
    "Hints:\n",
    "- Keep number_of_times_to_upsample < 4 when using 'hog' model or < 3 when using 'cnn' model, you may get memory error or cause your computer to hang if this number is too large.\n",
    "- You may count the time with the datetime.now() function"
   ]
  },
  {
   "cell_type": "code",
   "execution_count": null,
   "metadata": {
    "colab": {},
    "colab_type": "code",
    "id": "ToLQIhgvuA81"
   },
   "outputs": [],
   "source": []
  },
  {
   "cell_type": "markdown",
   "metadata": {
    "colab_type": "text",
    "id": "-d3U0vL8uBIr"
   },
   "source": [
    "## Exercise to understand the Histogram of Oriented Gradients (HOG) feature descriptor"
   ]
  },
  {
   "cell_type": "code",
   "execution_count": null,
   "metadata": {
    "colab": {},
    "colab_type": "code",
    "id": "8o5aFVb-uBIt"
   },
   "outputs": [],
   "source": [
    "from matplotlib import pyplot as plt\n",
    "plt.style.use('default')\n",
    "import numpy as np\n",
    "import os\n",
    "import cv2"
   ]
  },
  {
   "cell_type": "markdown",
   "metadata": {
    "colab_type": "text",
    "id": "X_Q9MXQXuBI4"
   },
   "source": [
    "## Loading and cropping the image"
   ]
  },
  {
   "cell_type": "code",
   "execution_count": null,
   "metadata": {
    "colab": {},
    "colab_type": "code",
    "id": "QbqNc_jduBI7"
   },
   "outputs": [],
   "source": [
    "path = r'path_to_the_folder_containing_fence.jpg' #path to the folder containing the fence.jpg file\n",
    "file = 'fence.jpg'\n",
    "\n",
    "img = plt.imread(os.path.join(path, file)) #read in the image\n",
    "img_gray = cv2.cvtColor(img, cv2.COLOR_BGR2GRAY) #convert it to black and white\n",
    "small_img = img_gray[100:132,100:164] #crop the image\n",
    "small_img = small_img.astype('float')"
   ]
  },
  {
   "cell_type": "markdown",
   "metadata": {
    "colab_type": "text",
    "id": "8btDfBMcuBJN"
   },
   "source": [
    "You may rotate the image with the np.rot90() function"
   ]
  },
  {
   "cell_type": "code",
   "execution_count": null,
   "metadata": {
    "colab": {},
    "colab_type": "code",
    "id": "xTK0ITypuBJR"
   },
   "outputs": [],
   "source": [
    "#small_img = np.rot90(small_img) #rotate the image by 90 degrees\n",
    "plt.imshow(small_img, cmap='gray')\n",
    "plt.title('Input image')\n",
    "plt.savefig('small_img.jpg',dpi=1000)\n",
    "plt.show()"
   ]
  },
  {
   "cell_type": "markdown",
   "metadata": {
    "colab_type": "text",
    "id": "xPeftzVeuBJX"
   },
   "source": [
    "## Background math"
   ]
  },
  {
   "cell_type": "markdown",
   "metadata": {
    "colab_type": "text",
    "id": "ombP-1rluBJZ"
   },
   "source": [
    "### Vectors"
   ]
  },
  {
   "cell_type": "markdown",
   "metadata": {
    "colab_type": "text",
    "id": "Q7nRpjHluBJb"
   },
   "source": [
    "In physics, vectors are quantities with both the magnitude and the direction, examples are displacement, velocity, acceleration, force etc.\n",
    "\n",
    "Algebraically, a vector can be represented by a tuple of its components, i.e. for a 2-dimensionally vector $\\vec{r}$:\n",
    "\n",
    "$$\n",
    "\\vec{r} = (r_x, r_y)\n",
    "$$\n",
    "\n",
    "where $r_x$ and $r_y$ are the components of $\\vec{r}$ along the $x$ and $y$ axis respectively.\n",
    "\n",
    "The Euclidean norm (or the magnitude) of a vector $|\\vec{r}|$ can be found by the Pythagoras Theorem:\n",
    "\n",
    "$$\n",
    "|\\vec{r}| = \\sqrt{r_x^2+r_y^2}\n",
    "$$\n",
    "\n",
    "and the direction $\\theta$ can be found by:\n",
    "\n",
    "$$\n",
    "\\begin{align}\n",
    "\\tan \\theta &= \\frac{r_y}{r_x} \\\\\n",
    "\\theta &= \\arctan (\\frac{r_y}{r_x})\n",
    "\\end{align}\n",
    "$$\n",
    "\n",
    "A unit vector $\\hat r$ is a vector with a magnitude of 1, it is obtained by dividing each components of a vector $\\vec{r}$ by its norm, i.e.:\n",
    "\n",
    "$$\n",
    "\\hat r = ( \\frac{r_x}{|\\vec{r}|}, \\frac{r_y}{|\\vec{r}|} ) = \\frac{1}{|\\vec{r}|} (r_x, r_y)\n",
    "$$\n",
    "\n",
    "In general, the concept of vectors can be generalized to an n-dimensional space, i.e. a vector with $n$ components. In face recognition, a face identity is represented an n-dimensional vector called the face embedding, we will discuss it later."
   ]
  },
  {
   "cell_type": "markdown",
   "metadata": {
    "colab_type": "text",
    "id": "ySKXTv-ZuBJd"
   },
   "source": [
    "### Example:\n",
    "\n",
    "If\n",
    "$$\\vec{r} = (2, 3)$$\n",
    "\n",
    "then:\n",
    "1. \n",
    "$$\n",
    "|\\vec{r}| = \\sqrt{2^2+3^2} = \\sqrt{13},\n",
    "$$\n",
    "<br>\n",
    "\n",
    "2. \n",
    "$$\n",
    "\\begin{align}\n",
    "\\tan \\theta &= \\frac{3}{2} \\\\\n",
    "\\theta &= \\arctan (\\frac{3}{2}) \\\\\n",
    "& \\approx 56.3^\\circ,\n",
    "\\end{align}\n",
    "$$\n",
    "<br>\n",
    "\n",
    "3. \n",
    "$$\n",
    "\\hat r = \\frac{1}{\\sqrt{13}} (2, 3)\n",
    "$$"
   ]
  },
  {
   "cell_type": "code",
   "execution_count": null,
   "metadata": {
    "colab": {},
    "colab_type": "code",
    "id": "tc02YnFhuBJf",
    "outputId": "f7c68def-fce7-43c3-b517-f78c3c6829a6"
   },
   "outputs": [],
   "source": [
    "from matplotlib.patches import Arc\n",
    "\n",
    "angle_plot = Arc(xy=(0,0), width=1.2, height=1.5, theta1=0, theta2=56.3, color='black')\n",
    "ax = plt.gca()\n",
    "ax.add_patch(angle_plot)\n",
    "plt.xlim(0,4)\n",
    "plt.ylim(0,4)\n",
    "plt.grid()\n",
    "plt.title('Example of a vector', fontsize=18,  y=1.03)\n",
    "plt.xlabel('x', fontsize=15,labelpad=10)\n",
    "plt.ylabel('y', fontsize=15, rotation=0,labelpad=20)\n",
    "plt.annotate(r'$\\vec{r}$', xy=(1.1,2.1), fontsize=20)\n",
    "plt.annotate('(2,3)', xy=(2,3), fontsize=15)\n",
    "plt.annotate(r'$\\theta = arctan( \\frac{3}{2} ) \\approx 56.3^\\circ$', xy=(0.6,0.3), fontsize=15)\n",
    "plt.quiver(*(0,0), 2, 3,  angles='xy', scale_units='xy', scale=1, color='blue')\n",
    "plt.show()"
   ]
  },
  {
   "cell_type": "markdown",
   "metadata": {
    "colab_type": "text",
    "id": "WNsuZ3QHuBJs"
   },
   "source": [
    "### Derivatives"
   ]
  },
  {
   "cell_type": "markdown",
   "metadata": {
    "colab_type": "text",
    "id": "CZmuUlfYuBJu"
   },
   "source": [
    "The derivative of a function $f(x)$ is defined by the following limit:\n",
    "\n",
    "\n",
    "$$\n",
    "    \\frac{d f(x)}{dx} = \\lim_{\\Delta x\\to 0} \\frac{f(x+\\Delta x) - f(x)}{\\Delta x}\n",
    "$$\n",
    "\n",
    "\n",
    "\n",
    "It can be shown that if $f(x)=x^n$ for any constant $n$, then $\\frac{df(x)}{dx}=n x^{n-1}$.\n",
    "\n"
   ]
  },
  {
   "cell_type": "markdown",
   "metadata": {
    "colab_type": "text",
    "id": "ynWE4MKauBJv"
   },
   "source": [
    "<br>\n",
    "    <center>\n",
    "        <img src=\"slope.jpg\" width=\"220\" height=\"20\" />   \n",
    "        <figcaption >Fig.1 - Slope of a linear function.</figcaption>\n",
    "    </center>\n",
    "</br> \n",
    "<br>    \n",
    "    <center>  \n",
    "        <img src=\"derivative.jpg\" width=\"320\" height=\"320\" />   \n",
    "        <figcaption >Fig.2 - Derivative of a function.</figcaption>    \n",
    "    </center>\n",
    "</br>"
   ]
  },
  {
   "cell_type": "markdown",
   "metadata": {
    "colab_type": "text",
    "id": "xkT_u4WYuBJx"
   },
   "source": [
    "### Partial derivatives and gradient"
   ]
  },
  {
   "cell_type": "markdown",
   "metadata": {
    "colab_type": "text",
    "id": "G17zmOAXuBJz"
   },
   "source": [
    "The partial derivatives of a multivariate function $f(x_1,x_2,\\ldots,x_k)$ are defined by the limit:\n",
    "\n",
    "$$\n",
    "    \\frac{\\partial f(x_1,x_2,\\ldots,x_k)}{\\partial{x_i}} = \\lim_{\\Delta x_i\\to 0} \\frac{f(x_1,\\ldots, x_i+\\Delta x_i,\\ldots, x_k) - f(x_1,\\ldots,x_i,\\ldots,x_k)}{\\Delta x_i}\n",
    "$$\n",
    "\n",
    "and the gradient of $f(x_1,x_2,\\ldots,x_k)$ and its norm are given by:\n",
    "\n",
    "$$\n",
    "\\vec{\\nabla} f(x_1,x_2,\\ldots,x_k) = ( \\frac{\\partial f}{\\partial x_1}, \\frac{\\partial f}{\\partial x_2}, \\ldots,\\frac{\\partial f}{\\partial x_k} )\n",
    "$$ \n",
    ", and \n",
    "$$\n",
    "|\\vec{\\nabla} f(x_1,x_2,\\ldots,x_k)| = \\sqrt{ (\\frac{\\partial f}{\\partial x_1})^2 + (\\frac{\\partial f}{\\partial x_2})^2, \\ldots, (\\frac{\\partial f}{\\partial x_k})^2}\n",
    "$$ respectively.\n",
    "\n",
    "For example, if $f(x,y) = x^3 + y^4$, the partial derivatives are:\n",
    "\n",
    "$$\n",
    "\\frac{\\partial f(x,y)}{\\partial{x}} = 3x^{2}\n",
    "$$\n",
    "\n",
    "$$\n",
    "\\frac{\\partial f(x,y)}{\\partial{y}} = 4y^{3}\n",
    "$$\n",
    "\n",
    "The gradient and its norm are:\n",
    "\n",
    "$$\n",
    "\\vec{\\nabla} f(x,y) = (3x^{2}, 4y^{3})\n",
    "$$\n",
    ", and \n",
    "$$\n",
    "|\\vec{\\nabla} f(x,y)| = \\sqrt{(3x^{2})^2+(4y^{3})^2} = \\sqrt{ 9x^4 + 16y^6 }\n",
    "$$\n",
    "respectively.\n"
   ]
  },
  {
   "cell_type": "markdown",
   "metadata": {
    "colab_type": "text",
    "id": "4HafyL4kuBJ1"
   },
   "source": [
    "## Convolution"
   ]
  },
  {
   "cell_type": "markdown",
   "metadata": {
    "colab_type": "text",
    "id": "UY1vmMoOuBJ3"
   },
   "source": [
    "The convolution operation is important in computer vision for edge detection and a type of neural network called convolutional neural network. The convolution between the matrices $f$ and $g$ is denoted by $f \\ast g$, and it is defined by the following formula:\n",
    "\n",
    "$$\n",
    "(f \\ast g)(x,y) = \\sum_{u=-\\infty}^{+\\infty} \\sum_{v=-\\infty}^{+\\infty} f(u, v) g(x-u,y-v)\n",
    "$$\n",
    "\n"
   ]
  },
  {
   "cell_type": "markdown",
   "metadata": {
    "colab_type": "text",
    "id": "d3BYWcLduBJ9"
   },
   "source": [
    "For example:\n",
    "    \n",
    "<br>\n",
    "<center>\n",
    "<img src=\"convolution.jpg\" width=\"420\" height=\"420\" />    \n",
    "<\\center>\n",
    "<br>\n",
    "<br>   \n",
    "    \n",
    "The matrix f can be an image and the matrix g is called the filter or the kernel. Sometimes, 0s are padded around the border of the matrix f to make the size of the output equals to the size of the matrix f, it is called the 'same padding'."
   ]
  },
  {
   "cell_type": "markdown",
   "metadata": {
    "colab_type": "text",
    "id": "FTReZnTSuBKA"
   },
   "source": [
    "## Calculating image gradients using convolution"
   ]
  },
  {
   "cell_type": "markdown",
   "metadata": {
    "colab_type": "text",
    "id": "hBVOHFa_uBKC"
   },
   "source": [
    "For dicretized data (i.e. an image), we can approximate $\\frac{\\partial f(x,y)}{\\partial x}$ by taking $\\Delta x = 1$ in the limit, where $f(x,y)$ represents the pixel value at the position $(x,y)$. It corresponds to **the change of pixel value when moving by 1 pixel along the x-axis**. It can be showned that it is equivalent to the following convolution operation:\n",
    "\n",
    "$$\n",
    "\\begin{equation}\n",
    "\\frac{\\partial f(x,y)}{\\partial x}  \\approx \\frac{f(x+1,y) - f(x,y)}{1} \\\\\n",
    "                                     = f \\ast \\begin{pmatrix} -1 & 1 \\end{pmatrix}\n",
    "\\end{equation}\n",
    "$$\n",
    "\n",
    "Similarly, $\\frac{\\partial f(x,y)}{\\partial y}$ can be approximated by taking $\\Delta y = 1$ in the limit, it corresponds to **the change of pixel value when moving by 1 pixel along the y-axis**, and it is equivalent to the following convolution operation:\n",
    "\n",
    "$$\n",
    "\\begin{equation}\n",
    "\\frac{\\partial f(x,y)}{\\partial y} \\approx \\frac{f(x,y+1) - f(x,y)}{1} \\\\\n",
    "                                    = f \\ast \\begin{pmatrix} -1 \\\\ 1 \\end{pmatrix}\n",
    "\\end{equation}\n",
    "$$\n",
    "\n",
    "The matrix $\\begin{pmatrix} -1 & 1 \\end{pmatrix}$ is a vertical line detector and the matrix $\\begin{pmatrix} -1 \\\\ 1 \\end{pmatrix}$ is a horizontal line detector."
   ]
  },
  {
   "cell_type": "markdown",
   "metadata": {
    "colab_type": "text",
    "id": "knCZ7uz1uBKG"
   },
   "source": [
    "## Code"
   ]
  },
  {
   "cell_type": "markdown",
   "metadata": {
    "colab_type": "text",
    "id": "0ihMUZ5duBKI"
   },
   "source": [
    "import the convolve2d() function from scipy.signal module, rename it as conv2d()"
   ]
  },
  {
   "cell_type": "code",
   "execution_count": null,
   "metadata": {
    "colab": {},
    "colab_type": "code",
    "id": "6TIOzbVRuBKJ"
   },
   "outputs": [],
   "source": [
    "from scipy.signal import convolve2d as conv2d"
   ]
  },
  {
   "cell_type": "markdown",
   "metadata": {
    "colab_type": "text",
    "id": "dJu-nQequBKR"
   },
   "source": [
    "Define the vertical line and horizontal line detectors as numpy arrays with the variable names vline and hline respectively"
   ]
  },
  {
   "cell_type": "code",
   "execution_count": null,
   "metadata": {
    "colab": {},
    "colab_type": "code",
    "id": "6AmqxdFUuBKT"
   },
   "outputs": [],
   "source": [
    "vline =  #vertical line detectors\n",
    "hline =  #horizontal line detectors\n",
    "\n",
    "vline = vline.reshape(1,-1)\n",
    "hline = hline.reshape(-1,1)\n",
    "\n",
    "print('vline:\\n',vline)\n",
    "print('hline:\\n',hline)"
   ]
  },
  {
   "cell_type": "markdown",
   "metadata": {
    "colab_type": "text",
    "id": "JaT3VYAzuBK5"
   },
   "source": [
    "Compute the convolution of the input image with the vertical line detector and plot out the resulting image, how does it look like?\n",
    "\n",
    "Hint: Use the conv2d() function and specify mode='same', documentation: https://docs.scipy.org/doc/scipy/reference/generated/scipy.signal.convolve2d.html"
   ]
  },
  {
   "cell_type": "code",
   "execution_count": null,
   "metadata": {
    "colab": {},
    "colab_type": "code",
    "id": "DxYAPdUEuBLH"
   },
   "outputs": [],
   "source": [
    "dx =  #convolution with vline filter, use 'same' padding (partial derivative along x axis)\n",
    "\n",
    "plt.title('Convolution with vline detector')\n",
    "plt.imshow(dx, cmap='gray')\n",
    "plt.show()"
   ]
  },
  {
   "cell_type": "markdown",
   "metadata": {
    "colab_type": "text",
    "id": "-Viuv1ytuBLN"
   },
   "source": [
    "Compute the convolution of the input image with the horizontal line detector and plot out the resulting image, how does it look like?"
   ]
  },
  {
   "cell_type": "code",
   "execution_count": null,
   "metadata": {
    "colab": {},
    "colab_type": "code",
    "id": "vISA95UyuBLP"
   },
   "outputs": [],
   "source": [
    "dy =  ##convolution with hline filter, use 'same' padding (partial derivative along y axis)\n",
    "\n",
    "plt.title('Convolution with hline detector')\n",
    "plt.imshow(dy, cmap='gray')\n",
    "plt.show()"
   ]
  },
  {
   "cell_type": "markdown",
   "metadata": {
    "colab_type": "text",
    "id": "NTnTjCs_uBLW"
   },
   "source": [
    "# Question\n",
    "Can you explain what you have seen in the resulting images?"
   ]
  },
  {
   "cell_type": "code",
   "execution_count": null,
   "metadata": {
    "colab": {},
    "colab_type": "code",
    "id": "aGQSaJBvuBLY"
   },
   "outputs": [],
   "source": []
  },
  {
   "cell_type": "markdown",
   "metadata": {
    "colab_type": "text",
    "id": "7RBl8fBDuBLf"
   },
   "source": [
    "## Calculating gradient magnitude (GM) and gradient direction (GD) "
   ]
  },
  {
   "cell_type": "markdown",
   "metadata": {
    "colab_type": "text",
    "id": "Qh5lIb41uBLg"
   },
   "source": [
    "The gradient magnitude (GM) is the norm of the gradient,and the gradient direction (GD) is the angle between the gradient vector and the x-axis.\n",
    "\n",
    "Calculate the gradient magnitude by:\n",
    "$$\n",
    "GM = |\\vec{\\nabla} f(x,y)| = \\sqrt{ (\\frac{\\partial f}{\\partial x})^2 + (\\frac{\\partial f}{\\partial y})^2}\n",
    "$$,\n",
    "and the gradient direction by:\n",
    "$$\n",
    "GD = \\arctan(\\frac{\\partial f/\\partial y}{\\partial f / \\partial x})\n",
    "$$\n",
    "\n",
    "To adjust for different  \n",
    "\n",
    "\n",
    "Hints: \n",
    "1. You may use the function np.arctan() to calculate $GD$\n",
    "2. The angle returned by the np.arctan() function is measured in radian, you may turn it into the degree measure by using the function np.rad2deg()\n",
    "3. It is normal if you encounter the \"divide by zero\" warning, as $\\frac{\\partial f}{\\partial x}$ can be 0 if the gradient is pointing towards the y-axis."
   ]
  },
  {
   "cell_type": "code",
   "execution_count": null,
   "metadata": {
    "colab": {},
    "colab_type": "code",
    "id": "ZLvb4t6kuBLi"
   },
   "outputs": [],
   "source": [
    "GM =  #Calculate the gradient magnitude, use np.sqrt() for square root calculation\n"
   ]
  },
  {
   "cell_type": "code",
   "execution_count": null,
   "metadata": {
    "colab": {},
    "colab_type": "code",
    "id": "6kTuI7jxuBLn"
   },
   "outputs": [],
   "source": [
    "GD =  #Calculate the gradient direction\n",
    "GD =  #Convert from radien to degree"
   ]
  },
  {
   "cell_type": "markdown",
   "metadata": {
    "colab_type": "text",
    "id": "Mcp5tHpJuBLs"
   },
   "source": [
    "## Plotting image gradient vector field"
   ]
  },
  {
   "cell_type": "markdown",
   "metadata": {
    "colab_type": "text",
    "id": "0GuMxI2suBLt"
   },
   "source": [
    "All the codes under this section will be given to the students"
   ]
  },
  {
   "cell_type": "code",
   "execution_count": null,
   "metadata": {
    "colab": {},
    "colab_type": "code",
    "id": "DIXu98biuBLv"
   },
   "outputs": [],
   "source": [
    "#plt.figure(figsize=(12,12)) #change the number for changing the figure size\n",
    "plt.quiver(dx, dy, color='r')\n",
    "plt.imshow(small_img, cmap='gray')\n",
    "plt.title('Image gradient')\n",
    "#plt.savefig('Image_gradient.jpg',dpi=1000)\n",
    "plt.show()"
   ]
  },
  {
   "cell_type": "code",
   "execution_count": null,
   "metadata": {
    "colab": {},
    "colab_type": "code",
    "id": "jnF472k-uBL0"
   },
   "outputs": [],
   "source": [
    "plt.quiver(dx, dy, color='black')\n",
    "plt.title('Image gradient vector field')\n",
    "plt.savefig('image_gradient_vector.jpg')\n",
    "plt.show()"
   ]
  },
  {
   "cell_type": "markdown",
   "metadata": {
    "colab_type": "text",
    "id": "fXcyN327uBL6"
   },
   "source": [
    "## Plotting Histogram of Oriented Gradients (HOG)"
   ]
  },
  {
   "cell_type": "markdown",
   "metadata": {
    "colab_type": "text",
    "id": "Yk9TE6JYuBL8"
   },
   "source": [
    "All the codes under this section will be given to the students"
   ]
  },
  {
   "cell_type": "code",
   "execution_count": null,
   "metadata": {
    "colab": {},
    "colab_type": "code",
    "id": "KdJupnqquBL9"
   },
   "outputs": [],
   "source": [
    "GM = GM.ravel()\n",
    "GD = GD.ravel()\n",
    "\n",
    "GD = 90 - GD\n",
    "GM = GM[~np.isnan(GD)]\n",
    "GD = GD[~np.isnan(GD)]\n",
    "\n",
    "\n",
    "GD = GD.reshape(-1)\n",
    "GM = GM.reshape(-1)\n",
    "\n",
    "ceil = np.ceil(GD / 20).astype('int32')\n",
    "floor = np.floor(GD / 20).astype('int32')\n",
    "\n",
    "\n",
    "w1 = (GD / 20) - floor\n",
    "w2 = ceil - (GD / 20)\n",
    "\n",
    "h1 =  np.bincount(floor, GM * w2, minlength=9)  \n",
    "h2 = np.bincount(ceil, GM * w1, minlength=9)"
   ]
  },
  {
   "cell_type": "code",
   "execution_count": null,
   "metadata": {
    "colab": {},
    "colab_type": "code",
    "id": "sSFFFNyGuBME"
   },
   "outputs": [],
   "source": [
    "h = h1 + h2\n",
    "h[0] = h[-1]\n",
    "h = h[:-1]\n",
    "\n",
    "norm = np.linalg.norm(h)\n",
    "h_norm = h/norm\n",
    "\n",
    "values = np.unique(np.floor(GD / 20).astype(np.int64))[:-1]\n",
    "ticklabel = values*20 - 90\n",
    "plt.title('Histogram of Oriented Gradients (HOG)')\n",
    "plt.ylabel('Gradient magnitude')\n",
    "plt.xlabel('Gradient direction (degree)')\n",
    "plt.bar(values, h_norm, tick_label=ticklabel)\n",
    "plt.savefig('HOG.jpg')\n",
    "plt.show()"
   ]
  },
  {
   "cell_type": "markdown",
   "metadata": {
    "colab_type": "text",
    "id": "LpQeu3szuBMK"
   },
   "source": [
    "# Questions\n",
    "\n",
    "1. Look at the image gradient vector field plot, in which direction most arrows are pointing at? Can you explain why?\n",
    "2. How does the HOG plot look like? i.e. Which gradient direction the gradient magnitude peaks at? Why?\n",
    "3. Try to rotate the orginally image by 90 degress using the function np.rot90() and answer question 1,2 again."
   ]
  },
  {
   "cell_type": "code",
   "execution_count": null,
   "metadata": {
    "colab": {},
    "colab_type": "code",
    "id": "kroETHHVuBMN"
   },
   "outputs": [],
   "source": []
  }
 ],
 "metadata": {
  "colab": {
   "collapsed_sections": [],
   "name": "lesson4_face_recognition(ref_ans).ipynb",
   "provenance": [],
   "version": "0.3.2"
  },
  "kernelspec": {
   "display_name": "Python 3",
   "language": "python",
   "name": "python3"
  },
  "language_info": {
   "codemirror_mode": {
    "name": "ipython",
    "version": 3
   },
   "file_extension": ".py",
   "mimetype": "text/x-python",
   "name": "python",
   "nbconvert_exporter": "python",
   "pygments_lexer": "ipython3",
   "version": "3.7.3"
  }
 },
 "nbformat": 4,
 "nbformat_minor": 1
}
