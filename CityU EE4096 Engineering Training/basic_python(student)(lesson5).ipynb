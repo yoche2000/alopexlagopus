{
 "cells": [
  {
   "cell_type": "code",
   "execution_count": null,
   "metadata": {
    "colab": {},
    "colab_type": "code",
    "id": "GBY_GRcUdcPt"
   },
   "outputs": [],
   "source": [
    "import face_recognition as fr\n",
    "#from google.colab import drive, files\n",
    "from matplotlib import pyplot as plt\n",
    "import os\n",
    "import cv2\n",
    "import numpy as np"
   ]
  },
  {
   "cell_type": "markdown",
   "metadata": {},
   "source": [
    "# Demonstration\n"
   ]
  },
  {
   "cell_type": "code",
   "execution_count": null,
   "metadata": {
    "scrolled": true
   },
   "outputs": [],
   "source": [
    "#Loading the image file\n",
    "image_file = '../.sample_photos/donald_trump.jpg'\n",
    "dt = fr.api.load_image_file(image_file)\n",
    "\n",
    "#compute face encodings\n",
    "encodings = fr.api.face_encodings(dt)\n",
    "\n",
    "thr = 0.3\n",
    "dis = fr.api.face_distance(encodings, encodings[0])\n",
    "match = fr.api.compare_faces(encodings, encodings[0], tolerance=thr)\n",
    "\n",
    "print('Face Distance: %.2f'% dis[1])\n",
    "print('Same person?(tolerance=%.2f):'%thr, match[1])\n",
    "plt.xticks([])\n",
    "plt.yticks([])\n",
    "plt.imshow(dt)\n",
    "plt.show()"
   ]
  },
  {
   "cell_type": "markdown",
   "metadata": {},
   "source": [
    "# Exercise"
   ]
  },
  {
   "cell_type": "markdown",
   "metadata": {},
   "source": [
    "## This part is what we have done last lesson"
   ]
  },
  {
   "cell_type": "markdown",
   "metadata": {
    "colab_type": "text",
    "id": "qrzbtV8oRzCG"
   },
   "source": [
    "**Face detection**"
   ]
  },
  {
   "cell_type": "code",
   "execution_count": null,
   "metadata": {
    "colab": {
     "base_uri": "https://localhost:8080/",
     "height": 326
    },
    "colab_type": "code",
    "executionInfo": {
     "elapsed": 11702,
     "status": "ok",
     "timestamp": 1538577741931,
     "user": {
      "displayName": "Admin HOCHK",
      "photoUrl": "",
      "userId": "03728073658139197385"
     },
     "user_tz": -480
    },
    "id": "Bks8XjR1rQqh",
    "outputId": "451ee809-59cb-49d4-ba1a-128b82212acc",
    "scrolled": true
   },
   "outputs": [],
   "source": [
    "# loading picture pic.jpg\n",
    "\n",
    "\n",
    "# plot the image\n",
    "\n"
   ]
  },
  {
   "cell_type": "markdown",
   "metadata": {},
   "source": [
    "sample      model       time        model      time\n",
    "  1          hog       1.564738      cnn\n",
    "  2          hog       5.373984\n",
    "  3          hog      31.060013\n",
    "  4          hog    2:48.425052"
   ]
  },
  {
   "cell_type": "code",
   "execution_count": null,
   "metadata": {},
   "outputs": [],
   "source": [
    "# detect the face location and print out the time need\n",
    "\n"
   ]
  },
  {
   "cell_type": "code",
   "execution_count": null,
   "metadata": {
    "scrolled": false
   },
   "outputs": [],
   "source": [
    "# print number of face detected and location of the face\n",
    "\n"
   ]
  },
  {
   "cell_type": "code",
   "execution_count": null,
   "metadata": {
    "scrolled": true
   },
   "outputs": [],
   "source": [
    "# mark the detected face and plot it out\n",
    "\n"
   ]
  },
  {
   "cell_type": "markdown",
   "metadata": {
    "colab_type": "text",
    "id": "JrpKtPK8R7jO"
   },
   "source": [
    "**Loading images with known faces and names**"
   ]
  },
  {
   "cell_type": "code",
   "execution_count": null,
   "metadata": {},
   "outputs": [],
   "source": [
    "# load the images and names of know faces\n",
    "\n"
   ]
  },
  {
   "cell_type": "code",
   "execution_count": null,
   "metadata": {
    "colab": {
     "base_uri": "https://localhost:8080/",
     "height": 384
    },
    "colab_type": "code",
    "executionInfo": {
     "elapsed": 7971,
     "status": "ok",
     "timestamp": 1538577757396,
     "user": {
      "displayName": "Admin HOCHK",
      "photoUrl": "",
      "userId": "03728073658139197385"
     },
     "user_tz": -480
    },
    "id": "LFz4XH2gsk_l",
    "outputId": "ecae7c47-7bca-4205-cdde-1e63e832ffa2"
   },
   "outputs": [],
   "source": [
    "# plot the known faces and names\n",
    "\n"
   ]
  },
  {
   "cell_type": "markdown",
   "metadata": {},
   "source": [
    "## New stuffs start here"
   ]
  },
  {
   "cell_type": "markdown",
   "metadata": {
    "colab_type": "text",
    "id": "DzAxKSiqSKEV"
   },
   "source": [
    "**Compute known faces embeddings**"
   ]
  },
  {
   "cell_type": "markdown",
   "metadata": {},
   "source": [
    "Write the codes for computing the face encodings for all the faces in the file_names list\n",
    "\n",
    "Hints:\n",
    "1. files_names is a list storing all the file names of images of the know people\n",
    "2. Use face_recognition.api.load_image_file( ) to load the image files\n",
    "3. Note that face_recognition.api.face_encodings() returns a list of numpy array (one array here as we assume each image contains only one person)\n"
   ]
  },
  {
   "cell_type": "code",
   "execution_count": null,
   "metadata": {
    "colab": {},
    "colab_type": "code",
    "id": "pIb5l1-cxBKZ"
   },
   "outputs": [],
   "source": [
    "# compute the face encodings for all know names and images\n",
    "\n"
   ]
  },
  {
   "cell_type": "code",
   "execution_count": null,
   "metadata": {
    "scrolled": true
   },
   "outputs": [],
   "source": [
    "# print the no. of face encodings\n",
    "\n"
   ]
  },
  {
   "cell_type": "markdown",
   "metadata": {
    "colab_type": "text",
    "id": "Vi3nW9m1SUQd"
   },
   "source": [
    "**Recognise known faces in the loaded unknown image with default tolerance (0.6)**\n",
    "\n",
    "1. First try with the default tolerance (0.6)\n",
    "2. Try to change the tolerance and compare the results"
   ]
  },
  {
   "cell_type": "code",
   "execution_count": null,
   "metadata": {
    "scrolled": true
   },
   "outputs": [],
   "source": [
    "# recognise known faces in the loaded unknown image with tolerance = 0.6\n",
    "\n"
   ]
  },
  {
   "cell_type": "markdown",
   "metadata": {
    "colab_type": "text",
    "id": "e1Ge-n8-Y5DV"
   },
   "source": [
    "**Recognition accuracy improved when tolerance changed from 0.6 (default) to 0.4**"
   ]
  },
  {
   "cell_type": "code",
   "execution_count": null,
   "metadata": {
    "colab": {
     "base_uri": "https://localhost:8080/",
     "height": 481
    },
    "colab_type": "code",
    "executionInfo": {
     "elapsed": 5854,
     "status": "ok",
     "timestamp": 1538577882165,
     "user": {
      "displayName": "Admin HOCHK",
      "photoUrl": "",
      "userId": "03728073658139197385"
     },
     "user_tz": -480
    },
    "id": "bpbdAsiSYtpM",
    "outputId": "91fa7883-78e0-4bb3-ea99-c2fe499ef3ba"
   },
   "outputs": [],
   "source": [
    "# recognise known faces in the loaded unknown image with tolerance = 0.4\n",
    "\n"
   ]
  },
  {
   "cell_type": "code",
   "execution_count": null,
   "metadata": {
    "colab": {},
    "colab_type": "code",
    "id": "HS9tT6mzXWvu",
    "scrolled": false
   },
   "outputs": [],
   "source": [
    "# mark the detected face and plot it out\n",
    "\n"
   ]
  }
 ],
 "metadata": {
  "accelerator": "TPU",
  "colab": {
   "name": "face_recognition.ipynb",
   "provenance": [],
   "version": "0.3.2"
  },
  "kernelspec": {
   "display_name": "Python 3",
   "language": "python",
   "name": "python3"
  },
  "language_info": {
   "codemirror_mode": {
    "name": "ipython",
    "version": 3
   },
   "file_extension": ".py",
   "mimetype": "text/x-python",
   "name": "python",
   "nbconvert_exporter": "python",
   "pygments_lexer": "ipython3",
   "version": "3.7.3"
  }
 },
 "nbformat": 4,
 "nbformat_minor": 2
}
