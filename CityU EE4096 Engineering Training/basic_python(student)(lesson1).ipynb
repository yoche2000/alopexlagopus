{
 "cells": [
  {
   "cell_type": "markdown",
   "metadata": {},
   "source": [
    "# Mean weight"
   ]
  },
  {
   "cell_type": "markdown",
   "metadata": {},
   "source": [
    "There are 3 people: John, Matt and Brian, here are their weights (in kg):\n",
    "\n",
    "|Name Weight| (in kg)|\n",
    "|-----------|--------|\n",
    "|John |60|\n",
    "|Matt |70|\n",
    "|Brian|80|\n",
    "\n",
    "\n",
    "Write a program to declare 3 variables called john, matt and brian, and store their weights respectively, then compute the mean of their weights and store the result to a variable called weight, and print it out to the console:\n",
    "\n",
    "$$weight = \\frac{john+matt+brian}{3}$$"
   ]
  },
  {
   "cell_type": "code",
   "execution_count": null,
   "metadata": {},
   "outputs": [],
   "source": [
    "# print the average weigth \n",
    "\n"
   ]
  },
  {
   "cell_type": "code",
   "execution_count": null,
   "metadata": {},
   "outputs": [],
   "source": [
    "# show the type of variable john\n",
    "\n"
   ]
  },
  {
   "cell_type": "code",
   "execution_count": null,
   "metadata": {},
   "outputs": [],
   "source": [
    "# show the type of variable weight\n",
    "\n"
   ]
  },
  {
   "cell_type": "markdown",
   "metadata": {},
   "source": [
    "Note that when int is being divided, it will be turned into float even if it is divisible"
   ]
  },
  {
   "cell_type": "markdown",
   "metadata": {},
   "source": [
    "# Is the input year this year?"
   ]
  },
  {
   "cell_type": "markdown",
   "metadata": {},
   "source": [
    "Input a 4 digits number, print True if it represents this year, otherwise print False\n",
    "\n",
    "Hint: this year is 2019, use comparison operator"
   ]
  },
  {
   "cell_type": "code",
   "execution_count": null,
   "metadata": {},
   "outputs": [],
   "source": [
    "# input a year in xxxx and print False if it is not equal to \"2019\" \n",
    "# using == operator\n",
    "\n"
   ]
  },
  {
   "cell_type": "markdown",
   "metadata": {},
   "source": [
    "Try to replace comparison operator with identity operator (is), is the result the same?"
   ]
  },
  {
   "cell_type": "code",
   "execution_count": null,
   "metadata": {},
   "outputs": [],
   "source": [
    "# input a year in xxxx and print False if it is not equal to \"2019\" \n",
    "# using is operator\n",
    "\n"
   ]
  },
  {
   "cell_type": "markdown",
   "metadata": {},
   "source": [
    "'==' is not the same as 'is'"
   ]
  },
  {
   "cell_type": "markdown",
   "metadata": {},
   "source": [
    "# Is the input year a year in the past?"
   ]
  },
  {
   "cell_type": "markdown",
   "metadata": {},
   "source": [
    "Input a 4 digits number, print True if it represents this year, otherwise print False\n",
    "\n",
    "Hint: this year is 2019, use comparison operator"
   ]
  },
  {
   "cell_type": "code",
   "execution_count": null,
   "metadata": {},
   "outputs": [],
   "source": [
    "# input a year in xxxx and print True if it is smaller than \"2019\"\n",
    "\n"
   ]
  },
  {
   "cell_type": "markdown",
   "metadata": {},
   "source": [
    "# What is the input day, month and year?"
   ]
  },
  {
   "cell_type": "markdown",
   "metadata": {},
   "source": [
    "Write a program to ask the user to input a date with the format 'dd-mm-yyyy', where 'dd' is the day, 'mm' is the month and 'yyyy' is the year.\n",
    "\n",
    "Output the day, month and year to the console separately. Assume that the user input always follows the required format.\n",
    "\n",
    "\n",
    "​"
   ]
  },
  {
   "cell_type": "code",
   "execution_count": null,
   "metadata": {},
   "outputs": [],
   "source": [
    "# Enter a date and sepearte it into day, month and year\n",
    "\n"
   ]
  },
  {
   "cell_type": "markdown",
   "metadata": {},
   "source": [
    "# Check valid phone number"
   ]
  },
  {
   "cell_type": "markdown",
   "metadata": {},
   "source": [
    "Write a program to ask the user to input a valid phone number\n",
    "\n",
    "Print out the input phone number and tell whether it is a valid phone number\n",
    "\n",
    "A valid phone number must satisfy the following conditions:\n",
    "\n",
    "Has 8 digits\n",
    "Start with the number 2, 3, 5, 6, or 9"
   ]
  },
  {
   "cell_type": "code",
   "execution_count": null,
   "metadata": {},
   "outputs": [],
   "source": [
    "# Enter the telephone number and check it is a valid telephone number using\n",
    "# string operation\n",
    "\n"
   ]
  },
  {
   "cell_type": "markdown",
   "metadata": {},
   "source": [
    "### Alternative answer using list"
   ]
  },
  {
   "cell_type": "code",
   "execution_count": null,
   "metadata": {},
   "outputs": [],
   "source": [
    "# Enter the telephone number and check it is a valid telepone number using\n",
    "# list operation\n",
    "\n"
   ]
  },
  {
   "cell_type": "markdown",
   "metadata": {},
   "source": [
    "# Check valid date\n"
   ]
  },
  {
   "cell_type": "markdown",
   "metadata": {},
   "source": [
    "Write a program to check whether an input date is a valid date\n",
    "\n",
    "A valid date must fulfill the following conditions:"
   ]
  },
  {
   "cell_type": "markdown",
   "metadata": {},
   "source": [
    "1. The input must have a format of 'dd-mm-yyyy', i.e. the length of input string is 10, the 2nd and 5th(starting from 0) char are '-', the rest are digits\n",
    "\n",
    "    For example, '14-02-2019' is a valid format, '14-2-2019' and '14-02-201x' are not valid\n",
    "\n",
    "    (Hint: You may use .isdigit() to check whether all char in the string are digits, '1234'.isdigit() returns True, '123x'.isdigit() returns False\n",
    "    \n",
    "2. 1 <= int(mm) <= 12 \n",
    "\n",
    "3. Jan, Mar, May, Jul, Aug, Oct, Dec have 31 days\n",
    "\n",
    "4. Apr, Jun, Sept, Nov have 30 days\n",
    "\n",
    "5. For leap years, Feb has 29 days, otherwise 28 days\n",
    "\n",
    "    Definition of leap years(https://www.hko.gov.hk/gts/time/basicterms-leapyear.htm): \n",
    "    - Leap years must be divsible by 4.\n",
    "    - Among the years which are divisible by 4, if it is divisible by 100 but not divisible by 400, it is not a leap year, otherwise it is a leap year.\n",
    "    - For example, 1900 is divisible by 4 and 100, but it is not divisible by 400, 1900 is not a leap year.\n",
    "    - 2000 is divisible by 4, 100 and 400, 2000 is a leap year.\n",
    "    - 1904 is divisible by 4, but it is not divisible by 100, it is a leap year.\n",
    "    \n",
    "    \n",
    "    \n",
    "   (Hint: You may store months with the same no. of days in the same list and use the membership operator 'in' to check whether the input month is in the list,\n",
    "   \n",
    "   1 in [1,2,3,4] returns True, 5 in [1,2,3,4] returns False.)\n",
    "\n"
   ]
  },
  {
   "cell_type": "code",
   "execution_count": null,
   "metadata": {},
   "outputs": [],
   "source": [
    "# check the valid date\n",
    "\n"
   ]
  }
 ],
 "metadata": {
  "kernelspec": {
   "display_name": "Python 3",
   "language": "python",
   "name": "python3"
  },
  "language_info": {
   "codemirror_mode": {
    "name": "ipython",
    "version": 3
   },
   "file_extension": ".py",
   "mimetype": "text/x-python",
   "name": "python",
   "nbconvert_exporter": "python",
   "pygments_lexer": "ipython3",
   "version": "3.7.3"
  }
 },
 "nbformat": 4,
 "nbformat_minor": 2
}
